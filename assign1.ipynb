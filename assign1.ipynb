{
 "cells": [
  {
   "cell_type": "code",
   "execution_count": 161,
   "id": "oriental-segment",
   "metadata": {},
   "outputs": [
    {
     "data": {
      "text/html": [
       "<div>\n",
       "<style scoped>\n",
       "    .dataframe tbody tr th:only-of-type {\n",
       "        vertical-align: middle;\n",
       "    }\n",
       "\n",
       "    .dataframe tbody tr th {\n",
       "        vertical-align: top;\n",
       "    }\n",
       "\n",
       "    .dataframe thead th {\n",
       "        text-align: right;\n",
       "    }\n",
       "</style>\n",
       "<table border=\"1\" class=\"dataframe\">\n",
       "  <thead>\n",
       "    <tr style=\"text-align: right;\">\n",
       "      <th></th>\n",
       "      <th>ID</th>\n",
       "      <th>HealthServiceArea</th>\n",
       "      <th>Gender</th>\n",
       "      <th>Race</th>\n",
       "      <th>TypeOfAdmission</th>\n",
       "      <th>CCSProcedureCode</th>\n",
       "      <th>APRSeverityOfIllnessCode</th>\n",
       "      <th>PaymentTypology</th>\n",
       "      <th>BirthWeight</th>\n",
       "      <th>EmergencyDepartmentIndicator</th>\n",
       "      <th>AverageCostInCounty</th>\n",
       "      <th>AverageChargesInCounty</th>\n",
       "      <th>AverageCostInFacility</th>\n",
       "      <th>AverageChargesInFacility</th>\n",
       "      <th>AverageIncomeInZipCode</th>\n",
       "      <th>LengthOfStay</th>\n",
       "    </tr>\n",
       "  </thead>\n",
       "  <tbody>\n",
       "    <tr>\n",
       "      <th>0</th>\n",
       "      <td>1</td>\n",
       "      <td>New York City</td>\n",
       "      <td>F</td>\n",
       "      <td>Other Race</td>\n",
       "      <td>Newborn</td>\n",
       "      <td>228</td>\n",
       "      <td>1</td>\n",
       "      <td>Medicaid</td>\n",
       "      <td>3700</td>\n",
       "      <td>N</td>\n",
       "      <td>2611</td>\n",
       "      <td>9227</td>\n",
       "      <td>1751</td>\n",
       "      <td>8951</td>\n",
       "      <td>45</td>\n",
       "      <td>1</td>\n",
       "    </tr>\n",
       "    <tr>\n",
       "      <th>1</th>\n",
       "      <td>2</td>\n",
       "      <td>New York City</td>\n",
       "      <td>M</td>\n",
       "      <td>Black/African American</td>\n",
       "      <td>Newborn</td>\n",
       "      <td>228</td>\n",
       "      <td>1</td>\n",
       "      <td>Medicaid</td>\n",
       "      <td>2900</td>\n",
       "      <td>N</td>\n",
       "      <td>3242</td>\n",
       "      <td>8966</td>\n",
       "      <td>3338</td>\n",
       "      <td>6409</td>\n",
       "      <td>34</td>\n",
       "      <td>1</td>\n",
       "    </tr>\n",
       "    <tr>\n",
       "      <th>2</th>\n",
       "      <td>3</td>\n",
       "      <td>New York City</td>\n",
       "      <td>M</td>\n",
       "      <td>Other Race</td>\n",
       "      <td>Newborn</td>\n",
       "      <td>220</td>\n",
       "      <td>1</td>\n",
       "      <td>Private Health Insurance</td>\n",
       "      <td>3200</td>\n",
       "      <td>N</td>\n",
       "      <td>3155</td>\n",
       "      <td>11381</td>\n",
       "      <td>4980</td>\n",
       "      <td>9323</td>\n",
       "      <td>45</td>\n",
       "      <td>1</td>\n",
       "    </tr>\n",
       "    <tr>\n",
       "      <th>3</th>\n",
       "      <td>4</td>\n",
       "      <td>New York City</td>\n",
       "      <td>F</td>\n",
       "      <td>Other Race</td>\n",
       "      <td>Newborn</td>\n",
       "      <td>0</td>\n",
       "      <td>1</td>\n",
       "      <td>Private Health Insurance</td>\n",
       "      <td>3300</td>\n",
       "      <td>N</td>\n",
       "      <td>3155</td>\n",
       "      <td>11381</td>\n",
       "      <td>5826</td>\n",
       "      <td>15680</td>\n",
       "      <td>59</td>\n",
       "      <td>1</td>\n",
       "    </tr>\n",
       "    <tr>\n",
       "      <th>4</th>\n",
       "      <td>5</td>\n",
       "      <td>New York City</td>\n",
       "      <td>F</td>\n",
       "      <td>Other Race</td>\n",
       "      <td>Newborn</td>\n",
       "      <td>228</td>\n",
       "      <td>1</td>\n",
       "      <td>Medicaid</td>\n",
       "      <td>2600</td>\n",
       "      <td>N</td>\n",
       "      <td>2611</td>\n",
       "      <td>9227</td>\n",
       "      <td>6000</td>\n",
       "      <td>14344</td>\n",
       "      <td>59</td>\n",
       "      <td>1</td>\n",
       "    </tr>\n",
       "  </tbody>\n",
       "</table>\n",
       "</div>"
      ],
      "text/plain": [
       "   ID HealthServiceArea Gender                    Race TypeOfAdmission  \\\n",
       "0   1     New York City      F              Other Race         Newborn   \n",
       "1   2     New York City      M  Black/African American         Newborn   \n",
       "2   3     New York City      M              Other Race         Newborn   \n",
       "3   4     New York City      F              Other Race         Newborn   \n",
       "4   5     New York City      F              Other Race         Newborn   \n",
       "\n",
       "   CCSProcedureCode  APRSeverityOfIllnessCode           PaymentTypology  \\\n",
       "0               228                         1                  Medicaid   \n",
       "1               228                         1                  Medicaid   \n",
       "2               220                         1  Private Health Insurance   \n",
       "3                 0                         1  Private Health Insurance   \n",
       "4               228                         1                  Medicaid   \n",
       "\n",
       "   BirthWeight EmergencyDepartmentIndicator  AverageCostInCounty  \\\n",
       "0         3700                            N                 2611   \n",
       "1         2900                            N                 3242   \n",
       "2         3200                            N                 3155   \n",
       "3         3300                            N                 3155   \n",
       "4         2600                            N                 2611   \n",
       "\n",
       "   AverageChargesInCounty  AverageCostInFacility  AverageChargesInFacility  \\\n",
       "0                    9227                   1751                      8951   \n",
       "1                    8966                   3338                      6409   \n",
       "2                   11381                   4980                      9323   \n",
       "3                   11381                   5826                     15680   \n",
       "4                    9227                   6000                     14344   \n",
       "\n",
       "   AverageIncomeInZipCode  LengthOfStay  \n",
       "0                      45             1  \n",
       "1                      34             1  \n",
       "2                      45             1  \n",
       "3                      59             1  \n",
       "4                      59             1  "
      ]
     },
     "execution_count": 161,
     "metadata": {},
     "output_type": "execute_result"
    }
   ],
   "source": [
    "import pandas as pd\n",
    "import numpy as np \n",
    "import matplotlib.pyplot as plt\n",
    "\n",
    "df = pd.read_csv(\"train_data.csv\")\n",
    "df.head()"
   ]
  },
  {
   "cell_type": "code",
   "execution_count": 162,
   "id": "exterior-credits",
   "metadata": {},
   "outputs": [
    {
     "data": {
      "text/html": [
       "<div>\n",
       "<style scoped>\n",
       "    .dataframe tbody tr th:only-of-type {\n",
       "        vertical-align: middle;\n",
       "    }\n",
       "\n",
       "    .dataframe tbody tr th {\n",
       "        vertical-align: top;\n",
       "    }\n",
       "\n",
       "    .dataframe thead th {\n",
       "        text-align: right;\n",
       "    }\n",
       "</style>\n",
       "<table border=\"1\" class=\"dataframe\">\n",
       "  <thead>\n",
       "    <tr style=\"text-align: right;\">\n",
       "      <th></th>\n",
       "      <th>Gender</th>\n",
       "      <th>Race</th>\n",
       "      <th>TypeOfAdmission</th>\n",
       "      <th>CCSProcedureCode</th>\n",
       "      <th>APRSeverityOfIllnessCode</th>\n",
       "      <th>PaymentTypology</th>\n",
       "      <th>BirthWeight</th>\n",
       "      <th>EmergencyDepartmentIndicator</th>\n",
       "      <th>AverageCostInCounty</th>\n",
       "      <th>AverageChargesInCounty</th>\n",
       "      <th>AverageCostInFacility</th>\n",
       "      <th>AverageChargesInFacility</th>\n",
       "      <th>AverageIncomeInZipCode</th>\n",
       "      <th>LengthOfStay</th>\n",
       "    </tr>\n",
       "  </thead>\n",
       "  <tbody>\n",
       "    <tr>\n",
       "      <th>0</th>\n",
       "      <td>F</td>\n",
       "      <td>Other Race</td>\n",
       "      <td>Newborn</td>\n",
       "      <td>228</td>\n",
       "      <td>1</td>\n",
       "      <td>Medicaid</td>\n",
       "      <td>3700</td>\n",
       "      <td>N</td>\n",
       "      <td>2611</td>\n",
       "      <td>9227</td>\n",
       "      <td>1751</td>\n",
       "      <td>8951</td>\n",
       "      <td>45</td>\n",
       "      <td>1</td>\n",
       "    </tr>\n",
       "    <tr>\n",
       "      <th>1</th>\n",
       "      <td>M</td>\n",
       "      <td>Black/African American</td>\n",
       "      <td>Newborn</td>\n",
       "      <td>228</td>\n",
       "      <td>1</td>\n",
       "      <td>Medicaid</td>\n",
       "      <td>2900</td>\n",
       "      <td>N</td>\n",
       "      <td>3242</td>\n",
       "      <td>8966</td>\n",
       "      <td>3338</td>\n",
       "      <td>6409</td>\n",
       "      <td>34</td>\n",
       "      <td>1</td>\n",
       "    </tr>\n",
       "    <tr>\n",
       "      <th>2</th>\n",
       "      <td>M</td>\n",
       "      <td>Other Race</td>\n",
       "      <td>Newborn</td>\n",
       "      <td>220</td>\n",
       "      <td>1</td>\n",
       "      <td>Private Health Insurance</td>\n",
       "      <td>3200</td>\n",
       "      <td>N</td>\n",
       "      <td>3155</td>\n",
       "      <td>11381</td>\n",
       "      <td>4980</td>\n",
       "      <td>9323</td>\n",
       "      <td>45</td>\n",
       "      <td>1</td>\n",
       "    </tr>\n",
       "    <tr>\n",
       "      <th>3</th>\n",
       "      <td>F</td>\n",
       "      <td>Other Race</td>\n",
       "      <td>Newborn</td>\n",
       "      <td>0</td>\n",
       "      <td>1</td>\n",
       "      <td>Private Health Insurance</td>\n",
       "      <td>3300</td>\n",
       "      <td>N</td>\n",
       "      <td>3155</td>\n",
       "      <td>11381</td>\n",
       "      <td>5826</td>\n",
       "      <td>15680</td>\n",
       "      <td>59</td>\n",
       "      <td>1</td>\n",
       "    </tr>\n",
       "    <tr>\n",
       "      <th>4</th>\n",
       "      <td>F</td>\n",
       "      <td>Other Race</td>\n",
       "      <td>Newborn</td>\n",
       "      <td>228</td>\n",
       "      <td>1</td>\n",
       "      <td>Medicaid</td>\n",
       "      <td>2600</td>\n",
       "      <td>N</td>\n",
       "      <td>2611</td>\n",
       "      <td>9227</td>\n",
       "      <td>6000</td>\n",
       "      <td>14344</td>\n",
       "      <td>59</td>\n",
       "      <td>1</td>\n",
       "    </tr>\n",
       "  </tbody>\n",
       "</table>\n",
       "</div>"
      ],
      "text/plain": [
       "  Gender                    Race TypeOfAdmission  CCSProcedureCode  \\\n",
       "0      F              Other Race         Newborn               228   \n",
       "1      M  Black/African American         Newborn               228   \n",
       "2      M              Other Race         Newborn               220   \n",
       "3      F              Other Race         Newborn                 0   \n",
       "4      F              Other Race         Newborn               228   \n",
       "\n",
       "   APRSeverityOfIllnessCode           PaymentTypology  BirthWeight  \\\n",
       "0                         1                  Medicaid         3700   \n",
       "1                         1                  Medicaid         2900   \n",
       "2                         1  Private Health Insurance         3200   \n",
       "3                         1  Private Health Insurance         3300   \n",
       "4                         1                  Medicaid         2600   \n",
       "\n",
       "  EmergencyDepartmentIndicator  AverageCostInCounty  AverageChargesInCounty  \\\n",
       "0                            N                 2611                    9227   \n",
       "1                            N                 3242                    8966   \n",
       "2                            N                 3155                   11381   \n",
       "3                            N                 3155                   11381   \n",
       "4                            N                 2611                    9227   \n",
       "\n",
       "   AverageCostInFacility  AverageChargesInFacility  AverageIncomeInZipCode  \\\n",
       "0                   1751                      8951                      45   \n",
       "1                   3338                      6409                      34   \n",
       "2                   4980                      9323                      45   \n",
       "3                   5826                     15680                      59   \n",
       "4                   6000                     14344                      59   \n",
       "\n",
       "   LengthOfStay  \n",
       "0             1  \n",
       "1             1  \n",
       "2             1  \n",
       "3             1  \n",
       "4             1  "
      ]
     },
     "execution_count": 162,
     "metadata": {},
     "output_type": "execute_result"
    }
   ],
   "source": [
    "df.drop(columns = ['ID','HealthServiceArea'],inplace=True,axis=1)\n",
    "df.head()"
   ]
  },
  {
   "cell_type": "markdown",
   "id": "public-gilbert",
   "metadata": {},
   "source": [
    "Drop the columns ID and HeatlServiceArea"
   ]
  },
  {
   "cell_type": "markdown",
   "id": "understood-alberta",
   "metadata": {},
   "source": [
    "#EDA and Statistics"
   ]
  },
  {
   "cell_type": "code",
   "execution_count": 163,
   "id": "peaceful-surge",
   "metadata": {},
   "outputs": [
    {
     "name": "stdout",
     "output_type": "stream",
     "text": [
      "<class 'pandas.core.frame.DataFrame'>\n",
      "RangeIndex: 59966 entries, 0 to 59965\n",
      "Data columns (total 14 columns):\n",
      " #   Column                        Non-Null Count  Dtype \n",
      "---  ------                        --------------  ----- \n",
      " 0   Gender                        59966 non-null  object\n",
      " 1   Race                          59966 non-null  object\n",
      " 2   TypeOfAdmission               59966 non-null  object\n",
      " 3   CCSProcedureCode              59966 non-null  int64 \n",
      " 4   APRSeverityOfIllnessCode      59966 non-null  int64 \n",
      " 5   PaymentTypology               59966 non-null  object\n",
      " 6   BirthWeight                   59966 non-null  int64 \n",
      " 7   EmergencyDepartmentIndicator  59966 non-null  object\n",
      " 8   AverageCostInCounty           59966 non-null  int64 \n",
      " 9   AverageChargesInCounty        59966 non-null  int64 \n",
      " 10  AverageCostInFacility         59966 non-null  int64 \n",
      " 11  AverageChargesInFacility      59966 non-null  int64 \n",
      " 12  AverageIncomeInZipCode        59966 non-null  int64 \n",
      " 13  LengthOfStay                  59966 non-null  int64 \n",
      "dtypes: int64(9), object(5)\n",
      "memory usage: 6.4+ MB\n"
     ]
    }
   ],
   "source": [
    "df.info()"
   ]
  },
  {
   "cell_type": "markdown",
   "id": "received-profit",
   "metadata": {},
   "source": [
    "The data has  categorical columns :\n",
    "<br> 1.Gender\n",
    "<br> 2.Race\n",
    "<br> 3.PaymentTypology\n",
    "<br> 4.Emergency Depearment Indicator \n",
    "<br> <b> Even though the columns CCSProcedureCode and APRSeverityofIllnessCode are numeric, they seem to be categorical in nature which must be verified "
   ]
  },
  {
   "cell_type": "code",
   "execution_count": 164,
   "id": "neutral-cameroon",
   "metadata": {},
   "outputs": [
    {
     "data": {
      "text/html": [
       "<div>\n",
       "<style scoped>\n",
       "    .dataframe tbody tr th:only-of-type {\n",
       "        vertical-align: middle;\n",
       "    }\n",
       "\n",
       "    .dataframe tbody tr th {\n",
       "        vertical-align: top;\n",
       "    }\n",
       "\n",
       "    .dataframe thead th {\n",
       "        text-align: right;\n",
       "    }\n",
       "</style>\n",
       "<table border=\"1\" class=\"dataframe\">\n",
       "  <thead>\n",
       "    <tr style=\"text-align: right;\">\n",
       "      <th></th>\n",
       "      <th>CCSProcedureCode</th>\n",
       "      <th>APRSeverityOfIllnessCode</th>\n",
       "      <th>BirthWeight</th>\n",
       "      <th>AverageCostInCounty</th>\n",
       "      <th>AverageChargesInCounty</th>\n",
       "      <th>AverageCostInFacility</th>\n",
       "      <th>AverageChargesInFacility</th>\n",
       "      <th>AverageIncomeInZipCode</th>\n",
       "      <th>LengthOfStay</th>\n",
       "    </tr>\n",
       "  </thead>\n",
       "  <tbody>\n",
       "    <tr>\n",
       "      <th>count</th>\n",
       "      <td>59966.000000</td>\n",
       "      <td>59966.000000</td>\n",
       "      <td>59966.000000</td>\n",
       "      <td>59966.000000</td>\n",
       "      <td>59966.000000</td>\n",
       "      <td>59966.000000</td>\n",
       "      <td>59966.000000</td>\n",
       "      <td>59966.000000</td>\n",
       "      <td>59966.000000</td>\n",
       "    </tr>\n",
       "    <tr>\n",
       "      <th>mean</th>\n",
       "      <td>155.404229</td>\n",
       "      <td>1.254594</td>\n",
       "      <td>3336.298903</td>\n",
       "      <td>2372.806690</td>\n",
       "      <td>7979.126922</td>\n",
       "      <td>2396.414318</td>\n",
       "      <td>7958.472668</td>\n",
       "      <td>59.811143</td>\n",
       "      <td>2.538405</td>\n",
       "    </tr>\n",
       "    <tr>\n",
       "      <th>std</th>\n",
       "      <td>89.541978</td>\n",
       "      <td>0.546207</td>\n",
       "      <td>446.244475</td>\n",
       "      <td>639.755096</td>\n",
       "      <td>3220.291347</td>\n",
       "      <td>1248.501189</td>\n",
       "      <td>3859.294711</td>\n",
       "      <td>21.470170</td>\n",
       "      <td>1.171246</td>\n",
       "    </tr>\n",
       "    <tr>\n",
       "      <th>min</th>\n",
       "      <td>-1.000000</td>\n",
       "      <td>1.000000</td>\n",
       "      <td>2500.000000</td>\n",
       "      <td>712.000000</td>\n",
       "      <td>1243.000000</td>\n",
       "      <td>457.000000</td>\n",
       "      <td>1120.000000</td>\n",
       "      <td>28.000000</td>\n",
       "      <td>1.000000</td>\n",
       "    </tr>\n",
       "    <tr>\n",
       "      <th>25%</th>\n",
       "      <td>115.000000</td>\n",
       "      <td>1.000000</td>\n",
       "      <td>3000.000000</td>\n",
       "      <td>2041.000000</td>\n",
       "      <td>4620.000000</td>\n",
       "      <td>1551.000000</td>\n",
       "      <td>4438.000000</td>\n",
       "      <td>45.000000</td>\n",
       "      <td>2.000000</td>\n",
       "    </tr>\n",
       "    <tr>\n",
       "      <th>50%</th>\n",
       "      <td>220.000000</td>\n",
       "      <td>1.000000</td>\n",
       "      <td>3300.000000</td>\n",
       "      <td>2533.000000</td>\n",
       "      <td>9227.000000</td>\n",
       "      <td>1967.000000</td>\n",
       "      <td>7945.000000</td>\n",
       "      <td>55.000000</td>\n",
       "      <td>2.000000</td>\n",
       "    </tr>\n",
       "    <tr>\n",
       "      <th>75%</th>\n",
       "      <td>228.000000</td>\n",
       "      <td>1.000000</td>\n",
       "      <td>3600.000000</td>\n",
       "      <td>2785.000000</td>\n",
       "      <td>10644.000000</td>\n",
       "      <td>2895.000000</td>\n",
       "      <td>11619.000000</td>\n",
       "      <td>74.000000</td>\n",
       "      <td>3.000000</td>\n",
       "    </tr>\n",
       "    <tr>\n",
       "      <th>max</th>\n",
       "      <td>231.000000</td>\n",
       "      <td>4.000000</td>\n",
       "      <td>7500.000000</td>\n",
       "      <td>3242.000000</td>\n",
       "      <td>11381.000000</td>\n",
       "      <td>8114.000000</td>\n",
       "      <td>18466.000000</td>\n",
       "      <td>115.000000</td>\n",
       "      <td>10.000000</td>\n",
       "    </tr>\n",
       "  </tbody>\n",
       "</table>\n",
       "</div>"
      ],
      "text/plain": [
       "       CCSProcedureCode  APRSeverityOfIllnessCode   BirthWeight  \\\n",
       "count      59966.000000              59966.000000  59966.000000   \n",
       "mean         155.404229                  1.254594   3336.298903   \n",
       "std           89.541978                  0.546207    446.244475   \n",
       "min           -1.000000                  1.000000   2500.000000   \n",
       "25%          115.000000                  1.000000   3000.000000   \n",
       "50%          220.000000                  1.000000   3300.000000   \n",
       "75%          228.000000                  1.000000   3600.000000   \n",
       "max          231.000000                  4.000000   7500.000000   \n",
       "\n",
       "       AverageCostInCounty  AverageChargesInCounty  AverageCostInFacility  \\\n",
       "count         59966.000000            59966.000000           59966.000000   \n",
       "mean           2372.806690             7979.126922            2396.414318   \n",
       "std             639.755096             3220.291347            1248.501189   \n",
       "min             712.000000             1243.000000             457.000000   \n",
       "25%            2041.000000             4620.000000            1551.000000   \n",
       "50%            2533.000000             9227.000000            1967.000000   \n",
       "75%            2785.000000            10644.000000            2895.000000   \n",
       "max            3242.000000            11381.000000            8114.000000   \n",
       "\n",
       "       AverageChargesInFacility  AverageIncomeInZipCode  LengthOfStay  \n",
       "count              59966.000000            59966.000000  59966.000000  \n",
       "mean                7958.472668               59.811143      2.538405  \n",
       "std                 3859.294711               21.470170      1.171246  \n",
       "min                 1120.000000               28.000000      1.000000  \n",
       "25%                 4438.000000               45.000000      2.000000  \n",
       "50%                 7945.000000               55.000000      2.000000  \n",
       "75%                11619.000000               74.000000      3.000000  \n",
       "max                18466.000000              115.000000     10.000000  "
      ]
     },
     "execution_count": 164,
     "metadata": {},
     "output_type": "execute_result"
    }
   ],
   "source": [
    "df.describe()"
   ]
  },
  {
   "cell_type": "markdown",
   "id": "suspected-reporter",
   "metadata": {},
   "source": [
    "Few observations from the description statistics:\n",
    "    <br>1. The average LengthOfStay(LOS) is 2.53 and the min=1 and max=10\n",
    "    <br>2. The average AverageCostInCounty is 2372 and AvergaeChargesInCounty is 7979 . whats the correlatio between these two ?\n",
    "    <br><b> It would be intersting toobserve the correlation between these and the LengthOfStay(LOS)"
   ]
  },
  {
   "cell_type": "code",
   "execution_count": 165,
   "id": "divine-carry",
   "metadata": {},
   "outputs": [
    {
     "data": {
      "text/html": [
       "<div>\n",
       "<style scoped>\n",
       "    .dataframe tbody tr th:only-of-type {\n",
       "        vertical-align: middle;\n",
       "    }\n",
       "\n",
       "    .dataframe tbody tr th {\n",
       "        vertical-align: top;\n",
       "    }\n",
       "\n",
       "    .dataframe thead th {\n",
       "        text-align: right;\n",
       "    }\n",
       "</style>\n",
       "<table border=\"1\" class=\"dataframe\">\n",
       "  <thead>\n",
       "    <tr style=\"text-align: right;\">\n",
       "      <th></th>\n",
       "      <th>Gender</th>\n",
       "      <th>Race</th>\n",
       "      <th>TypeOfAdmission</th>\n",
       "      <th>CCSProcedureCode</th>\n",
       "      <th>APRSeverityOfIllnessCode</th>\n",
       "      <th>PaymentTypology</th>\n",
       "      <th>BirthWeight</th>\n",
       "      <th>EmergencyDepartmentIndicator</th>\n",
       "      <th>AverageCostInCounty</th>\n",
       "      <th>AverageChargesInCounty</th>\n",
       "      <th>AverageCostInFacility</th>\n",
       "      <th>AverageChargesInFacility</th>\n",
       "      <th>AverageIncomeInZipCode</th>\n",
       "    </tr>\n",
       "    <tr>\n",
       "      <th>LengthOfStay</th>\n",
       "      <th></th>\n",
       "      <th></th>\n",
       "      <th></th>\n",
       "      <th></th>\n",
       "      <th></th>\n",
       "      <th></th>\n",
       "      <th></th>\n",
       "      <th></th>\n",
       "      <th></th>\n",
       "      <th></th>\n",
       "      <th></th>\n",
       "      <th></th>\n",
       "      <th></th>\n",
       "    </tr>\n",
       "  </thead>\n",
       "  <tbody>\n",
       "    <tr>\n",
       "      <th>1</th>\n",
       "      <td>8895</td>\n",
       "      <td>8895</td>\n",
       "      <td>8895</td>\n",
       "      <td>8895</td>\n",
       "      <td>8895</td>\n",
       "      <td>8895</td>\n",
       "      <td>8895</td>\n",
       "      <td>8895</td>\n",
       "      <td>8895</td>\n",
       "      <td>8895</td>\n",
       "      <td>8895</td>\n",
       "      <td>8895</td>\n",
       "      <td>8895</td>\n",
       "    </tr>\n",
       "    <tr>\n",
       "      <th>2</th>\n",
       "      <td>25000</td>\n",
       "      <td>25000</td>\n",
       "      <td>25000</td>\n",
       "      <td>25000</td>\n",
       "      <td>25000</td>\n",
       "      <td>25000</td>\n",
       "      <td>25000</td>\n",
       "      <td>25000</td>\n",
       "      <td>25000</td>\n",
       "      <td>25000</td>\n",
       "      <td>25000</td>\n",
       "      <td>25000</td>\n",
       "      <td>25000</td>\n",
       "    </tr>\n",
       "    <tr>\n",
       "      <th>3</th>\n",
       "      <td>16000</td>\n",
       "      <td>16000</td>\n",
       "      <td>16000</td>\n",
       "      <td>16000</td>\n",
       "      <td>16000</td>\n",
       "      <td>16000</td>\n",
       "      <td>16000</td>\n",
       "      <td>16000</td>\n",
       "      <td>16000</td>\n",
       "      <td>16000</td>\n",
       "      <td>16000</td>\n",
       "      <td>16000</td>\n",
       "      <td>16000</td>\n",
       "    </tr>\n",
       "    <tr>\n",
       "      <th>4</th>\n",
       "      <td>7504</td>\n",
       "      <td>7504</td>\n",
       "      <td>7504</td>\n",
       "      <td>7504</td>\n",
       "      <td>7504</td>\n",
       "      <td>7504</td>\n",
       "      <td>7504</td>\n",
       "      <td>7504</td>\n",
       "      <td>7504</td>\n",
       "      <td>7504</td>\n",
       "      <td>7504</td>\n",
       "      <td>7504</td>\n",
       "      <td>7504</td>\n",
       "    </tr>\n",
       "    <tr>\n",
       "      <th>5</th>\n",
       "      <td>1342</td>\n",
       "      <td>1342</td>\n",
       "      <td>1342</td>\n",
       "      <td>1342</td>\n",
       "      <td>1342</td>\n",
       "      <td>1342</td>\n",
       "      <td>1342</td>\n",
       "      <td>1342</td>\n",
       "      <td>1342</td>\n",
       "      <td>1342</td>\n",
       "      <td>1342</td>\n",
       "      <td>1342</td>\n",
       "      <td>1342</td>\n",
       "    </tr>\n",
       "    <tr>\n",
       "      <th>6</th>\n",
       "      <td>557</td>\n",
       "      <td>557</td>\n",
       "      <td>557</td>\n",
       "      <td>557</td>\n",
       "      <td>557</td>\n",
       "      <td>557</td>\n",
       "      <td>557</td>\n",
       "      <td>557</td>\n",
       "      <td>557</td>\n",
       "      <td>557</td>\n",
       "      <td>557</td>\n",
       "      <td>557</td>\n",
       "      <td>557</td>\n",
       "    </tr>\n",
       "    <tr>\n",
       "      <th>7</th>\n",
       "      <td>346</td>\n",
       "      <td>346</td>\n",
       "      <td>346</td>\n",
       "      <td>346</td>\n",
       "      <td>346</td>\n",
       "      <td>346</td>\n",
       "      <td>346</td>\n",
       "      <td>346</td>\n",
       "      <td>346</td>\n",
       "      <td>346</td>\n",
       "      <td>346</td>\n",
       "      <td>346</td>\n",
       "      <td>346</td>\n",
       "    </tr>\n",
       "    <tr>\n",
       "      <th>8</th>\n",
       "      <td>145</td>\n",
       "      <td>145</td>\n",
       "      <td>145</td>\n",
       "      <td>145</td>\n",
       "      <td>145</td>\n",
       "      <td>145</td>\n",
       "      <td>145</td>\n",
       "      <td>145</td>\n",
       "      <td>145</td>\n",
       "      <td>145</td>\n",
       "      <td>145</td>\n",
       "      <td>145</td>\n",
       "      <td>145</td>\n",
       "    </tr>\n",
       "    <tr>\n",
       "      <th>9</th>\n",
       "      <td>97</td>\n",
       "      <td>97</td>\n",
       "      <td>97</td>\n",
       "      <td>97</td>\n",
       "      <td>97</td>\n",
       "      <td>97</td>\n",
       "      <td>97</td>\n",
       "      <td>97</td>\n",
       "      <td>97</td>\n",
       "      <td>97</td>\n",
       "      <td>97</td>\n",
       "      <td>97</td>\n",
       "      <td>97</td>\n",
       "    </tr>\n",
       "    <tr>\n",
       "      <th>10</th>\n",
       "      <td>80</td>\n",
       "      <td>80</td>\n",
       "      <td>80</td>\n",
       "      <td>80</td>\n",
       "      <td>80</td>\n",
       "      <td>80</td>\n",
       "      <td>80</td>\n",
       "      <td>80</td>\n",
       "      <td>80</td>\n",
       "      <td>80</td>\n",
       "      <td>80</td>\n",
       "      <td>80</td>\n",
       "      <td>80</td>\n",
       "    </tr>\n",
       "  </tbody>\n",
       "</table>\n",
       "</div>"
      ],
      "text/plain": [
       "              Gender   Race  TypeOfAdmission  CCSProcedureCode  \\\n",
       "LengthOfStay                                                     \n",
       "1               8895   8895             8895              8895   \n",
       "2              25000  25000            25000             25000   \n",
       "3              16000  16000            16000             16000   \n",
       "4               7504   7504             7504              7504   \n",
       "5               1342   1342             1342              1342   \n",
       "6                557    557              557               557   \n",
       "7                346    346              346               346   \n",
       "8                145    145              145               145   \n",
       "9                 97     97               97                97   \n",
       "10                80     80               80                80   \n",
       "\n",
       "              APRSeverityOfIllnessCode  PaymentTypology  BirthWeight  \\\n",
       "LengthOfStay                                                           \n",
       "1                                 8895             8895         8895   \n",
       "2                                25000            25000        25000   \n",
       "3                                16000            16000        16000   \n",
       "4                                 7504             7504         7504   \n",
       "5                                 1342             1342         1342   \n",
       "6                                  557              557          557   \n",
       "7                                  346              346          346   \n",
       "8                                  145              145          145   \n",
       "9                                   97               97           97   \n",
       "10                                  80               80           80   \n",
       "\n",
       "              EmergencyDepartmentIndicator  AverageCostInCounty  \\\n",
       "LengthOfStay                                                      \n",
       "1                                     8895                 8895   \n",
       "2                                    25000                25000   \n",
       "3                                    16000                16000   \n",
       "4                                     7504                 7504   \n",
       "5                                     1342                 1342   \n",
       "6                                      557                  557   \n",
       "7                                      346                  346   \n",
       "8                                      145                  145   \n",
       "9                                       97                   97   \n",
       "10                                      80                   80   \n",
       "\n",
       "              AverageChargesInCounty  AverageCostInFacility  \\\n",
       "LengthOfStay                                                  \n",
       "1                               8895                   8895   \n",
       "2                              25000                  25000   \n",
       "3                              16000                  16000   \n",
       "4                               7504                   7504   \n",
       "5                               1342                   1342   \n",
       "6                                557                    557   \n",
       "7                                346                    346   \n",
       "8                                145                    145   \n",
       "9                                 97                     97   \n",
       "10                                80                     80   \n",
       "\n",
       "              AverageChargesInFacility  AverageIncomeInZipCode  \n",
       "LengthOfStay                                                    \n",
       "1                                 8895                    8895  \n",
       "2                                25000                   25000  \n",
       "3                                16000                   16000  \n",
       "4                                 7504                    7504  \n",
       "5                                 1342                    1342  \n",
       "6                                  557                     557  \n",
       "7                                  346                     346  \n",
       "8                                  145                     145  \n",
       "9                                   97                      97  \n",
       "10                                  80                      80  "
      ]
     },
     "execution_count": 165,
     "metadata": {},
     "output_type": "execute_result"
    }
   ],
   "source": [
    "col_values = df['LengthOfStay'].values\n",
    "df.groupby(['LengthOfStay']).count()\n",
    "#unique_val = pd.unique(col_values)\n",
    "#print(sorted(unique_val))"
   ]
  },
  {
   "cell_type": "markdown",
   "id": "hungry-symphony",
   "metadata": {},
   "source": [
    "The examples with < 4 days is 49895 and 10,071 >=4 days .\n",
    "<br> 1. (<  4 days) => 83.36 %\n",
    "<br> 2. (>=4 days) => 16.64 %\n",
    "\n"
   ]
  },
  {
   "cell_type": "code",
   "execution_count": 166,
   "id": "naked-kuwait",
   "metadata": {},
   "outputs": [],
   "source": [
    "#So lets change the LengthOfStay \n",
    "def change_los(x):\n",
    "    if x < 4:\n",
    "        return 0\n",
    "    return 1\n",
    "df['LengthOfStay'] = df['LengthOfStay'].apply(change_los)"
   ]
  },
  {
   "cell_type": "code",
   "execution_count": 167,
   "id": "valid-nurse",
   "metadata": {},
   "outputs": [
    {
     "data": {
      "text/html": [
       "<div>\n",
       "<style scoped>\n",
       "    .dataframe tbody tr th:only-of-type {\n",
       "        vertical-align: middle;\n",
       "    }\n",
       "\n",
       "    .dataframe tbody tr th {\n",
       "        vertical-align: top;\n",
       "    }\n",
       "\n",
       "    .dataframe thead th {\n",
       "        text-align: right;\n",
       "    }\n",
       "</style>\n",
       "<table border=\"1\" class=\"dataframe\">\n",
       "  <thead>\n",
       "    <tr style=\"text-align: right;\">\n",
       "      <th></th>\n",
       "      <th>Gender</th>\n",
       "      <th>Race</th>\n",
       "      <th>TypeOfAdmission</th>\n",
       "      <th>CCSProcedureCode</th>\n",
       "      <th>APRSeverityOfIllnessCode</th>\n",
       "      <th>PaymentTypology</th>\n",
       "      <th>BirthWeight</th>\n",
       "      <th>EmergencyDepartmentIndicator</th>\n",
       "      <th>AverageCostInCounty</th>\n",
       "      <th>AverageChargesInCounty</th>\n",
       "      <th>AverageCostInFacility</th>\n",
       "      <th>AverageChargesInFacility</th>\n",
       "      <th>AverageIncomeInZipCode</th>\n",
       "      <th>LengthOfStay</th>\n",
       "    </tr>\n",
       "  </thead>\n",
       "  <tbody>\n",
       "    <tr>\n",
       "      <th>0</th>\n",
       "      <td>F</td>\n",
       "      <td>Other Race</td>\n",
       "      <td>Newborn</td>\n",
       "      <td>228</td>\n",
       "      <td>1</td>\n",
       "      <td>Medicaid</td>\n",
       "      <td>3700</td>\n",
       "      <td>N</td>\n",
       "      <td>2611</td>\n",
       "      <td>9227</td>\n",
       "      <td>1751</td>\n",
       "      <td>8951</td>\n",
       "      <td>45</td>\n",
       "      <td>0</td>\n",
       "    </tr>\n",
       "    <tr>\n",
       "      <th>1</th>\n",
       "      <td>M</td>\n",
       "      <td>Black/African American</td>\n",
       "      <td>Newborn</td>\n",
       "      <td>228</td>\n",
       "      <td>1</td>\n",
       "      <td>Medicaid</td>\n",
       "      <td>2900</td>\n",
       "      <td>N</td>\n",
       "      <td>3242</td>\n",
       "      <td>8966</td>\n",
       "      <td>3338</td>\n",
       "      <td>6409</td>\n",
       "      <td>34</td>\n",
       "      <td>0</td>\n",
       "    </tr>\n",
       "    <tr>\n",
       "      <th>2</th>\n",
       "      <td>M</td>\n",
       "      <td>Other Race</td>\n",
       "      <td>Newborn</td>\n",
       "      <td>220</td>\n",
       "      <td>1</td>\n",
       "      <td>Private Health Insurance</td>\n",
       "      <td>3200</td>\n",
       "      <td>N</td>\n",
       "      <td>3155</td>\n",
       "      <td>11381</td>\n",
       "      <td>4980</td>\n",
       "      <td>9323</td>\n",
       "      <td>45</td>\n",
       "      <td>0</td>\n",
       "    </tr>\n",
       "  </tbody>\n",
       "</table>\n",
       "</div>"
      ],
      "text/plain": [
       "  Gender                    Race TypeOfAdmission  CCSProcedureCode  \\\n",
       "0      F              Other Race         Newborn               228   \n",
       "1      M  Black/African American         Newborn               228   \n",
       "2      M              Other Race         Newborn               220   \n",
       "\n",
       "   APRSeverityOfIllnessCode           PaymentTypology  BirthWeight  \\\n",
       "0                         1                  Medicaid         3700   \n",
       "1                         1                  Medicaid         2900   \n",
       "2                         1  Private Health Insurance         3200   \n",
       "\n",
       "  EmergencyDepartmentIndicator  AverageCostInCounty  AverageChargesInCounty  \\\n",
       "0                            N                 2611                    9227   \n",
       "1                            N                 3242                    8966   \n",
       "2                            N                 3155                   11381   \n",
       "\n",
       "   AverageCostInFacility  AverageChargesInFacility  AverageIncomeInZipCode  \\\n",
       "0                   1751                      8951                      45   \n",
       "1                   3338                      6409                      34   \n",
       "2                   4980                      9323                      45   \n",
       "\n",
       "   LengthOfStay  \n",
       "0             0  \n",
       "1             0  \n",
       "2             0  "
      ]
     },
     "execution_count": 167,
     "metadata": {},
     "output_type": "execute_result"
    }
   ],
   "source": [
    "df.head(3)"
   ]
  },
  {
   "cell_type": "code",
   "execution_count": 168,
   "id": "above-cheat",
   "metadata": {},
   "outputs": [
    {
     "data": {
      "text/html": [
       "<div>\n",
       "<style scoped>\n",
       "    .dataframe tbody tr th:only-of-type {\n",
       "        vertical-align: middle;\n",
       "    }\n",
       "\n",
       "    .dataframe tbody tr th {\n",
       "        vertical-align: top;\n",
       "    }\n",
       "\n",
       "    .dataframe thead th {\n",
       "        text-align: right;\n",
       "    }\n",
       "</style>\n",
       "<table border=\"1\" class=\"dataframe\">\n",
       "  <thead>\n",
       "    <tr style=\"text-align: right;\">\n",
       "      <th></th>\n",
       "      <th>Gender</th>\n",
       "      <th>Race</th>\n",
       "      <th>TypeOfAdmission</th>\n",
       "      <th>CCSProcedureCode</th>\n",
       "      <th>APRSeverityOfIllnessCode</th>\n",
       "      <th>PaymentTypology</th>\n",
       "      <th>BirthWeight</th>\n",
       "      <th>EmergencyDepartmentIndicator</th>\n",
       "      <th>AverageCostInCounty</th>\n",
       "      <th>AverageChargesInCounty</th>\n",
       "      <th>AverageCostInFacility</th>\n",
       "      <th>AverageChargesInFacility</th>\n",
       "      <th>AverageIncomeInZipCode</th>\n",
       "    </tr>\n",
       "    <tr>\n",
       "      <th>LengthOfStay</th>\n",
       "      <th></th>\n",
       "      <th></th>\n",
       "      <th></th>\n",
       "      <th></th>\n",
       "      <th></th>\n",
       "      <th></th>\n",
       "      <th></th>\n",
       "      <th></th>\n",
       "      <th></th>\n",
       "      <th></th>\n",
       "      <th></th>\n",
       "      <th></th>\n",
       "      <th></th>\n",
       "    </tr>\n",
       "  </thead>\n",
       "  <tbody>\n",
       "    <tr>\n",
       "      <th>0</th>\n",
       "      <td>49895</td>\n",
       "      <td>49895</td>\n",
       "      <td>49895</td>\n",
       "      <td>49895</td>\n",
       "      <td>49895</td>\n",
       "      <td>49895</td>\n",
       "      <td>49895</td>\n",
       "      <td>49895</td>\n",
       "      <td>49895</td>\n",
       "      <td>49895</td>\n",
       "      <td>49895</td>\n",
       "      <td>49895</td>\n",
       "      <td>49895</td>\n",
       "    </tr>\n",
       "    <tr>\n",
       "      <th>1</th>\n",
       "      <td>10071</td>\n",
       "      <td>10071</td>\n",
       "      <td>10071</td>\n",
       "      <td>10071</td>\n",
       "      <td>10071</td>\n",
       "      <td>10071</td>\n",
       "      <td>10071</td>\n",
       "      <td>10071</td>\n",
       "      <td>10071</td>\n",
       "      <td>10071</td>\n",
       "      <td>10071</td>\n",
       "      <td>10071</td>\n",
       "      <td>10071</td>\n",
       "    </tr>\n",
       "  </tbody>\n",
       "</table>\n",
       "</div>"
      ],
      "text/plain": [
       "              Gender   Race  TypeOfAdmission  CCSProcedureCode  \\\n",
       "LengthOfStay                                                     \n",
       "0              49895  49895            49895             49895   \n",
       "1              10071  10071            10071             10071   \n",
       "\n",
       "              APRSeverityOfIllnessCode  PaymentTypology  BirthWeight  \\\n",
       "LengthOfStay                                                           \n",
       "0                                49895            49895        49895   \n",
       "1                                10071            10071        10071   \n",
       "\n",
       "              EmergencyDepartmentIndicator  AverageCostInCounty  \\\n",
       "LengthOfStay                                                      \n",
       "0                                    49895                49895   \n",
       "1                                    10071                10071   \n",
       "\n",
       "              AverageChargesInCounty  AverageCostInFacility  \\\n",
       "LengthOfStay                                                  \n",
       "0                              49895                  49895   \n",
       "1                              10071                  10071   \n",
       "\n",
       "              AverageChargesInFacility  AverageIncomeInZipCode  \n",
       "LengthOfStay                                                    \n",
       "0                                49895                   49895  \n",
       "1                                10071                   10071  "
      ]
     },
     "execution_count": 168,
     "metadata": {},
     "output_type": "execute_result"
    }
   ],
   "source": [
    "col_values = df['LengthOfStay'].values\n",
    "df.groupby(['LengthOfStay']).count()"
   ]
  },
  {
   "cell_type": "markdown",
   "id": "cooked-reference",
   "metadata": {},
   "source": [
    "<b> So the above change was successful and this confirms our previous undesrtanding that the dat contains samples LOS < 4 "
   ]
  },
  {
   "cell_type": "markdown",
   "id": "starting-arcade",
   "metadata": {},
   "source": [
    "Lets now look at if there any NULL values "
   ]
  },
  {
   "cell_type": "code",
   "execution_count": 169,
   "id": "empirical-decline",
   "metadata": {},
   "outputs": [
    {
     "data": {
      "text/plain": [
       "Gender                          False\n",
       "Race                            False\n",
       "TypeOfAdmission                 False\n",
       "CCSProcedureCode                False\n",
       "APRSeverityOfIllnessCode        False\n",
       "PaymentTypology                 False\n",
       "BirthWeight                     False\n",
       "EmergencyDepartmentIndicator    False\n",
       "AverageCostInCounty             False\n",
       "AverageChargesInCounty          False\n",
       "AverageCostInFacility           False\n",
       "AverageChargesInFacility        False\n",
       "AverageIncomeInZipCode          False\n",
       "LengthOfStay                    False\n",
       "dtype: bool"
      ]
     },
     "execution_count": 169,
     "metadata": {},
     "output_type": "execute_result"
    }
   ],
   "source": [
    "df.isnull().any()"
   ]
  },
  {
   "cell_type": "markdown",
   "id": "specialized-stockholm",
   "metadata": {},
   "source": [
    "<b> So the dataset doesnot contain any NULL values "
   ]
  },
  {
   "cell_type": "markdown",
   "id": "norwegian-homework",
   "metadata": {},
   "source": [
    "#<b> Now lets do some data visualzation and find the distribution of the atributes and their correlation"
   ]
  },
  {
   "cell_type": "code",
   "execution_count": 170,
   "id": "representative-impossible",
   "metadata": {},
   "outputs": [
    {
     "data": {
      "image/png": "[encoded data removed]",
      "text/plain": [
       "<Figure size 4320x4320 with 14 Axes>"
      ]
     },
     "metadata": {
      "needs_background": "light"
     },
     "output_type": "display_data"
    }
   ],
   "source": [
    "plt.figure(figsize=(60,60))\n",
    "#plt.figure(figsize=(6,6))\n",
    "for i,col in enumerate(df.columns):\n",
    "    plt.subplot(6,6,i+1)\n",
    "    plt.hist(df[col],alpha=0.3, color= 'b',density=True)\n",
    "    plt.title(col)\n",
    "    plt.xticks(rotation='vertical')"
   ]
  },
  {
   "cell_type": "code",
   "execution_count": 171,
   "id": "beginning-repeat",
   "metadata": {},
   "outputs": [
    {
     "data": {
      "text/html": [
       "<div>\n",
       "<style scoped>\n",
       "    .dataframe tbody tr th:only-of-type {\n",
       "        vertical-align: middle;\n",
       "    }\n",
       "\n",
       "    .dataframe tbody tr th {\n",
       "        vertical-align: top;\n",
       "    }\n",
       "\n",
       "    .dataframe thead th {\n",
       "        text-align: right;\n",
       "    }\n",
       "</style>\n",
       "<table border=\"1\" class=\"dataframe\">\n",
       "  <thead>\n",
       "    <tr style=\"text-align: right;\">\n",
       "      <th></th>\n",
       "      <th>Gender</th>\n",
       "    </tr>\n",
       "    <tr>\n",
       "      <th>Race</th>\n",
       "      <th></th>\n",
       "    </tr>\n",
       "  </thead>\n",
       "  <tbody>\n",
       "    <tr>\n",
       "      <th>Black/African American</th>\n",
       "      <td>8183</td>\n",
       "    </tr>\n",
       "    <tr>\n",
       "      <th>Multi-racial</th>\n",
       "      <td>526</td>\n",
       "    </tr>\n",
       "    <tr>\n",
       "      <th>Other Race</th>\n",
       "      <td>18314</td>\n",
       "    </tr>\n",
       "    <tr>\n",
       "      <th>White</th>\n",
       "      <td>32943</td>\n",
       "    </tr>\n",
       "  </tbody>\n",
       "</table>\n",
       "</div>"
      ],
      "text/plain": [
       "                        Gender\n",
       "Race                          \n",
       "Black/African American    8183\n",
       "Multi-racial               526\n",
       "Other Race               18314\n",
       "White                    32943"
      ]
     },
     "execution_count": 171,
     "metadata": {},
     "output_type": "execute_result"
    }
   ],
   "source": [
    "\n",
    "df[['Race','Gender']].groupby(['Race']).count()\n"
   ]
  },
  {
   "cell_type": "code",
   "execution_count": 172,
   "id": "ordered-poetry",
   "metadata": {},
   "outputs": [
    {
     "data": {
      "text/html": [
       "<div>\n",
       "<style scoped>\n",
       "    .dataframe tbody tr th:only-of-type {\n",
       "        vertical-align: middle;\n",
       "    }\n",
       "\n",
       "    .dataframe tbody tr th {\n",
       "        vertical-align: top;\n",
       "    }\n",
       "\n",
       "    .dataframe thead th {\n",
       "        text-align: right;\n",
       "    }\n",
       "</style>\n",
       "<table border=\"1\" class=\"dataframe\">\n",
       "  <thead>\n",
       "    <tr style=\"text-align: right;\">\n",
       "      <th></th>\n",
       "      <th>Race</th>\n",
       "    </tr>\n",
       "    <tr>\n",
       "      <th>Gender</th>\n",
       "      <th></th>\n",
       "    </tr>\n",
       "  </thead>\n",
       "  <tbody>\n",
       "    <tr>\n",
       "      <th>F</th>\n",
       "      <td>28987</td>\n",
       "    </tr>\n",
       "    <tr>\n",
       "      <th>M</th>\n",
       "      <td>30978</td>\n",
       "    </tr>\n",
       "    <tr>\n",
       "      <th>U</th>\n",
       "      <td>1</td>\n",
       "    </tr>\n",
       "  </tbody>\n",
       "</table>\n",
       "</div>"
      ],
      "text/plain": [
       "         Race\n",
       "Gender       \n",
       "F       28987\n",
       "M       30978\n",
       "U           1"
      ]
     },
     "execution_count": 172,
     "metadata": {},
     "output_type": "execute_result"
    }
   ],
   "source": [
    "df[['Race','Gender']].groupby(['Gender']).count()"
   ]
  },
  {
   "cell_type": "markdown",
   "id": "complex-lodge",
   "metadata": {},
   "source": [
    "Key takeaways from the sample given:\n",
    "    <br>Definitely the classes are imbalanced with respect to LengthofStay as the measure \n",
    "    <br> Females are 48.34 % and males form 51.66 % of the samples \n",
    "    <br> Whites are 54.94% ,30.54% other race and 13.65% Black/African American and remaining Multi racial \n",
    "   "
   ]
  },
  {
   "cell_type": "code",
   "execution_count": 173,
   "id": "advance-spine",
   "metadata": {},
   "outputs": [
    {
     "data": {
      "text/html": [
       "<div>\n",
       "<style scoped>\n",
       "    .dataframe tbody tr th:only-of-type {\n",
       "        vertical-align: middle;\n",
       "    }\n",
       "\n",
       "    .dataframe tbody tr th {\n",
       "        vertical-align: top;\n",
       "    }\n",
       "\n",
       "    .dataframe thead th {\n",
       "        text-align: right;\n",
       "    }\n",
       "</style>\n",
       "<table border=\"1\" class=\"dataframe\">\n",
       "  <thead>\n",
       "    <tr style=\"text-align: right;\">\n",
       "      <th></th>\n",
       "      <th>Race</th>\n",
       "    </tr>\n",
       "    <tr>\n",
       "      <th>TypeOfAdmission</th>\n",
       "      <th></th>\n",
       "    </tr>\n",
       "  </thead>\n",
       "  <tbody>\n",
       "    <tr>\n",
       "      <th>Elective</th>\n",
       "      <td>154</td>\n",
       "    </tr>\n",
       "    <tr>\n",
       "      <th>Emergency</th>\n",
       "      <td>659</td>\n",
       "    </tr>\n",
       "    <tr>\n",
       "      <th>Newborn</th>\n",
       "      <td>58741</td>\n",
       "    </tr>\n",
       "    <tr>\n",
       "      <th>Urgent</th>\n",
       "      <td>412</td>\n",
       "    </tr>\n",
       "  </tbody>\n",
       "</table>\n",
       "</div>"
      ],
      "text/plain": [
       "                  Race\n",
       "TypeOfAdmission       \n",
       "Elective           154\n",
       "Emergency          659\n",
       "Newborn          58741\n",
       "Urgent             412"
      ]
     },
     "execution_count": 173,
     "metadata": {},
     "output_type": "execute_result"
    }
   ],
   "source": [
    "df[['Race','TypeOfAdmission']].groupby(['TypeOfAdmission']).count()"
   ]
  },
  {
   "cell_type": "markdown",
   "id": "sufficient-packaging",
   "metadata": {},
   "source": [
    "The large number of observations are related to Newborn (97.96%) with next highest being Emrgencies followed by Urgent and the lective samples are very eless"
   ]
  },
  {
   "cell_type": "markdown",
   "id": "western-prior",
   "metadata": {},
   "source": [
    "<b>So the next line of thoughts are to handle the Categorical variables and look at the distribution of the  attributes "
   ]
  },
  {
   "cell_type": "code",
   "execution_count": 174,
   "id": "fluid-champagne",
   "metadata": {},
   "outputs": [
    {
     "data": {
      "text/plain": [
       "(array([4.03628723e-04, 8.36907581e-04, 5.80362205e-04, 1.55488110e-04,\n",
       "        2.07450889e-05, 2.10119067e-06, 3.33522329e-07, 3.00170096e-07,\n",
       "        1.00056699e-07, 3.33522329e-08]),\n",
       " array([2500., 3000., 3500., 4000., 4500., 5000., 5500., 6000., 6500.,\n",
       "        7000., 7500.]),\n",
       " <BarContainer object of 10 artists>)"
      ]
     },
     "execution_count": 174,
     "metadata": {},
     "output_type": "execute_result"
    },
    {
     "data": {
      "image/png": "[encoded data removed]",
      "text/plain": [
       "<Figure size 432x288 with 1 Axes>"
      ]
     },
     "metadata": {
      "needs_background": "light"
     },
     "output_type": "display_data"
    }
   ],
   "source": [
    "  plt.hist(df['BirthWeight'],alpha=0.3, color= 'b',density=True)"
   ]
  },
  {
   "cell_type": "code",
   "execution_count": 175,
   "id": "outstanding-treasurer",
   "metadata": {},
   "outputs": [
    {
     "data": {
      "text/plain": [
       "7500"
      ]
     },
     "execution_count": 175,
     "metadata": {},
     "output_type": "execute_result"
    }
   ],
   "source": [
    "df['BirthWeight'].max()"
   ]
  },
  {
   "cell_type": "code",
   "execution_count": 176,
   "id": "second-decline",
   "metadata": {},
   "outputs": [
    {
     "data": {
      "text/plain": [
       "2500"
      ]
     },
     "execution_count": 176,
     "metadata": {},
     "output_type": "execute_result"
    }
   ],
   "source": [
    "df['BirthWeight'].min()"
   ]
  },
  {
   "cell_type": "markdown",
   "id": "supreme-parker",
   "metadata": {},
   "source": [
    "So the birth wight of 7500 looks like an outlier and we cannot assume the distribution is skewed rather anything above 5000 must be assumned to be an outlier condition"
   ]
  },
  {
   "cell_type": "code",
   "execution_count": 177,
   "id": "mighty-chassis",
   "metadata": {},
   "outputs": [
    {
     "data": {
      "text/plain": [
       "(array([0.00859539, 0.        , 0.        , 0.        , 0.        ,\n",
       "        0.00979578, 0.        , 0.        , 0.        , 0.02471228]),\n",
       " array([ -1. ,  22.2,  45.4,  68.6,  91.8, 115. , 138.2, 161.4, 184.6,\n",
       "        207.8, 231. ]),\n",
       " <BarContainer object of 10 artists>)"
      ]
     },
     "execution_count": 177,
     "metadata": {},
     "output_type": "execute_result"
    },
    {
     "data": {
      "image/png": "[encoded data removed]",
      "text/plain": [
       "<Figure size 432x288 with 1 Axes>"
      ]
     },
     "metadata": {
      "needs_background": "light"
     },
     "output_type": "display_data"
    }
   ],
   "source": [
    "plt.hist(df['CCSProcedureCode'],alpha=0.5,color='r',density='True')"
   ]
  },
  {
   "cell_type": "code",
   "execution_count": 178,
   "id": "thorough-standard",
   "metadata": {},
   "outputs": [
    {
     "data": {
      "text/html": [
       "<div>\n",
       "<style scoped>\n",
       "    .dataframe tbody tr th:only-of-type {\n",
       "        vertical-align: middle;\n",
       "    }\n",
       "\n",
       "    .dataframe tbody tr th {\n",
       "        vertical-align: top;\n",
       "    }\n",
       "\n",
       "    .dataframe thead th {\n",
       "        text-align: right;\n",
       "    }\n",
       "</style>\n",
       "<table border=\"1\" class=\"dataframe\">\n",
       "  <thead>\n",
       "    <tr style=\"text-align: right;\">\n",
       "      <th></th>\n",
       "      <th>LengthOfStay</th>\n",
       "    </tr>\n",
       "    <tr>\n",
       "      <th>CCSProcedureCode</th>\n",
       "      <th></th>\n",
       "    </tr>\n",
       "  </thead>\n",
       "  <tbody>\n",
       "    <tr>\n",
       "      <th>-1</th>\n",
       "      <td>769</td>\n",
       "    </tr>\n",
       "    <tr>\n",
       "      <th>0</th>\n",
       "      <td>11189</td>\n",
       "    </tr>\n",
       "    <tr>\n",
       "      <th>115</th>\n",
       "      <td>13628</td>\n",
       "    </tr>\n",
       "    <tr>\n",
       "      <th>216</th>\n",
       "      <td>740</td>\n",
       "    </tr>\n",
       "    <tr>\n",
       "      <th>220</th>\n",
       "      <td>10773</td>\n",
       "    </tr>\n",
       "    <tr>\n",
       "      <th>228</th>\n",
       "      <td>19886</td>\n",
       "    </tr>\n",
       "    <tr>\n",
       "      <th>231</th>\n",
       "      <td>2981</td>\n",
       "    </tr>\n",
       "  </tbody>\n",
       "</table>\n",
       "</div>"
      ],
      "text/plain": [
       "                  LengthOfStay\n",
       "CCSProcedureCode              \n",
       "-1                         769\n",
       " 0                       11189\n",
       " 115                     13628\n",
       " 216                       740\n",
       " 220                     10773\n",
       " 228                     19886\n",
       " 231                      2981"
      ]
     },
     "execution_count": 178,
     "metadata": {},
     "output_type": "execute_result"
    }
   ],
   "source": [
    "df[['CCSProcedureCode','LengthOfStay']].groupby(['CCSProcedureCode']).count()"
   ]
  },
  {
   "cell_type": "markdown",
   "id": "velvet-tennis",
   "metadata": {},
   "source": [
    "<b>So the CCS procedure code is kind of fixed and we can assume that only specific codes . We can assume its ordinal in nature"
   ]
  },
  {
   "cell_type": "code",
   "execution_count": 179,
   "id": "theoretical-gibraltar",
   "metadata": {},
   "outputs": [
    {
     "data": {
      "text/plain": [
       "(array([2.66556604e+00, 0.00000000e+00, 0.00000000e+00, 4.86942601e-01,\n",
       "        0.00000000e+00, 0.00000000e+00, 1.80769102e-01, 0.00000000e+00,\n",
       "        0.00000000e+00, 5.55870549e-05]),\n",
       " array([1. , 1.3, 1.6, 1.9, 2.2, 2.5, 2.8, 3.1, 3.4, 3.7, 4. ]),\n",
       " <BarContainer object of 10 artists>)"
      ]
     },
     "execution_count": 179,
     "metadata": {},
     "output_type": "execute_result"
    },
    {
     "data": {
      "image/png": "[encoded data removed]",
      "text/plain": [
       "<Figure size 432x288 with 1 Axes>"
      ]
     },
     "metadata": {
      "needs_background": "light"
     },
     "output_type": "display_data"
    }
   ],
   "source": [
    "plt.hist(df['APRSeverityOfIllnessCode'],alpha=0.5,color='g',density='True')"
   ]
  },
  {
   "cell_type": "code",
   "execution_count": 180,
   "id": "sound-sample",
   "metadata": {},
   "outputs": [
    {
     "data": {
      "text/html": [
       "<div>\n",
       "<style scoped>\n",
       "    .dataframe tbody tr th:only-of-type {\n",
       "        vertical-align: middle;\n",
       "    }\n",
       "\n",
       "    .dataframe tbody tr th {\n",
       "        vertical-align: top;\n",
       "    }\n",
       "\n",
       "    .dataframe thead th {\n",
       "        text-align: right;\n",
       "    }\n",
       "</style>\n",
       "<table border=\"1\" class=\"dataframe\">\n",
       "  <thead>\n",
       "    <tr style=\"text-align: right;\">\n",
       "      <th></th>\n",
       "      <th>CCSProcedureCode</th>\n",
       "    </tr>\n",
       "    <tr>\n",
       "      <th>APRSeverityOfIllnessCode</th>\n",
       "      <th></th>\n",
       "    </tr>\n",
       "  </thead>\n",
       "  <tbody>\n",
       "    <tr>\n",
       "      <th>1</th>\n",
       "      <td>47953</td>\n",
       "    </tr>\n",
       "    <tr>\n",
       "      <th>2</th>\n",
       "      <td>8760</td>\n",
       "    </tr>\n",
       "    <tr>\n",
       "      <th>3</th>\n",
       "      <td>3252</td>\n",
       "    </tr>\n",
       "    <tr>\n",
       "      <th>4</th>\n",
       "      <td>1</td>\n",
       "    </tr>\n",
       "  </tbody>\n",
       "</table>\n",
       "</div>"
      ],
      "text/plain": [
       "                          CCSProcedureCode\n",
       "APRSeverityOfIllnessCode                  \n",
       "1                                    47953\n",
       "2                                     8760\n",
       "3                                     3252\n",
       "4                                        1"
      ]
     },
     "execution_count": 180,
     "metadata": {},
     "output_type": "execute_result"
    }
   ],
   "source": [
    "string='APRSeverityOfIllnessCode'\n",
    "df[['CCSProcedureCode',string]].groupby([string]).count()"
   ]
  },
  {
   "cell_type": "code",
   "execution_count": 181,
   "id": "brown-christian",
   "metadata": {},
   "outputs": [
    {
     "data": {
      "text/plain": [
       "(array([5.98735117e-01, 3.25351032e-01, 2.51663443e-01, 4.13567688e-02,\n",
       "        0.00000000e+00, 1.13606043e-02, 2.45972718e-03, 1.76975286e-02,\n",
       "        9.17186406e-04, 4.58593203e-04]),\n",
       " array([0. , 0.8, 1.6, 2.4, 3.2, 4. , 4.8, 5.6, 6.4, 7.2, 8. ]),\n",
       " <BarContainer object of 10 artists>)"
      ]
     },
     "execution_count": 181,
     "metadata": {},
     "output_type": "execute_result"
    },
    {
     "data": {
      "image/png": "[encoded data removed]",
      "text/plain": [
       "<Figure size 2880x2880 with 1 Axes>"
      ]
     },
     "metadata": {
      "needs_background": "light"
     },
     "output_type": "display_data"
    }
   ],
   "source": [
    "plt.figure(figsize=(40,40))\n",
    "plt.hist(df['PaymentTypology'],alpha=0.5,color='r',density='True')"
   ]
  },
  {
   "cell_type": "code",
   "execution_count": 182,
   "id": "limited-aside",
   "metadata": {},
   "outputs": [
    {
     "data": {
      "text/html": [
       "<div>\n",
       "<style scoped>\n",
       "    .dataframe tbody tr th:only-of-type {\n",
       "        vertical-align: middle;\n",
       "    }\n",
       "\n",
       "    .dataframe tbody tr th {\n",
       "        vertical-align: top;\n",
       "    }\n",
       "\n",
       "    .dataframe thead th {\n",
       "        text-align: right;\n",
       "    }\n",
       "</style>\n",
       "<table border=\"1\" class=\"dataframe\">\n",
       "  <thead>\n",
       "    <tr style=\"text-align: right;\">\n",
       "      <th></th>\n",
       "      <th>CCSProcedureCode</th>\n",
       "    </tr>\n",
       "    <tr>\n",
       "      <th>PaymentTypology</th>\n",
       "      <th></th>\n",
       "    </tr>\n",
       "  </thead>\n",
       "  <tbody>\n",
       "    <tr>\n",
       "      <th>Blue Cross/Blue Shield</th>\n",
       "      <td>12073</td>\n",
       "    </tr>\n",
       "    <tr>\n",
       "      <th>Federal/State/Local/VA</th>\n",
       "      <td>849</td>\n",
       "    </tr>\n",
       "    <tr>\n",
       "      <th>Managed Care, Unspecified</th>\n",
       "      <td>545</td>\n",
       "    </tr>\n",
       "    <tr>\n",
       "      <th>Medicaid</th>\n",
       "      <td>28723</td>\n",
       "    </tr>\n",
       "    <tr>\n",
       "      <th>Medicare</th>\n",
       "      <td>44</td>\n",
       "    </tr>\n",
       "    <tr>\n",
       "      <th>Miscellaneous/Other</th>\n",
       "      <td>118</td>\n",
       "    </tr>\n",
       "    <tr>\n",
       "      <th>Private Health Insurance</th>\n",
       "      <td>15608</td>\n",
       "    </tr>\n",
       "    <tr>\n",
       "      <th>Self-Pay</th>\n",
       "      <td>1984</td>\n",
       "    </tr>\n",
       "    <tr>\n",
       "      <th>Unknown</th>\n",
       "      <td>22</td>\n",
       "    </tr>\n",
       "  </tbody>\n",
       "</table>\n",
       "</div>"
      ],
      "text/plain": [
       "                           CCSProcedureCode\n",
       "PaymentTypology                            \n",
       "Blue Cross/Blue Shield                12073\n",
       "Federal/State/Local/VA                  849\n",
       "Managed Care, Unspecified               545\n",
       "Medicaid                              28723\n",
       "Medicare                                 44\n",
       "Miscellaneous/Other                     118\n",
       "Private Health Insurance              15608\n",
       "Self-Pay                               1984\n",
       "Unknown                                  22"
      ]
     },
     "execution_count": 182,
     "metadata": {},
     "output_type": "execute_result"
    }
   ],
   "source": [
    "string='PaymentTypology'\n",
    "df[['CCSProcedureCode',string]].groupby([string]).count()"
   ]
  },
  {
   "cell_type": "code",
   "execution_count": 183,
   "id": "ready-preview",
   "metadata": {},
   "outputs": [
    {
     "data": {
      "text/plain": [
       "(array([9.91445152, 0.        , 0.        , 0.        , 0.        ,\n",
       "        0.        , 0.        , 0.        , 0.        , 0.08554848]),\n",
       " array([0. , 0.1, 0.2, 0.3, 0.4, 0.5, 0.6, 0.7, 0.8, 0.9, 1. ]),\n",
       " <BarContainer object of 10 artists>)"
      ]
     },
     "execution_count": 183,
     "metadata": {},
     "output_type": "execute_result"
    },
    {
     "data": {
      "image/png": "[encoded data removed]",
      "text/plain": [
       "<Figure size 432x288 with 1 Axes>"
      ]
     },
     "metadata": {
      "needs_background": "light"
     },
     "output_type": "display_data"
    }
   ],
   "source": [
    "plt.hist(df['EmergencyDepartmentIndicator'],alpha=0.5,color='r',density='True')"
   ]
  },
  {
   "cell_type": "markdown",
   "id": "previous-least",
   "metadata": {},
   "source": [
    "So the severity code even though specified in numerical attribute its ordinal in nature "
   ]
  },
  {
   "cell_type": "markdown",
   "id": "artistic-signal",
   "metadata": {},
   "source": [
    "<b> So far in our analysis\n",
    "<br><b> Race - Nominal\n",
    "<br><b> Gender - Nominal \n",
    "<br><b> PaymentTypology - Nominal\n",
    "<br><b> EmergencyDepartmentIndicator- Nominal\n",
    "<br><b> CCSProcedureCode -- Ordinal \n",
    "<br><b> APRSeverityOfIllnessCode - Ordinal "
   ]
  },
  {
   "cell_type": "code",
   "execution_count": 184,
   "id": "nearby-franchise",
   "metadata": {},
   "outputs": [
    {
     "data": {
      "text/plain": [
       "(array([8.41715444e-05, 9.41244835e-05, 3.11836787e-04, 5.42468136e-05,\n",
       "        3.66413168e-04, 1.03438062e-03, 9.95293908e-06, 5.87816627e-04,\n",
       "        5.01733591e-04, 9.07892602e-04]),\n",
       " array([ 712.,  965., 1218., 1471., 1724., 1977., 2230., 2483., 2736.,\n",
       "        2989., 3242.]),\n",
       " <BarContainer object of 10 artists>)"
      ]
     },
     "execution_count": 184,
     "metadata": {},
     "output_type": "execute_result"
    },
    {
     "data": {
      "image/png": "[encoded data removed]",
      "text/plain": [
       "<Figure size 432x288 with 1 Axes>"
      ]
     },
     "metadata": {
      "needs_background": "light"
     },
     "output_type": "display_data"
    }
   ],
   "source": [
    "plt.hist(df['AverageCostInCounty'],alpha=0.5,color='r',density='True')"
   ]
  },
  {
   "cell_type": "code",
   "execution_count": 185,
   "id": "serious-sudan",
   "metadata": {},
   "outputs": [
    {
     "data": {
      "text/plain": [
       "(array([5.71442381e-05, 4.09912036e-05, 1.41084090e-04, 5.32128988e-05,\n",
       "        5.29661620e-05, 0.00000000e+00, 9.44179409e-06, 1.67748112e-04,\n",
       "        1.94477930e-04, 2.69321419e-04]),\n",
       " array([ 1243. ,  2256.8,  3270.6,  4284.4,  5298.2,  6312. ,  7325.8,\n",
       "         8339.6,  9353.4, 10367.2, 11381. ]),\n",
       " <BarContainer object of 10 artists>)"
      ]
     },
     "execution_count": 185,
     "metadata": {},
     "output_type": "execute_result"
    },
    {
     "data": {
      "image/png": "[encoded data removed]",
      "text/plain": [
       "<Figure size 432x288 with 1 Axes>"
      ]
     },
     "metadata": {
      "needs_background": "light"
     },
     "output_type": "display_data"
    }
   ],
   "source": [
    "plt.hist(df['AverageChargesInCounty'],alpha=0.5,color='r',density='True')"
   ]
  },
  {
   "cell_type": "code",
   "execution_count": 186,
   "id": "legal-practice",
   "metadata": {},
   "outputs": [
    {
     "data": {
      "text/plain": [
       "(array([4.57617401e-05, 1.02646659e-04, 6.66813927e-05, 8.34959481e-05,\n",
       "        8.67646438e-05, 4.35601774e-05, 7.12960220e-05, 6.23071087e-05,\n",
       "        1.39784811e-05, 9.61381095e-09]),\n",
       " array([ 1120. ,  2854.6,  4589.2,  6323.8,  8058.4,  9793. , 11527.6,\n",
       "        13262.2, 14996.8, 16731.4, 18466. ]),\n",
       " <BarContainer object of 10 artists>)"
      ]
     },
     "execution_count": 186,
     "metadata": {},
     "output_type": "execute_result"
    },
    {
     "data": {
      "image/png": "[encoded data removed]",
      "text/plain": [
       "<Figure size 432x288 with 1 Axes>"
      ]
     },
     "metadata": {
      "needs_background": "light"
     },
     "output_type": "display_data"
    }
   ],
   "source": [
    "plt.hist(df['AverageChargesInFacility'],alpha=0.5,color='r',density='True')"
   ]
  },
  {
   "cell_type": "code",
   "execution_count": 187,
   "id": "suspended-montana",
   "metadata": {},
   "outputs": [
    {
     "data": {
      "text/plain": [
       "(array([1.66521597e-04, 4.99129211e-04, 2.61042095e-04, 1.76431004e-04,\n",
       "        7.82516475e-05, 5.12675698e-05, 2.68098464e-05, 4.65197659e-05,\n",
       "        0.00000000e+00, 2.17789166e-08]),\n",
       " array([ 457. , 1222.7, 1988.4, 2754.1, 3519.8, 4285.5, 5051.2, 5816.9,\n",
       "        6582.6, 7348.3, 8114. ]),\n",
       " <BarContainer object of 10 artists>)"
      ]
     },
     "execution_count": 187,
     "metadata": {},
     "output_type": "execute_result"
    },
    {
     "data": {
      "image/png": "[encoded data removed]",
      "text/plain": [
       "<Figure size 432x288 with 1 Axes>"
      ]
     },
     "metadata": {
      "needs_background": "light"
     },
     "output_type": "display_data"
    }
   ],
   "source": [
    "plt.hist(df['AverageCostInFacility'],alpha=0.5,color='r',density='True')"
   ]
  },
  {
   "cell_type": "code",
   "execution_count": 188,
   "id": "cooked-vacation",
   "metadata": {},
   "outputs": [
    {
     "data": {
      "text/plain": [
       "(array([0.01552987, 0.02981958, 0.00911436, 0.02569847, 0.00274868,\n",
       "        0.01049829, 0.00100057, 0.01260293, 0.00765185, 0.00027794]),\n",
       " array([ 28. ,  36.7,  45.4,  54.1,  62.8,  71.5,  80.2,  88.9,  97.6,\n",
       "        106.3, 115. ]),\n",
       " <BarContainer object of 10 artists>)"
      ]
     },
     "execution_count": 188,
     "metadata": {},
     "output_type": "execute_result"
    },
    {
     "data": {
      "image/png": "[encoded data removed]",
      "text/plain": [
       "<Figure size 432x288 with 1 Axes>"
      ]
     },
     "metadata": {
      "needs_background": "light"
     },
     "output_type": "display_data"
    }
   ],
   "source": [
    "plt.hist(df['AverageIncomeInZipCode'],alpha=0.5,color='r',density='True')"
   ]
  },
  {
   "cell_type": "markdown",
   "id": "binding-cabin",
   "metadata": {},
   "source": [
    "lets focus on now changing the data accordingly and perform scaling etc before we send it to the model "
   ]
  },
  {
   "cell_type": "markdown",
   "id": "together-simple",
   "metadata": {},
   "source": [
    "Before that lets look at the correlation too through scatterplot "
   ]
  },
  {
   "cell_type": "code",
   "execution_count": 189,
   "id": "separate-tower",
   "metadata": {},
   "outputs": [
    {
     "data": {
      "image/png": "[encoded data removed]",
      "text/plain": [
       "<Figure size 2160x2160 with 14 Axes>"
      ]
     },
     "metadata": {
      "needs_background": "light"
     },
     "output_type": "display_data"
    }
   ],
   "source": [
    "import seaborn as sns\n",
    "plt.figure(figsize=(30,30))\n",
    "for i,col in enumerate(df.columns):\n",
    "    plt.subplot(6,5,i+1)\n",
    "    sns.scatterplot(data=df,y=col,x='LengthOfStay')\n",
    "    plt.title(col)\n",
    "plt.xticks(rotation='vertical')\n",
    "plt.show()"
   ]
  },
  {
   "cell_type": "code",
   "execution_count": 190,
   "id": "generic-chair",
   "metadata": {},
   "outputs": [
    {
     "data": {
      "text/plain": [
       "Race                    LengthOfStay\n",
       "Black/African American  0                6431\n",
       "                        1                1752\n",
       "Multi-racial            0                 449\n",
       "                        1                  77\n",
       "Other Race              0               15189\n",
       "                        1                3125\n",
       "White                   0               27826\n",
       "                        1                5117\n",
       "Name: Gender, dtype: int64"
      ]
     },
     "execution_count": 190,
     "metadata": {},
     "output_type": "execute_result"
    }
   ],
   "source": [
    "string='Race'\n",
    "df.groupby([string,'LengthOfStay'])['Gender'].count()"
   ]
  },
  {
   "cell_type": "code",
   "execution_count": 191,
   "id": "mobile-uzbekistan",
   "metadata": {},
   "outputs": [
    {
     "data": {
      "text/plain": [
       "Gender  LengthOfStay\n",
       "F       0               24449\n",
       "        1                4538\n",
       "M       0               25446\n",
       "        1                5532\n",
       "U       1                   1\n",
       "Name: Gender, dtype: int64"
      ]
     },
     "execution_count": 191,
     "metadata": {},
     "output_type": "execute_result"
    }
   ],
   "source": [
    "string='Gender'\n",
    "df.groupby([string,'LengthOfStay'])['Gender'].count()"
   ]
  },
  {
   "cell_type": "markdown",
   "id": "hidden-authorization",
   "metadata": {},
   "source": [
    "If its a female , there is 97.85 chance of length of stay being less than 4 days \n",
    "if its a male 82% chance of length stay being less than 4 days "
   ]
  },
  {
   "cell_type": "code",
   "execution_count": 192,
   "id": "featured-boating",
   "metadata": {},
   "outputs": [
    {
     "data": {
      "text/plain": [
       "PaymentTypology            LengthOfStay\n",
       "Blue Cross/Blue Shield     0                9952\n",
       "                           1                2121\n",
       "Federal/State/Local/VA     0                 747\n",
       "                           1                 102\n",
       "Managed Care, Unspecified  0                 445\n",
       "                           1                 100\n",
       "Medicaid                   0               24128\n",
       "                           1                4595\n",
       "Medicare                   0                  39\n",
       "                           1                   5\n",
       "Miscellaneous/Other        0                  97\n",
       "                           1                  21\n",
       "Private Health Insurance   0               12736\n",
       "                           1                2872\n",
       "Self-Pay                   0                1739\n",
       "                           1                 245\n",
       "Unknown                    0                  12\n",
       "                           1                  10\n",
       "Name: PaymentTypology, dtype: int64"
      ]
     },
     "execution_count": 192,
     "metadata": {},
     "output_type": "execute_result"
    }
   ],
   "source": [
    "string='PaymentTypology'\n",
    "df.groupby([string,'LengthOfStay'])[string].count()"
   ]
  },
  {
   "cell_type": "markdown",
   "id": "tired-ballot",
   "metadata": {},
   "source": [
    "<b>The next step is to identify the correlation "
   ]
  },
  {
   "cell_type": "code",
   "execution_count": 193,
   "id": "molecular-division",
   "metadata": {},
   "outputs": [
    {
     "data": {
      "image/png": "[encoded data removed]",
      "text/plain": [
       "<Figure size 792x648 with 2 Axes>"
      ]
     },
     "metadata": {
      "needs_background": "light"
     },
     "output_type": "display_data"
    }
   ],
   "source": [
    "f,ax = plt.subplots(figsize=(11,9))\n",
    "corr = df.corr()\n",
    "#print(corr)\n",
    "ax = sns.heatmap(corr,vmin=-1,vmax=1,center=0,\n",
    "                cmap='Paired',square=True)\n",
    "ax.set_xticklabels(ax.get_xticklabels(),rotation=90,horizontalalignment='right');"
   ]
  },
  {
   "cell_type": "markdown",
   "id": "dying-marina",
   "metadata": {},
   "source": [
    "<br><b> Some observations from the heatmap regarding the relationship between variables :</b>\n",
    "<br>1.The AverageChargesInCounty and AverageChargesin Facility share a very strong correlation \n",
    "<br>2.AverageCostInCounty and AverageChargesInCounty share a little higher correlation around 0.75 \n",
    "<br>3.AverageCostinFacility and AverageCostinCounty  0.5 \n",
    "<br>4.AverageChargesinFacility and AverageCostInCounty 0.25 \n",
    "<br>5.The LengthofStay and APRSSeverityOfIllnessCode seem to share some amount +ve correlation aroun 0.25 and all the others <br>6.share less than 0.25 correlation and BirthWeight seems to have  -ve correlation\n",
    "<br><b> Ofcourse we have not mapped the relation of other categorical variables yet !!!</b>\n"
   ]
  },
  {
   "cell_type": "markdown",
   "id": "quick-therapist",
   "metadata": {},
   "source": [
    "<b>***Now lets look at the applying logistic Regression model to see the classification model performance :***"
   ]
  },
  {
   "cell_type": "markdown",
   "id": "graduate-underground",
   "metadata": {},
   "source": [
    "***Step 1: Lets convert the categorical variables usigng one-hot encoding :***\n"
   ]
  },
  {
   "cell_type": "code",
   "execution_count": 194,
   "id": "herbal-green",
   "metadata": {},
   "outputs": [],
   "source": [
    "#Can we remove the unknown example as it might be an outlier and also unwanted extra colun for processing \n",
    "from sklearn.preprocessing import OneHotEncoder\n",
    "\n",
    "def convert_to_categorical(df,colname):\n",
    "    OneHotEncoder_race = OneHotEncoder(handle_unknown='ignore')\n",
    "    OneHotEncoder_race.fit(df[[colname]])\n",
    "    one_hot_ = OneHotEncoder_race.transform(df[[colname]]).toarray()\n",
    "    #print(one_hot_.shape,OneHotEncoder_race.categories_)\n",
    "\n",
    "    for i in range(len(OneHotEncoder_race.categories_[0])):\n",
    "        df[colname+'_'+ str(OneHotEncoder_race.categories_[0][i])] = one_hot_[:,i]\n",
    "    fd = df.drop([colname],axis=1)\n",
    "    return fd\n",
    "    \n",
    "\n"
   ]
  },
  {
   "cell_type": "code",
   "execution_count": 195,
   "id": "single-smith",
   "metadata": {},
   "outputs": [],
   "source": [
    "df = convert_to_categorical(df,'Gender')\n",
    "df=convert_to_categorical(df,'Race')\n",
    "df=convert_to_categorical(df,'TypeOfAdmission')\n",
    "df=convert_to_categorical(df,'PaymentTypology')\n",
    "df=convert_to_categorical(df,'EmergencyDepartmentIndicator')"
   ]
  },
  {
   "cell_type": "code",
   "execution_count": 196,
   "id": "waiting-bible",
   "metadata": {},
   "outputs": [
    {
     "data": {
      "text/html": [
       "<div>\n",
       "<style scoped>\n",
       "    .dataframe tbody tr th:only-of-type {\n",
       "        vertical-align: middle;\n",
       "    }\n",
       "\n",
       "    .dataframe tbody tr th {\n",
       "        vertical-align: top;\n",
       "    }\n",
       "\n",
       "    .dataframe thead th {\n",
       "        text-align: right;\n",
       "    }\n",
       "</style>\n",
       "<table border=\"1\" class=\"dataframe\">\n",
       "  <thead>\n",
       "    <tr style=\"text-align: right;\">\n",
       "      <th></th>\n",
       "      <th>CCSProcedureCode</th>\n",
       "      <th>APRSeverityOfIllnessCode</th>\n",
       "      <th>BirthWeight</th>\n",
       "      <th>AverageCostInCounty</th>\n",
       "      <th>AverageChargesInCounty</th>\n",
       "      <th>AverageCostInFacility</th>\n",
       "      <th>AverageChargesInFacility</th>\n",
       "      <th>AverageIncomeInZipCode</th>\n",
       "      <th>LengthOfStay</th>\n",
       "      <th>Gender_F</th>\n",
       "      <th>...</th>\n",
       "      <th>PaymentTypology_Federal/State/Local/VA</th>\n",
       "      <th>PaymentTypology_Managed Care, Unspecified</th>\n",
       "      <th>PaymentTypology_Medicaid</th>\n",
       "      <th>PaymentTypology_Medicare</th>\n",
       "      <th>PaymentTypology_Miscellaneous/Other</th>\n",
       "      <th>PaymentTypology_Private Health Insurance</th>\n",
       "      <th>PaymentTypology_Self-Pay</th>\n",
       "      <th>PaymentTypology_Unknown</th>\n",
       "      <th>EmergencyDepartmentIndicator_N</th>\n",
       "      <th>EmergencyDepartmentIndicator_Y</th>\n",
       "    </tr>\n",
       "  </thead>\n",
       "  <tbody>\n",
       "    <tr>\n",
       "      <th>0</th>\n",
       "      <td>228</td>\n",
       "      <td>1</td>\n",
       "      <td>3700</td>\n",
       "      <td>2611</td>\n",
       "      <td>9227</td>\n",
       "      <td>1751</td>\n",
       "      <td>8951</td>\n",
       "      <td>45</td>\n",
       "      <td>0</td>\n",
       "      <td>1.0</td>\n",
       "      <td>...</td>\n",
       "      <td>0.0</td>\n",
       "      <td>0.0</td>\n",
       "      <td>1.0</td>\n",
       "      <td>0.0</td>\n",
       "      <td>0.0</td>\n",
       "      <td>0.0</td>\n",
       "      <td>0.0</td>\n",
       "      <td>0.0</td>\n",
       "      <td>1.0</td>\n",
       "      <td>0.0</td>\n",
       "    </tr>\n",
       "    <tr>\n",
       "      <th>1</th>\n",
       "      <td>228</td>\n",
       "      <td>1</td>\n",
       "      <td>2900</td>\n",
       "      <td>3242</td>\n",
       "      <td>8966</td>\n",
       "      <td>3338</td>\n",
       "      <td>6409</td>\n",
       "      <td>34</td>\n",
       "      <td>0</td>\n",
       "      <td>0.0</td>\n",
       "      <td>...</td>\n",
       "      <td>0.0</td>\n",
       "      <td>0.0</td>\n",
       "      <td>1.0</td>\n",
       "      <td>0.0</td>\n",
       "      <td>0.0</td>\n",
       "      <td>0.0</td>\n",
       "      <td>0.0</td>\n",
       "      <td>0.0</td>\n",
       "      <td>1.0</td>\n",
       "      <td>0.0</td>\n",
       "    </tr>\n",
       "    <tr>\n",
       "      <th>2</th>\n",
       "      <td>220</td>\n",
       "      <td>1</td>\n",
       "      <td>3200</td>\n",
       "      <td>3155</td>\n",
       "      <td>11381</td>\n",
       "      <td>4980</td>\n",
       "      <td>9323</td>\n",
       "      <td>45</td>\n",
       "      <td>0</td>\n",
       "      <td>0.0</td>\n",
       "      <td>...</td>\n",
       "      <td>0.0</td>\n",
       "      <td>0.0</td>\n",
       "      <td>0.0</td>\n",
       "      <td>0.0</td>\n",
       "      <td>0.0</td>\n",
       "      <td>1.0</td>\n",
       "      <td>0.0</td>\n",
       "      <td>0.0</td>\n",
       "      <td>1.0</td>\n",
       "      <td>0.0</td>\n",
       "    </tr>\n",
       "  </tbody>\n",
       "</table>\n",
       "<p>3 rows × 31 columns</p>\n",
       "</div>"
      ],
      "text/plain": [
       "   CCSProcedureCode  APRSeverityOfIllnessCode  BirthWeight  \\\n",
       "0               228                         1         3700   \n",
       "1               228                         1         2900   \n",
       "2               220                         1         3200   \n",
       "\n",
       "   AverageCostInCounty  AverageChargesInCounty  AverageCostInFacility  \\\n",
       "0                 2611                    9227                   1751   \n",
       "1                 3242                    8966                   3338   \n",
       "2                 3155                   11381                   4980   \n",
       "\n",
       "   AverageChargesInFacility  AverageIncomeInZipCode  LengthOfStay  Gender_F  \\\n",
       "0                      8951                      45             0       1.0   \n",
       "1                      6409                      34             0       0.0   \n",
       "2                      9323                      45             0       0.0   \n",
       "\n",
       "   ...  PaymentTypology_Federal/State/Local/VA  \\\n",
       "0  ...                                     0.0   \n",
       "1  ...                                     0.0   \n",
       "2  ...                                     0.0   \n",
       "\n",
       "   PaymentTypology_Managed Care, Unspecified  PaymentTypology_Medicaid  \\\n",
       "0                                        0.0                       1.0   \n",
       "1                                        0.0                       1.0   \n",
       "2                                        0.0                       0.0   \n",
       "\n",
       "   PaymentTypology_Medicare  PaymentTypology_Miscellaneous/Other  \\\n",
       "0                       0.0                                  0.0   \n",
       "1                       0.0                                  0.0   \n",
       "2                       0.0                                  0.0   \n",
       "\n",
       "   PaymentTypology_Private Health Insurance  PaymentTypology_Self-Pay  \\\n",
       "0                                       0.0                       0.0   \n",
       "1                                       0.0                       0.0   \n",
       "2                                       1.0                       0.0   \n",
       "\n",
       "   PaymentTypology_Unknown  EmergencyDepartmentIndicator_N  \\\n",
       "0                      0.0                             1.0   \n",
       "1                      0.0                             1.0   \n",
       "2                      0.0                             1.0   \n",
       "\n",
       "   EmergencyDepartmentIndicator_Y  \n",
       "0                             0.0  \n",
       "1                             0.0  \n",
       "2                             0.0  \n",
       "\n",
       "[3 rows x 31 columns]"
      ]
     },
     "execution_count": 196,
     "metadata": {},
     "output_type": "execute_result"
    }
   ],
   "source": [
    "df.head(3)"
   ]
  },
  {
   "cell_type": "code",
   "execution_count": 197,
   "id": "gothic-black",
   "metadata": {},
   "outputs": [
    {
     "data": {
      "text/plain": [
       "(59966, 31)"
      ]
     },
     "execution_count": 197,
     "metadata": {},
     "output_type": "execute_result"
    }
   ],
   "source": [
    "df.shape"
   ]
  },
  {
   "cell_type": "code",
   "execution_count": 198,
   "id": "regulation-template",
   "metadata": {},
   "outputs": [
    {
     "data": {
      "text/plain": [
       "(69177, 15)"
      ]
     },
     "execution_count": 198,
     "metadata": {},
     "output_type": "execute_result"
    }
   ],
   "source": [
    "#Lets look at the train and test performance now with the most basic model which we shall use as a reference for now\n",
    "#After this write a function that takes a filename does the processinand gives a dataframe with onehot-encoded \n",
    "df_test = pd.read_csv('test_data.csv')\n",
    "df_test.shape\n"
   ]
  },
  {
   "cell_type": "code",
   "execution_count": 199,
   "id": "popular-particle",
   "metadata": {},
   "outputs": [
    {
     "data": {
      "text/html": [
       "<div>\n",
       "<style scoped>\n",
       "    .dataframe tbody tr th:only-of-type {\n",
       "        vertical-align: middle;\n",
       "    }\n",
       "\n",
       "    .dataframe tbody tr th {\n",
       "        vertical-align: top;\n",
       "    }\n",
       "\n",
       "    .dataframe thead th {\n",
       "        text-align: right;\n",
       "    }\n",
       "</style>\n",
       "<table border=\"1\" class=\"dataframe\">\n",
       "  <thead>\n",
       "    <tr style=\"text-align: right;\">\n",
       "      <th></th>\n",
       "      <th>Gender</th>\n",
       "      <th>Race</th>\n",
       "      <th>TypeOfAdmission</th>\n",
       "      <th>CCSProcedureCode</th>\n",
       "      <th>APRSeverityOfIllnessCode</th>\n",
       "      <th>PaymentTypology</th>\n",
       "      <th>BirthWeight</th>\n",
       "      <th>EmergencyDepartmentIndicator</th>\n",
       "      <th>AverageCostInCounty</th>\n",
       "      <th>AverageChargesInCounty</th>\n",
       "      <th>AverageCostInFacility</th>\n",
       "      <th>AverageChargesInFacility</th>\n",
       "      <th>AverageIncomeInZipCode</th>\n",
       "    </tr>\n",
       "  </thead>\n",
       "  <tbody>\n",
       "    <tr>\n",
       "      <th>0</th>\n",
       "      <td>F</td>\n",
       "      <td>Other Race</td>\n",
       "      <td>Newborn</td>\n",
       "      <td>216</td>\n",
       "      <td>3</td>\n",
       "      <td>Medicaid</td>\n",
       "      <td>4900</td>\n",
       "      <td>N</td>\n",
       "      <td>3242</td>\n",
       "      <td>8966</td>\n",
       "      <td>2448</td>\n",
       "      <td>13196</td>\n",
       "      <td>34</td>\n",
       "    </tr>\n",
       "    <tr>\n",
       "      <th>1</th>\n",
       "      <td>F</td>\n",
       "      <td>White</td>\n",
       "      <td>Newborn</td>\n",
       "      <td>220</td>\n",
       "      <td>1</td>\n",
       "      <td>Medicaid</td>\n",
       "      <td>3100</td>\n",
       "      <td>N</td>\n",
       "      <td>2611</td>\n",
       "      <td>9227</td>\n",
       "      <td>1751</td>\n",
       "      <td>8951</td>\n",
       "      <td>45</td>\n",
       "    </tr>\n",
       "    <tr>\n",
       "      <th>2</th>\n",
       "      <td>M</td>\n",
       "      <td>Multi-racial</td>\n",
       "      <td>Newborn</td>\n",
       "      <td>115</td>\n",
       "      <td>1</td>\n",
       "      <td>Medicaid</td>\n",
       "      <td>3300</td>\n",
       "      <td>N</td>\n",
       "      <td>3155</td>\n",
       "      <td>11381</td>\n",
       "      <td>1052</td>\n",
       "      <td>11314</td>\n",
       "      <td>74</td>\n",
       "    </tr>\n",
       "  </tbody>\n",
       "</table>\n",
       "</div>"
      ],
      "text/plain": [
       "  Gender          Race TypeOfAdmission  CCSProcedureCode  \\\n",
       "0      F    Other Race         Newborn               216   \n",
       "1      F         White         Newborn               220   \n",
       "2      M  Multi-racial         Newborn               115   \n",
       "\n",
       "   APRSeverityOfIllnessCode PaymentTypology  BirthWeight  \\\n",
       "0                         3        Medicaid         4900   \n",
       "1                         1        Medicaid         3100   \n",
       "2                         1        Medicaid         3300   \n",
       "\n",
       "  EmergencyDepartmentIndicator  AverageCostInCounty  AverageChargesInCounty  \\\n",
       "0                            N                 3242                    8966   \n",
       "1                            N                 2611                    9227   \n",
       "2                            N                 3155                   11381   \n",
       "\n",
       "   AverageCostInFacility  AverageChargesInFacility  AverageIncomeInZipCode  \n",
       "0                   2448                     13196                      34  \n",
       "1                   1751                      8951                      45  \n",
       "2                   1052                     11314                      74  "
      ]
     },
     "execution_count": 199,
     "metadata": {},
     "output_type": "execute_result"
    }
   ],
   "source": [
    "df_test.head(3)\n",
    "df_test = df_test.drop(['ID','HealthServiceArea'],axis=1)\n",
    "df_test.head(3)"
   ]
  },
  {
   "cell_type": "code",
   "execution_count": 200,
   "id": "vietnamese-robert",
   "metadata": {},
   "outputs": [
    {
     "name": "stdout",
     "output_type": "stream",
     "text": [
      "<class 'pandas.core.frame.DataFrame'>\n",
      "RangeIndex: 69177 entries, 0 to 69176\n",
      "Data columns (total 32 columns):\n",
      " #   Column                                     Non-Null Count  Dtype  \n",
      "---  ------                                     --------------  -----  \n",
      " 0   CCSProcedureCode                           69177 non-null  int64  \n",
      " 1   APRSeverityOfIllnessCode                   69177 non-null  int64  \n",
      " 2   BirthWeight                                69177 non-null  int64  \n",
      " 3   AverageCostInCounty                        69177 non-null  int64  \n",
      " 4   AverageChargesInCounty                     69177 non-null  int64  \n",
      " 5   AverageCostInFacility                      69177 non-null  int64  \n",
      " 6   AverageChargesInFacility                   69177 non-null  int64  \n",
      " 7   AverageIncomeInZipCode                     69177 non-null  int64  \n",
      " 8   Gender_F                                   69177 non-null  float64\n",
      " 9   Gender_M                                   69177 non-null  float64\n",
      " 10  Gender_U                                   69177 non-null  float64\n",
      " 11  Race_Black/African American                69177 non-null  float64\n",
      " 12  Race_Multi-racial                          69177 non-null  float64\n",
      " 13  Race_Other Race                            69177 non-null  float64\n",
      " 14  Race_White                                 69177 non-null  float64\n",
      " 15  TypeOfAdmission_Elective                   69177 non-null  float64\n",
      " 16  TypeOfAdmission_Emergency                  69177 non-null  float64\n",
      " 17  TypeOfAdmission_Newborn                    69177 non-null  float64\n",
      " 18  TypeOfAdmission_Trauma                     69177 non-null  float64\n",
      " 19  TypeOfAdmission_Urgent                     69177 non-null  float64\n",
      " 20  PaymentTypology_Blue Cross/Blue Shield     69177 non-null  float64\n",
      " 21  PaymentTypology_Department of Corrections  69177 non-null  float64\n",
      " 22  PaymentTypology_Federal/State/Local/VA     69177 non-null  float64\n",
      " 23  PaymentTypology_Managed Care, Unspecified  69177 non-null  float64\n",
      " 24  PaymentTypology_Medicaid                   69177 non-null  float64\n",
      " 25  PaymentTypology_Medicare                   69177 non-null  float64\n",
      " 26  PaymentTypology_Miscellaneous/Other        69177 non-null  float64\n",
      " 27  PaymentTypology_Private Health Insurance   69177 non-null  float64\n",
      " 28  PaymentTypology_Self-Pay                   69177 non-null  float64\n",
      " 29  PaymentTypology_Unknown                    69177 non-null  float64\n",
      " 30  EmergencyDepartmentIndicator_N             69177 non-null  float64\n",
      " 31  EmergencyDepartmentIndicator_Y             69177 non-null  float64\n",
      "dtypes: float64(24), int64(8)\n",
      "memory usage: 16.9 MB\n"
     ]
    }
   ],
   "source": [
    "df_test =convert_to_categorical(df_test,'Gender')\n",
    "df_test =convert_to_categorical(df_test,'Race')\n",
    "df_test =convert_to_categorical(df_test,'TypeOfAdmission')\n",
    "df_test =convert_to_categorical(df_test,'PaymentTypology')\n",
    "df_test =convert_to_categorical(df_test,'EmergencyDepartmentIndicator')\n",
    "df_test.info()"
   ]
  },
  {
   "cell_type": "code",
   "execution_count": 204,
   "id": "mechanical-software",
   "metadata": {},
   "outputs": [
    {
     "name": "stdout",
     "output_type": "stream",
     "text": [
      "Test  =  (69177, 32)\n",
      "Train =  (59966, 31)\n"
     ]
    }
   ],
   "source": [
    "print(\"Test  = \",df_test.shape)\n",
    "print(\"Train = \",df.shape)\n",
    "#The additonal one is Lengthofstay works good \n",
    "#There is one extra PaymentTypology Department of Corrections "
   ]
  },
  {
   "cell_type": "code",
   "execution_count": 205,
   "id": "handy-apache",
   "metadata": {},
   "outputs": [
    {
     "name": "stdout",
     "output_type": "stream",
     "text": [
      "(35979, 31) (11993, 31) (11994, 31)\n"
     ]
    }
   ],
   "source": [
    "from sklearn.model_selection import train_test_split\n",
    "with pd.option_context('mode.chained_assignment',None):\n",
    "    train_data,test_data = train_test_split(df,test_size=0.2,shuffle=True,random_state=0)\n",
    "with pd.option_context('mode.chained_assignment',None):\n",
    "    train_data,val_data = train_test_split(train_data,test_size=0.25,shuffle=True,random_state=0)\n",
    "print(train_data.shape,val_data.shape,test_data.shape)"
   ]
  },
  {
   "cell_type": "code",
   "execution_count": 206,
   "id": "criminal-philippines",
   "metadata": {},
   "outputs": [],
   "source": [
    "train_X = train_data.drop(['LengthOfStay'],axis=1).to_numpy()\n",
    "train_y = train_data['LengthOfStay'].to_numpy()\n",
    "\n",
    "test_X = test_data.drop(['LengthOfStay'],axis=1).to_numpy()\n",
    "test_y = test_data['LengthOfStay'].to_numpy()\n",
    "\n",
    "val_X = val_data.drop(['LengthOfStay'],axis=1).to_numpy()\n",
    "val_y = val_data['LengthOfStay'].to_numpy()"
   ]
  },
  {
   "cell_type": "code",
   "execution_count": 207,
   "id": "equal-convertible",
   "metadata": {},
   "outputs": [],
   "source": [
    "from sklearn.metrics import f1_score\n",
    "from sklearn.metrics import balanced_accuracy_score\n",
    "\n",
    "def print_f1_scores(clf,train_X,train_y,val_X,val_y):\n",
    "    train_pred = clf.predict(train_X)\n",
    "    val_pred = clf.predict(val_X)\n",
    "    train_f1 = balanced_accuracy_score(train_y,train_pred)\n",
    "    val_f1   = balanced_accuracy_score(val_y,val_pred)\n",
    "    \n",
    "    print(\"Train accuracy score:{:.3f}\".format(train_f1))\n",
    "    print(\"Validation accuracy score:{:.3f}\".format(val_f1))"
   ]
  },
  {
   "cell_type": "code",
   "execution_count": 209,
   "id": "higher-flashing",
   "metadata": {},
   "outputs": [
    {
     "name": "stdout",
     "output_type": "stream",
     "text": [
      "Train accuracy score:0.648\n",
      "Validation accuracy score:0.640\n"
     ]
    }
   ],
   "source": [
    "from sklearn.linear_model import LogisticRegression\n",
    "clf = LogisticRegression(random_state=0,solver='liblinear',max_iter=1000,class_weight='balanced').fit(train_X,train_y.ravel())\n",
    "print_f1_scores(clf,train_X,train_y,val_X,val_y)"
   ]
  },
  {
   "cell_type": "code",
   "execution_count": 211,
   "id": "instant-services",
   "metadata": {},
   "outputs": [
    {
     "name": "stdout",
     "output_type": "stream",
     "text": [
      "Train accuracy score:0.648\n",
      "Validation accuracy score:0.640\n"
     ]
    }
   ],
   "source": [
    "clf_l1 = LogisticRegression(penalty='l1',C=0.75,random_state=0,solver='liblinear',max_iter=1000,class_weight='balanced').fit(train_X,train_y.ravel())\n",
    "print_f1_scores(clf_l1,train_X,train_y,val_X,val_y)"
   ]
  },
  {
   "cell_type": "code",
   "execution_count": 212,
   "id": "spiritual-sugar",
   "metadata": {},
   "outputs": [
    {
     "name": "stdout",
     "output_type": "stream",
     "text": [
      "Train accuracy score:0.647\n",
      "Validation accuracy score:0.641\n"
     ]
    }
   ],
   "source": [
    "clf_l2 = LogisticRegression(penalty='l2',C=0.75,random_state=0,solver='liblinear',max_iter=1000,class_weight='balanced').fit(train_X,train_y.ravel())\n",
    "print_f1_scores(clf_l2,train_X,train_y,val_X,val_y)"
   ]
  },
  {
   "cell_type": "code",
   "execution_count": 213,
   "id": "korean-tampa",
   "metadata": {},
   "outputs": [
    {
     "data": {
      "text/plain": [
       "<sklearn.metrics._plot.confusion_matrix.ConfusionMatrixDisplay at 0x7feaacd85588>"
      ]
     },
     "execution_count": 213,
     "metadata": {},
     "output_type": "execute_result"
    },
    {
     "data": {
      "image/png": "[encoded data removed]",
      "text/plain": [
       "<Figure size 432x288 with 2 Axes>"
      ]
     },
     "metadata": {
      "needs_background": "light"
     },
     "output_type": "display_data"
    }
   ],
   "source": [
    "from sklearn.metrics import plot_confusion_matrix \n",
    "plot_confusion_matrix(clf,val_X,val_y)"
   ]
  },
  {
   "cell_type": "code",
   "execution_count": 214,
   "id": "legislative-council",
   "metadata": {},
   "outputs": [
    {
     "data": {
      "text/plain": [
       "<sklearn.metrics._plot.confusion_matrix.ConfusionMatrixDisplay at 0x7feaacfb9240>"
      ]
     },
     "execution_count": 214,
     "metadata": {},
     "output_type": "execute_result"
    },
    {
     "data": {
      "image/png": "[encoded data removed]",
      "text/plain": [
       "<Figure size 432x288 with 2 Axes>"
      ]
     },
     "metadata": {
      "needs_background": "light"
     },
     "output_type": "display_data"
    }
   ],
   "source": [
    "from sklearn.metrics import plot_confusion_matrix \n",
    "plot_confusion_matrix(clf_l1,val_X,val_y)"
   ]
  },
  {
   "cell_type": "code",
   "execution_count": 217,
   "id": "martial-chain",
   "metadata": {},
   "outputs": [
    {
     "name": "stdout",
     "output_type": "stream",
     "text": [
      "              precision    recall  f1-score   support\n",
      "\n",
      "          L0       0.89      0.72      0.79     10001\n",
      "          L1       0.28      0.56      0.38      1992\n",
      "\n",
      "    accuracy                           0.69     11993\n",
      "   macro avg       0.59      0.64      0.59     11993\n",
      "weighted avg       0.79      0.69      0.72     11993\n",
      "\n"
     ]
    }
   ],
   "source": [
    "val_pred = clf.predict(val_X)\n",
    "from sklearn.metrics import classification_report\n",
    "label_names = ['L0','L1']\n",
    "print(classification_report(val_y,val_pred,target_names=label_names))"
   ]
  },
  {
   "cell_type": "code",
   "execution_count": null,
   "id": "funky-uncle",
   "metadata": {},
   "outputs": [],
   "source": []
  }
 ],
 "metadata": {
  "kernelspec": {
   "display_name": "conda_python3",
   "language": "python",
   "name": "conda_python3"
  },
  "language_info": {
   "codemirror_mode": {
    "name": "ipython",
    "version": 3
   },
   "file_extension": ".py",
   "mimetype": "text/x-python",
   "name": "python",
   "nbconvert_exporter": "python",
   "pygments_lexer": "ipython3",
   "version": "3.6.13"
  }
 },
 "nbformat": 4,
 "nbformat_minor": 5
}
