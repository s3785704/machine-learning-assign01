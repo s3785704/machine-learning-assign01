{
 "cells": [
  {
   "cell_type": "code",
   "execution_count": 37,
   "metadata": {},
   "outputs": [
    {
     "data": {
      "text/html": [
       "<div>\n",
       "<style scoped>\n",
       "    .dataframe tbody tr th:only-of-type {\n",
       "        vertical-align: middle;\n",
       "    }\n",
       "\n",
       "    .dataframe tbody tr th {\n",
       "        vertical-align: top;\n",
       "    }\n",
       "\n",
       "    .dataframe thead th {\n",
       "        text-align: right;\n",
       "    }\n",
       "</style>\n",
       "<table border=\"1\" class=\"dataframe\">\n",
       "  <thead>\n",
       "    <tr style=\"text-align: right;\">\n",
       "      <th></th>\n",
       "      <th>ID</th>\n",
       "      <th>HealthServiceArea</th>\n",
       "      <th>Gender</th>\n",
       "      <th>Race</th>\n",
       "      <th>TypeOfAdmission</th>\n",
       "      <th>CCSProcedureCode</th>\n",
       "      <th>APRSeverityOfIllnessCode</th>\n",
       "      <th>PaymentTypology</th>\n",
       "      <th>BirthWeight</th>\n",
       "      <th>EmergencyDepartmentIndicator</th>\n",
       "      <th>AverageCostInCounty</th>\n",
       "      <th>AverageChargesInCounty</th>\n",
       "      <th>AverageCostInFacility</th>\n",
       "      <th>AverageChargesInFacility</th>\n",
       "      <th>AverageIncomeInZipCode</th>\n",
       "      <th>LengthOfStay</th>\n",
       "    </tr>\n",
       "  </thead>\n",
       "  <tbody>\n",
       "    <tr>\n",
       "      <th>0</th>\n",
       "      <td>1</td>\n",
       "      <td>New York City</td>\n",
       "      <td>F</td>\n",
       "      <td>Other Race</td>\n",
       "      <td>Newborn</td>\n",
       "      <td>228</td>\n",
       "      <td>1</td>\n",
       "      <td>Medicaid</td>\n",
       "      <td>3700</td>\n",
       "      <td>N</td>\n",
       "      <td>2611</td>\n",
       "      <td>9227</td>\n",
       "      <td>1751</td>\n",
       "      <td>8951</td>\n",
       "      <td>45</td>\n",
       "      <td>1</td>\n",
       "    </tr>\n",
       "    <tr>\n",
       "      <th>1</th>\n",
       "      <td>2</td>\n",
       "      <td>New York City</td>\n",
       "      <td>M</td>\n",
       "      <td>Black/African American</td>\n",
       "      <td>Newborn</td>\n",
       "      <td>228</td>\n",
       "      <td>1</td>\n",
       "      <td>Medicaid</td>\n",
       "      <td>2900</td>\n",
       "      <td>N</td>\n",
       "      <td>3242</td>\n",
       "      <td>8966</td>\n",
       "      <td>3338</td>\n",
       "      <td>6409</td>\n",
       "      <td>34</td>\n",
       "      <td>1</td>\n",
       "    </tr>\n",
       "    <tr>\n",
       "      <th>2</th>\n",
       "      <td>3</td>\n",
       "      <td>New York City</td>\n",
       "      <td>M</td>\n",
       "      <td>Other Race</td>\n",
       "      <td>Newborn</td>\n",
       "      <td>220</td>\n",
       "      <td>1</td>\n",
       "      <td>Private Health Insurance</td>\n",
       "      <td>3200</td>\n",
       "      <td>N</td>\n",
       "      <td>3155</td>\n",
       "      <td>11381</td>\n",
       "      <td>4980</td>\n",
       "      <td>9323</td>\n",
       "      <td>45</td>\n",
       "      <td>1</td>\n",
       "    </tr>\n",
       "    <tr>\n",
       "      <th>3</th>\n",
       "      <td>4</td>\n",
       "      <td>New York City</td>\n",
       "      <td>F</td>\n",
       "      <td>Other Race</td>\n",
       "      <td>Newborn</td>\n",
       "      <td>0</td>\n",
       "      <td>1</td>\n",
       "      <td>Private Health Insurance</td>\n",
       "      <td>3300</td>\n",
       "      <td>N</td>\n",
       "      <td>3155</td>\n",
       "      <td>11381</td>\n",
       "      <td>5826</td>\n",
       "      <td>15680</td>\n",
       "      <td>59</td>\n",
       "      <td>1</td>\n",
       "    </tr>\n",
       "    <tr>\n",
       "      <th>4</th>\n",
       "      <td>5</td>\n",
       "      <td>New York City</td>\n",
       "      <td>F</td>\n",
       "      <td>Other Race</td>\n",
       "      <td>Newborn</td>\n",
       "      <td>228</td>\n",
       "      <td>1</td>\n",
       "      <td>Medicaid</td>\n",
       "      <td>2600</td>\n",
       "      <td>N</td>\n",
       "      <td>2611</td>\n",
       "      <td>9227</td>\n",
       "      <td>6000</td>\n",
       "      <td>14344</td>\n",
       "      <td>59</td>\n",
       "      <td>1</td>\n",
       "    </tr>\n",
       "  </tbody>\n",
       "</table>\n",
       "</div>"
      ],
      "text/plain": [
       "   ID HealthServiceArea Gender                    Race TypeOfAdmission  \\\n",
       "0   1     New York City      F              Other Race         Newborn   \n",
       "1   2     New York City      M  Black/African American         Newborn   \n",
       "2   3     New York City      M              Other Race         Newborn   \n",
       "3   4     New York City      F              Other Race         Newborn   \n",
       "4   5     New York City      F              Other Race         Newborn   \n",
       "\n",
       "   CCSProcedureCode  APRSeverityOfIllnessCode           PaymentTypology  \\\n",
       "0               228                         1                  Medicaid   \n",
       "1               228                         1                  Medicaid   \n",
       "2               220                         1  Private Health Insurance   \n",
       "3                 0                         1  Private Health Insurance   \n",
       "4               228                         1                  Medicaid   \n",
       "\n",
       "   BirthWeight EmergencyDepartmentIndicator  AverageCostInCounty  \\\n",
       "0         3700                            N                 2611   \n",
       "1         2900                            N                 3242   \n",
       "2         3200                            N                 3155   \n",
       "3         3300                            N                 3155   \n",
       "4         2600                            N                 2611   \n",
       "\n",
       "   AverageChargesInCounty  AverageCostInFacility  AverageChargesInFacility  \\\n",
       "0                    9227                   1751                      8951   \n",
       "1                    8966                   3338                      6409   \n",
       "2                   11381                   4980                      9323   \n",
       "3                   11381                   5826                     15680   \n",
       "4                    9227                   6000                     14344   \n",
       "\n",
       "   AverageIncomeInZipCode  LengthOfStay  \n",
       "0                      45             1  \n",
       "1                      34             1  \n",
       "2                      45             1  \n",
       "3                      59             1  \n",
       "4                      59             1  "
      ]
     },
     "execution_count": 37,
     "metadata": {},
     "output_type": "execute_result"
    }
   ],
   "source": [
    "import pandas as pd\n",
    "import numpy as np \n",
    "import matplotlib.pyplot as plt\n",
    "from sklearn.metrics import balanced_accuracy_score\n",
    "from sklearn.metrics import accuracy_score\n",
    "from sklearn.metrics import  classification_report\n",
    "from sklearn.model_selection import train_test_split\n",
    "from sklearn.linear_model import LogisticRegression\n",
    "\n",
    "df = pd.read_csv(\"train_data.csv\")\n",
    "df.head()"
   ]
  },
  {
   "cell_type": "code",
   "execution_count": 38,
   "metadata": {},
   "outputs": [
    {
     "data": {
      "text/html": [
       "<div>\n",
       "<style scoped>\n",
       "    .dataframe tbody tr th:only-of-type {\n",
       "        vertical-align: middle;\n",
       "    }\n",
       "\n",
       "    .dataframe tbody tr th {\n",
       "        vertical-align: top;\n",
       "    }\n",
       "\n",
       "    .dataframe thead th {\n",
       "        text-align: right;\n",
       "    }\n",
       "</style>\n",
       "<table border=\"1\" class=\"dataframe\">\n",
       "  <thead>\n",
       "    <tr style=\"text-align: right;\">\n",
       "      <th></th>\n",
       "      <th>Gender</th>\n",
       "      <th>Race</th>\n",
       "      <th>TypeOfAdmission</th>\n",
       "      <th>CCSProcedureCode</th>\n",
       "      <th>APRSeverityOfIllnessCode</th>\n",
       "      <th>PaymentTypology</th>\n",
       "      <th>BirthWeight</th>\n",
       "      <th>EmergencyDepartmentIndicator</th>\n",
       "      <th>AverageCostInCounty</th>\n",
       "      <th>AverageChargesInCounty</th>\n",
       "      <th>AverageCostInFacility</th>\n",
       "      <th>AverageChargesInFacility</th>\n",
       "      <th>AverageIncomeInZipCode</th>\n",
       "      <th>LengthOfStay</th>\n",
       "    </tr>\n",
       "  </thead>\n",
       "  <tbody>\n",
       "    <tr>\n",
       "      <th>0</th>\n",
       "      <td>F</td>\n",
       "      <td>Other Race</td>\n",
       "      <td>Newborn</td>\n",
       "      <td>228</td>\n",
       "      <td>1</td>\n",
       "      <td>Medicaid</td>\n",
       "      <td>3700</td>\n",
       "      <td>N</td>\n",
       "      <td>2611</td>\n",
       "      <td>9227</td>\n",
       "      <td>1751</td>\n",
       "      <td>8951</td>\n",
       "      <td>45</td>\n",
       "      <td>1</td>\n",
       "    </tr>\n",
       "    <tr>\n",
       "      <th>1</th>\n",
       "      <td>M</td>\n",
       "      <td>Black/African American</td>\n",
       "      <td>Newborn</td>\n",
       "      <td>228</td>\n",
       "      <td>1</td>\n",
       "      <td>Medicaid</td>\n",
       "      <td>2900</td>\n",
       "      <td>N</td>\n",
       "      <td>3242</td>\n",
       "      <td>8966</td>\n",
       "      <td>3338</td>\n",
       "      <td>6409</td>\n",
       "      <td>34</td>\n",
       "      <td>1</td>\n",
       "    </tr>\n",
       "    <tr>\n",
       "      <th>2</th>\n",
       "      <td>M</td>\n",
       "      <td>Other Race</td>\n",
       "      <td>Newborn</td>\n",
       "      <td>220</td>\n",
       "      <td>1</td>\n",
       "      <td>Private Health Insurance</td>\n",
       "      <td>3200</td>\n",
       "      <td>N</td>\n",
       "      <td>3155</td>\n",
       "      <td>11381</td>\n",
       "      <td>4980</td>\n",
       "      <td>9323</td>\n",
       "      <td>45</td>\n",
       "      <td>1</td>\n",
       "    </tr>\n",
       "    <tr>\n",
       "      <th>3</th>\n",
       "      <td>F</td>\n",
       "      <td>Other Race</td>\n",
       "      <td>Newborn</td>\n",
       "      <td>0</td>\n",
       "      <td>1</td>\n",
       "      <td>Private Health Insurance</td>\n",
       "      <td>3300</td>\n",
       "      <td>N</td>\n",
       "      <td>3155</td>\n",
       "      <td>11381</td>\n",
       "      <td>5826</td>\n",
       "      <td>15680</td>\n",
       "      <td>59</td>\n",
       "      <td>1</td>\n",
       "    </tr>\n",
       "    <tr>\n",
       "      <th>4</th>\n",
       "      <td>F</td>\n",
       "      <td>Other Race</td>\n",
       "      <td>Newborn</td>\n",
       "      <td>228</td>\n",
       "      <td>1</td>\n",
       "      <td>Medicaid</td>\n",
       "      <td>2600</td>\n",
       "      <td>N</td>\n",
       "      <td>2611</td>\n",
       "      <td>9227</td>\n",
       "      <td>6000</td>\n",
       "      <td>14344</td>\n",
       "      <td>59</td>\n",
       "      <td>1</td>\n",
       "    </tr>\n",
       "  </tbody>\n",
       "</table>\n",
       "</div>"
      ],
      "text/plain": [
       "  Gender                    Race TypeOfAdmission  CCSProcedureCode  \\\n",
       "0      F              Other Race         Newborn               228   \n",
       "1      M  Black/African American         Newborn               228   \n",
       "2      M              Other Race         Newborn               220   \n",
       "3      F              Other Race         Newborn                 0   \n",
       "4      F              Other Race         Newborn               228   \n",
       "\n",
       "   APRSeverityOfIllnessCode           PaymentTypology  BirthWeight  \\\n",
       "0                         1                  Medicaid         3700   \n",
       "1                         1                  Medicaid         2900   \n",
       "2                         1  Private Health Insurance         3200   \n",
       "3                         1  Private Health Insurance         3300   \n",
       "4                         1                  Medicaid         2600   \n",
       "\n",
       "  EmergencyDepartmentIndicator  AverageCostInCounty  AverageChargesInCounty  \\\n",
       "0                            N                 2611                    9227   \n",
       "1                            N                 3242                    8966   \n",
       "2                            N                 3155                   11381   \n",
       "3                            N                 3155                   11381   \n",
       "4                            N                 2611                    9227   \n",
       "\n",
       "   AverageCostInFacility  AverageChargesInFacility  AverageIncomeInZipCode  \\\n",
       "0                   1751                      8951                      45   \n",
       "1                   3338                      6409                      34   \n",
       "2                   4980                      9323                      45   \n",
       "3                   5826                     15680                      59   \n",
       "4                   6000                     14344                      59   \n",
       "\n",
       "   LengthOfStay  \n",
       "0             1  \n",
       "1             1  \n",
       "2             1  \n",
       "3             1  \n",
       "4             1  "
      ]
     },
     "execution_count": 38,
     "metadata": {},
     "output_type": "execute_result"
    }
   ],
   "source": [
    "df.drop(columns = ['ID','HealthServiceArea'],inplace=True,axis=1)\n",
    "df.head()"
   ]
  },
  {
   "cell_type": "markdown",
   "metadata": {},
   "source": [
    "Drop the columns ID and HeatlServiceArea"
   ]
  },
  {
   "cell_type": "markdown",
   "metadata": {},
   "source": [
    "#EDA and Statistics"
   ]
  },
  {
   "cell_type": "code",
   "execution_count": 39,
   "metadata": {},
   "outputs": [
    {
     "name": "stdout",
     "output_type": "stream",
     "text": [
      "<class 'pandas.core.frame.DataFrame'>\n",
      "RangeIndex: 59966 entries, 0 to 59965\n",
      "Data columns (total 14 columns):\n",
      " #   Column                        Non-Null Count  Dtype \n",
      "---  ------                        --------------  ----- \n",
      " 0   Gender                        59966 non-null  object\n",
      " 1   Race                          59966 non-null  object\n",
      " 2   TypeOfAdmission               59966 non-null  object\n",
      " 3   CCSProcedureCode              59966 non-null  int64 \n",
      " 4   APRSeverityOfIllnessCode      59966 non-null  int64 \n",
      " 5   PaymentTypology               59966 non-null  object\n",
      " 6   BirthWeight                   59966 non-null  int64 \n",
      " 7   EmergencyDepartmentIndicator  59966 non-null  object\n",
      " 8   AverageCostInCounty           59966 non-null  int64 \n",
      " 9   AverageChargesInCounty        59966 non-null  int64 \n",
      " 10  AverageCostInFacility         59966 non-null  int64 \n",
      " 11  AverageChargesInFacility      59966 non-null  int64 \n",
      " 12  AverageIncomeInZipCode        59966 non-null  int64 \n",
      " 13  LengthOfStay                  59966 non-null  int64 \n",
      "dtypes: int64(9), object(5)\n",
      "memory usage: 6.4+ MB\n"
     ]
    }
   ],
   "source": [
    "df.info()"
   ]
  },
  {
   "cell_type": "markdown",
   "metadata": {},
   "source": [
    "The data has  categorical columns :\n",
    "<br> 1.Gender\n",
    "<br> 2.Race\n",
    "<br> 3.PaymentTypology\n",
    "<br> 4.Emergency Depearment Indicator \n",
    "<br> <b> Even though the columns CCSProcedureCode and APRSeverityofIllnessCode are numeric, they seem to be categorical in nature which must be verified "
   ]
  },
  {
   "cell_type": "code",
   "execution_count": 40,
   "metadata": {},
   "outputs": [
    {
     "data": {
      "text/html": [
       "<div>\n",
       "<style scoped>\n",
       "    .dataframe tbody tr th:only-of-type {\n",
       "        vertical-align: middle;\n",
       "    }\n",
       "\n",
       "    .dataframe tbody tr th {\n",
       "        vertical-align: top;\n",
       "    }\n",
       "\n",
       "    .dataframe thead th {\n",
       "        text-align: right;\n",
       "    }\n",
       "</style>\n",
       "<table border=\"1\" class=\"dataframe\">\n",
       "  <thead>\n",
       "    <tr style=\"text-align: right;\">\n",
       "      <th></th>\n",
       "      <th>CCSProcedureCode</th>\n",
       "      <th>APRSeverityOfIllnessCode</th>\n",
       "      <th>BirthWeight</th>\n",
       "      <th>AverageCostInCounty</th>\n",
       "      <th>AverageChargesInCounty</th>\n",
       "      <th>AverageCostInFacility</th>\n",
       "      <th>AverageChargesInFacility</th>\n",
       "      <th>AverageIncomeInZipCode</th>\n",
       "      <th>LengthOfStay</th>\n",
       "    </tr>\n",
       "  </thead>\n",
       "  <tbody>\n",
       "    <tr>\n",
       "      <th>count</th>\n",
       "      <td>59966.000000</td>\n",
       "      <td>59966.000000</td>\n",
       "      <td>59966.000000</td>\n",
       "      <td>59966.000000</td>\n",
       "      <td>59966.000000</td>\n",
       "      <td>59966.000000</td>\n",
       "      <td>59966.000000</td>\n",
       "      <td>59966.000000</td>\n",
       "      <td>59966.000000</td>\n",
       "    </tr>\n",
       "    <tr>\n",
       "      <th>mean</th>\n",
       "      <td>155.404229</td>\n",
       "      <td>1.254594</td>\n",
       "      <td>3336.298903</td>\n",
       "      <td>2372.806690</td>\n",
       "      <td>7979.126922</td>\n",
       "      <td>2396.414318</td>\n",
       "      <td>7958.472668</td>\n",
       "      <td>59.811143</td>\n",
       "      <td>2.538405</td>\n",
       "    </tr>\n",
       "    <tr>\n",
       "      <th>std</th>\n",
       "      <td>89.541978</td>\n",
       "      <td>0.546207</td>\n",
       "      <td>446.244475</td>\n",
       "      <td>639.755096</td>\n",
       "      <td>3220.291347</td>\n",
       "      <td>1248.501189</td>\n",
       "      <td>3859.294711</td>\n",
       "      <td>21.470170</td>\n",
       "      <td>1.171246</td>\n",
       "    </tr>\n",
       "    <tr>\n",
       "      <th>min</th>\n",
       "      <td>-1.000000</td>\n",
       "      <td>1.000000</td>\n",
       "      <td>2500.000000</td>\n",
       "      <td>712.000000</td>\n",
       "      <td>1243.000000</td>\n",
       "      <td>457.000000</td>\n",
       "      <td>1120.000000</td>\n",
       "      <td>28.000000</td>\n",
       "      <td>1.000000</td>\n",
       "    </tr>\n",
       "    <tr>\n",
       "      <th>25%</th>\n",
       "      <td>115.000000</td>\n",
       "      <td>1.000000</td>\n",
       "      <td>3000.000000</td>\n",
       "      <td>2041.000000</td>\n",
       "      <td>4620.000000</td>\n",
       "      <td>1551.000000</td>\n",
       "      <td>4438.000000</td>\n",
       "      <td>45.000000</td>\n",
       "      <td>2.000000</td>\n",
       "    </tr>\n",
       "    <tr>\n",
       "      <th>50%</th>\n",
       "      <td>220.000000</td>\n",
       "      <td>1.000000</td>\n",
       "      <td>3300.000000</td>\n",
       "      <td>2533.000000</td>\n",
       "      <td>9227.000000</td>\n",
       "      <td>1967.000000</td>\n",
       "      <td>7945.000000</td>\n",
       "      <td>55.000000</td>\n",
       "      <td>2.000000</td>\n",
       "    </tr>\n",
       "    <tr>\n",
       "      <th>75%</th>\n",
       "      <td>228.000000</td>\n",
       "      <td>1.000000</td>\n",
       "      <td>3600.000000</td>\n",
       "      <td>2785.000000</td>\n",
       "      <td>10644.000000</td>\n",
       "      <td>2895.000000</td>\n",
       "      <td>11619.000000</td>\n",
       "      <td>74.000000</td>\n",
       "      <td>3.000000</td>\n",
       "    </tr>\n",
       "    <tr>\n",
       "      <th>max</th>\n",
       "      <td>231.000000</td>\n",
       "      <td>4.000000</td>\n",
       "      <td>7500.000000</td>\n",
       "      <td>3242.000000</td>\n",
       "      <td>11381.000000</td>\n",
       "      <td>8114.000000</td>\n",
       "      <td>18466.000000</td>\n",
       "      <td>115.000000</td>\n",
       "      <td>10.000000</td>\n",
       "    </tr>\n",
       "  </tbody>\n",
       "</table>\n",
       "</div>"
      ],
      "text/plain": [
       "       CCSProcedureCode  APRSeverityOfIllnessCode   BirthWeight  \\\n",
       "count      59966.000000              59966.000000  59966.000000   \n",
       "mean         155.404229                  1.254594   3336.298903   \n",
       "std           89.541978                  0.546207    446.244475   \n",
       "min           -1.000000                  1.000000   2500.000000   \n",
       "25%          115.000000                  1.000000   3000.000000   \n",
       "50%          220.000000                  1.000000   3300.000000   \n",
       "75%          228.000000                  1.000000   3600.000000   \n",
       "max          231.000000                  4.000000   7500.000000   \n",
       "\n",
       "       AverageCostInCounty  AverageChargesInCounty  AverageCostInFacility  \\\n",
       "count         59966.000000            59966.000000           59966.000000   \n",
       "mean           2372.806690             7979.126922            2396.414318   \n",
       "std             639.755096             3220.291347            1248.501189   \n",
       "min             712.000000             1243.000000             457.000000   \n",
       "25%            2041.000000             4620.000000            1551.000000   \n",
       "50%            2533.000000             9227.000000            1967.000000   \n",
       "75%            2785.000000            10644.000000            2895.000000   \n",
       "max            3242.000000            11381.000000            8114.000000   \n",
       "\n",
       "       AverageChargesInFacility  AverageIncomeInZipCode  LengthOfStay  \n",
       "count              59966.000000            59966.000000  59966.000000  \n",
       "mean                7958.472668               59.811143      2.538405  \n",
       "std                 3859.294711               21.470170      1.171246  \n",
       "min                 1120.000000               28.000000      1.000000  \n",
       "25%                 4438.000000               45.000000      2.000000  \n",
       "50%                 7945.000000               55.000000      2.000000  \n",
       "75%                11619.000000               74.000000      3.000000  \n",
       "max                18466.000000              115.000000     10.000000  "
      ]
     },
     "execution_count": 40,
     "metadata": {},
     "output_type": "execute_result"
    }
   ],
   "source": [
    "df.describe()"
   ]
  },
  {
   "cell_type": "markdown",
   "metadata": {},
   "source": [
    "Few observations from the description statistics:\n",
    "    <br>1. The average LengthOfStay(LOS) is 2.53 and the min=1 and max=10\n",
    "    <br>2. The average AverageCostInCounty is 2372 and AvergaeChargesInCounty is 7979 . whats the correlatio between these two ?\n",
    "    <br><b> It would be intersting toobserve the correlation between these and the LengthOfStay(LOS)"
   ]
  },
  {
   "cell_type": "code",
   "execution_count": 41,
   "metadata": {},
   "outputs": [
    {
     "data": {
      "text/html": [
       "<div>\n",
       "<style scoped>\n",
       "    .dataframe tbody tr th:only-of-type {\n",
       "        vertical-align: middle;\n",
       "    }\n",
       "\n",
       "    .dataframe tbody tr th {\n",
       "        vertical-align: top;\n",
       "    }\n",
       "\n",
       "    .dataframe thead th {\n",
       "        text-align: right;\n",
       "    }\n",
       "</style>\n",
       "<table border=\"1\" class=\"dataframe\">\n",
       "  <thead>\n",
       "    <tr style=\"text-align: right;\">\n",
       "      <th></th>\n",
       "      <th>Gender</th>\n",
       "      <th>Race</th>\n",
       "      <th>TypeOfAdmission</th>\n",
       "      <th>CCSProcedureCode</th>\n",
       "      <th>APRSeverityOfIllnessCode</th>\n",
       "      <th>PaymentTypology</th>\n",
       "      <th>BirthWeight</th>\n",
       "      <th>EmergencyDepartmentIndicator</th>\n",
       "      <th>AverageCostInCounty</th>\n",
       "      <th>AverageChargesInCounty</th>\n",
       "      <th>AverageCostInFacility</th>\n",
       "      <th>AverageChargesInFacility</th>\n",
       "      <th>AverageIncomeInZipCode</th>\n",
       "    </tr>\n",
       "    <tr>\n",
       "      <th>LengthOfStay</th>\n",
       "      <th></th>\n",
       "      <th></th>\n",
       "      <th></th>\n",
       "      <th></th>\n",
       "      <th></th>\n",
       "      <th></th>\n",
       "      <th></th>\n",
       "      <th></th>\n",
       "      <th></th>\n",
       "      <th></th>\n",
       "      <th></th>\n",
       "      <th></th>\n",
       "      <th></th>\n",
       "    </tr>\n",
       "  </thead>\n",
       "  <tbody>\n",
       "    <tr>\n",
       "      <th>1</th>\n",
       "      <td>8895</td>\n",
       "      <td>8895</td>\n",
       "      <td>8895</td>\n",
       "      <td>8895</td>\n",
       "      <td>8895</td>\n",
       "      <td>8895</td>\n",
       "      <td>8895</td>\n",
       "      <td>8895</td>\n",
       "      <td>8895</td>\n",
       "      <td>8895</td>\n",
       "      <td>8895</td>\n",
       "      <td>8895</td>\n",
       "      <td>8895</td>\n",
       "    </tr>\n",
       "    <tr>\n",
       "      <th>2</th>\n",
       "      <td>25000</td>\n",
       "      <td>25000</td>\n",
       "      <td>25000</td>\n",
       "      <td>25000</td>\n",
       "      <td>25000</td>\n",
       "      <td>25000</td>\n",
       "      <td>25000</td>\n",
       "      <td>25000</td>\n",
       "      <td>25000</td>\n",
       "      <td>25000</td>\n",
       "      <td>25000</td>\n",
       "      <td>25000</td>\n",
       "      <td>25000</td>\n",
       "    </tr>\n",
       "    <tr>\n",
       "      <th>3</th>\n",
       "      <td>16000</td>\n",
       "      <td>16000</td>\n",
       "      <td>16000</td>\n",
       "      <td>16000</td>\n",
       "      <td>16000</td>\n",
       "      <td>16000</td>\n",
       "      <td>16000</td>\n",
       "      <td>16000</td>\n",
       "      <td>16000</td>\n",
       "      <td>16000</td>\n",
       "      <td>16000</td>\n",
       "      <td>16000</td>\n",
       "      <td>16000</td>\n",
       "    </tr>\n",
       "    <tr>\n",
       "      <th>4</th>\n",
       "      <td>7504</td>\n",
       "      <td>7504</td>\n",
       "      <td>7504</td>\n",
       "      <td>7504</td>\n",
       "      <td>7504</td>\n",
       "      <td>7504</td>\n",
       "      <td>7504</td>\n",
       "      <td>7504</td>\n",
       "      <td>7504</td>\n",
       "      <td>7504</td>\n",
       "      <td>7504</td>\n",
       "      <td>7504</td>\n",
       "      <td>7504</td>\n",
       "    </tr>\n",
       "    <tr>\n",
       "      <th>5</th>\n",
       "      <td>1342</td>\n",
       "      <td>1342</td>\n",
       "      <td>1342</td>\n",
       "      <td>1342</td>\n",
       "      <td>1342</td>\n",
       "      <td>1342</td>\n",
       "      <td>1342</td>\n",
       "      <td>1342</td>\n",
       "      <td>1342</td>\n",
       "      <td>1342</td>\n",
       "      <td>1342</td>\n",
       "      <td>1342</td>\n",
       "      <td>1342</td>\n",
       "    </tr>\n",
       "    <tr>\n",
       "      <th>6</th>\n",
       "      <td>557</td>\n",
       "      <td>557</td>\n",
       "      <td>557</td>\n",
       "      <td>557</td>\n",
       "      <td>557</td>\n",
       "      <td>557</td>\n",
       "      <td>557</td>\n",
       "      <td>557</td>\n",
       "      <td>557</td>\n",
       "      <td>557</td>\n",
       "      <td>557</td>\n",
       "      <td>557</td>\n",
       "      <td>557</td>\n",
       "    </tr>\n",
       "    <tr>\n",
       "      <th>7</th>\n",
       "      <td>346</td>\n",
       "      <td>346</td>\n",
       "      <td>346</td>\n",
       "      <td>346</td>\n",
       "      <td>346</td>\n",
       "      <td>346</td>\n",
       "      <td>346</td>\n",
       "      <td>346</td>\n",
       "      <td>346</td>\n",
       "      <td>346</td>\n",
       "      <td>346</td>\n",
       "      <td>346</td>\n",
       "      <td>346</td>\n",
       "    </tr>\n",
       "    <tr>\n",
       "      <th>8</th>\n",
       "      <td>145</td>\n",
       "      <td>145</td>\n",
       "      <td>145</td>\n",
       "      <td>145</td>\n",
       "      <td>145</td>\n",
       "      <td>145</td>\n",
       "      <td>145</td>\n",
       "      <td>145</td>\n",
       "      <td>145</td>\n",
       "      <td>145</td>\n",
       "      <td>145</td>\n",
       "      <td>145</td>\n",
       "      <td>145</td>\n",
       "    </tr>\n",
       "    <tr>\n",
       "      <th>9</th>\n",
       "      <td>97</td>\n",
       "      <td>97</td>\n",
       "      <td>97</td>\n",
       "      <td>97</td>\n",
       "      <td>97</td>\n",
       "      <td>97</td>\n",
       "      <td>97</td>\n",
       "      <td>97</td>\n",
       "      <td>97</td>\n",
       "      <td>97</td>\n",
       "      <td>97</td>\n",
       "      <td>97</td>\n",
       "      <td>97</td>\n",
       "    </tr>\n",
       "    <tr>\n",
       "      <th>10</th>\n",
       "      <td>80</td>\n",
       "      <td>80</td>\n",
       "      <td>80</td>\n",
       "      <td>80</td>\n",
       "      <td>80</td>\n",
       "      <td>80</td>\n",
       "      <td>80</td>\n",
       "      <td>80</td>\n",
       "      <td>80</td>\n",
       "      <td>80</td>\n",
       "      <td>80</td>\n",
       "      <td>80</td>\n",
       "      <td>80</td>\n",
       "    </tr>\n",
       "  </tbody>\n",
       "</table>\n",
       "</div>"
      ],
      "text/plain": [
       "              Gender   Race  TypeOfAdmission  CCSProcedureCode  \\\n",
       "LengthOfStay                                                     \n",
       "1               8895   8895             8895              8895   \n",
       "2              25000  25000            25000             25000   \n",
       "3              16000  16000            16000             16000   \n",
       "4               7504   7504             7504              7504   \n",
       "5               1342   1342             1342              1342   \n",
       "6                557    557              557               557   \n",
       "7                346    346              346               346   \n",
       "8                145    145              145               145   \n",
       "9                 97     97               97                97   \n",
       "10                80     80               80                80   \n",
       "\n",
       "              APRSeverityOfIllnessCode  PaymentTypology  BirthWeight  \\\n",
       "LengthOfStay                                                           \n",
       "1                                 8895             8895         8895   \n",
       "2                                25000            25000        25000   \n",
       "3                                16000            16000        16000   \n",
       "4                                 7504             7504         7504   \n",
       "5                                 1342             1342         1342   \n",
       "6                                  557              557          557   \n",
       "7                                  346              346          346   \n",
       "8                                  145              145          145   \n",
       "9                                   97               97           97   \n",
       "10                                  80               80           80   \n",
       "\n",
       "              EmergencyDepartmentIndicator  AverageCostInCounty  \\\n",
       "LengthOfStay                                                      \n",
       "1                                     8895                 8895   \n",
       "2                                    25000                25000   \n",
       "3                                    16000                16000   \n",
       "4                                     7504                 7504   \n",
       "5                                     1342                 1342   \n",
       "6                                      557                  557   \n",
       "7                                      346                  346   \n",
       "8                                      145                  145   \n",
       "9                                       97                   97   \n",
       "10                                      80                   80   \n",
       "\n",
       "              AverageChargesInCounty  AverageCostInFacility  \\\n",
       "LengthOfStay                                                  \n",
       "1                               8895                   8895   \n",
       "2                              25000                  25000   \n",
       "3                              16000                  16000   \n",
       "4                               7504                   7504   \n",
       "5                               1342                   1342   \n",
       "6                                557                    557   \n",
       "7                                346                    346   \n",
       "8                                145                    145   \n",
       "9                                 97                     97   \n",
       "10                                80                     80   \n",
       "\n",
       "              AverageChargesInFacility  AverageIncomeInZipCode  \n",
       "LengthOfStay                                                    \n",
       "1                                 8895                    8895  \n",
       "2                                25000                   25000  \n",
       "3                                16000                   16000  \n",
       "4                                 7504                    7504  \n",
       "5                                 1342                    1342  \n",
       "6                                  557                     557  \n",
       "7                                  346                     346  \n",
       "8                                  145                     145  \n",
       "9                                   97                      97  \n",
       "10                                  80                      80  "
      ]
     },
     "execution_count": 41,
     "metadata": {},
     "output_type": "execute_result"
    }
   ],
   "source": [
    "col_values = df['LengthOfStay'].values\n",
    "df.groupby(['LengthOfStay']).count()\n",
    "#unique_val = pd.unique(col_values)\n",
    "#print(sorted(unique_val))"
   ]
  },
  {
   "cell_type": "markdown",
   "metadata": {},
   "source": [
    "The examples with < 4 days is 49895 and 10,071 >=4 days .\n",
    "<br> 1. (<  4 days) => 83.36 %\n",
    "<br> 2. (>=4 days) => 16.64 %\n",
    "\n"
   ]
  },
  {
   "cell_type": "code",
   "execution_count": 42,
   "metadata": {},
   "outputs": [],
   "source": [
    "#So lets change the LengthOfStay \n",
    "def change_los(x):\n",
    "    if x < 4:\n",
    "        return 0\n",
    "    return 1\n",
    "df['LengthOfStay'] = df['LengthOfStay'].apply(change_los)"
   ]
  },
  {
   "cell_type": "code",
   "execution_count": 43,
   "metadata": {},
   "outputs": [
    {
     "data": {
      "text/html": [
       "<div>\n",
       "<style scoped>\n",
       "    .dataframe tbody tr th:only-of-type {\n",
       "        vertical-align: middle;\n",
       "    }\n",
       "\n",
       "    .dataframe tbody tr th {\n",
       "        vertical-align: top;\n",
       "    }\n",
       "\n",
       "    .dataframe thead th {\n",
       "        text-align: right;\n",
       "    }\n",
       "</style>\n",
       "<table border=\"1\" class=\"dataframe\">\n",
       "  <thead>\n",
       "    <tr style=\"text-align: right;\">\n",
       "      <th></th>\n",
       "      <th>Gender</th>\n",
       "      <th>Race</th>\n",
       "      <th>TypeOfAdmission</th>\n",
       "      <th>CCSProcedureCode</th>\n",
       "      <th>APRSeverityOfIllnessCode</th>\n",
       "      <th>PaymentTypology</th>\n",
       "      <th>BirthWeight</th>\n",
       "      <th>EmergencyDepartmentIndicator</th>\n",
       "      <th>AverageCostInCounty</th>\n",
       "      <th>AverageChargesInCounty</th>\n",
       "      <th>AverageCostInFacility</th>\n",
       "      <th>AverageChargesInFacility</th>\n",
       "      <th>AverageIncomeInZipCode</th>\n",
       "      <th>LengthOfStay</th>\n",
       "    </tr>\n",
       "  </thead>\n",
       "  <tbody>\n",
       "    <tr>\n",
       "      <th>0</th>\n",
       "      <td>F</td>\n",
       "      <td>Other Race</td>\n",
       "      <td>Newborn</td>\n",
       "      <td>228</td>\n",
       "      <td>1</td>\n",
       "      <td>Medicaid</td>\n",
       "      <td>3700</td>\n",
       "      <td>N</td>\n",
       "      <td>2611</td>\n",
       "      <td>9227</td>\n",
       "      <td>1751</td>\n",
       "      <td>8951</td>\n",
       "      <td>45</td>\n",
       "      <td>0</td>\n",
       "    </tr>\n",
       "    <tr>\n",
       "      <th>1</th>\n",
       "      <td>M</td>\n",
       "      <td>Black/African American</td>\n",
       "      <td>Newborn</td>\n",
       "      <td>228</td>\n",
       "      <td>1</td>\n",
       "      <td>Medicaid</td>\n",
       "      <td>2900</td>\n",
       "      <td>N</td>\n",
       "      <td>3242</td>\n",
       "      <td>8966</td>\n",
       "      <td>3338</td>\n",
       "      <td>6409</td>\n",
       "      <td>34</td>\n",
       "      <td>0</td>\n",
       "    </tr>\n",
       "    <tr>\n",
       "      <th>2</th>\n",
       "      <td>M</td>\n",
       "      <td>Other Race</td>\n",
       "      <td>Newborn</td>\n",
       "      <td>220</td>\n",
       "      <td>1</td>\n",
       "      <td>Private Health Insurance</td>\n",
       "      <td>3200</td>\n",
       "      <td>N</td>\n",
       "      <td>3155</td>\n",
       "      <td>11381</td>\n",
       "      <td>4980</td>\n",
       "      <td>9323</td>\n",
       "      <td>45</td>\n",
       "      <td>0</td>\n",
       "    </tr>\n",
       "  </tbody>\n",
       "</table>\n",
       "</div>"
      ],
      "text/plain": [
       "  Gender                    Race TypeOfAdmission  CCSProcedureCode  \\\n",
       "0      F              Other Race         Newborn               228   \n",
       "1      M  Black/African American         Newborn               228   \n",
       "2      M              Other Race         Newborn               220   \n",
       "\n",
       "   APRSeverityOfIllnessCode           PaymentTypology  BirthWeight  \\\n",
       "0                         1                  Medicaid         3700   \n",
       "1                         1                  Medicaid         2900   \n",
       "2                         1  Private Health Insurance         3200   \n",
       "\n",
       "  EmergencyDepartmentIndicator  AverageCostInCounty  AverageChargesInCounty  \\\n",
       "0                            N                 2611                    9227   \n",
       "1                            N                 3242                    8966   \n",
       "2                            N                 3155                   11381   \n",
       "\n",
       "   AverageCostInFacility  AverageChargesInFacility  AverageIncomeInZipCode  \\\n",
       "0                   1751                      8951                      45   \n",
       "1                   3338                      6409                      34   \n",
       "2                   4980                      9323                      45   \n",
       "\n",
       "   LengthOfStay  \n",
       "0             0  \n",
       "1             0  \n",
       "2             0  "
      ]
     },
     "execution_count": 43,
     "metadata": {},
     "output_type": "execute_result"
    }
   ],
   "source": [
    "df.head(3)"
   ]
  },
  {
   "cell_type": "code",
   "execution_count": 44,
   "metadata": {},
   "outputs": [
    {
     "data": {
      "text/html": [
       "<div>\n",
       "<style scoped>\n",
       "    .dataframe tbody tr th:only-of-type {\n",
       "        vertical-align: middle;\n",
       "    }\n",
       "\n",
       "    .dataframe tbody tr th {\n",
       "        vertical-align: top;\n",
       "    }\n",
       "\n",
       "    .dataframe thead th {\n",
       "        text-align: right;\n",
       "    }\n",
       "</style>\n",
       "<table border=\"1\" class=\"dataframe\">\n",
       "  <thead>\n",
       "    <tr style=\"text-align: right;\">\n",
       "      <th></th>\n",
       "      <th>Gender</th>\n",
       "      <th>Race</th>\n",
       "      <th>TypeOfAdmission</th>\n",
       "      <th>CCSProcedureCode</th>\n",
       "      <th>APRSeverityOfIllnessCode</th>\n",
       "      <th>PaymentTypology</th>\n",
       "      <th>BirthWeight</th>\n",
       "      <th>EmergencyDepartmentIndicator</th>\n",
       "      <th>AverageCostInCounty</th>\n",
       "      <th>AverageChargesInCounty</th>\n",
       "      <th>AverageCostInFacility</th>\n",
       "      <th>AverageChargesInFacility</th>\n",
       "      <th>AverageIncomeInZipCode</th>\n",
       "    </tr>\n",
       "    <tr>\n",
       "      <th>LengthOfStay</th>\n",
       "      <th></th>\n",
       "      <th></th>\n",
       "      <th></th>\n",
       "      <th></th>\n",
       "      <th></th>\n",
       "      <th></th>\n",
       "      <th></th>\n",
       "      <th></th>\n",
       "      <th></th>\n",
       "      <th></th>\n",
       "      <th></th>\n",
       "      <th></th>\n",
       "      <th></th>\n",
       "    </tr>\n",
       "  </thead>\n",
       "  <tbody>\n",
       "    <tr>\n",
       "      <th>0</th>\n",
       "      <td>49895</td>\n",
       "      <td>49895</td>\n",
       "      <td>49895</td>\n",
       "      <td>49895</td>\n",
       "      <td>49895</td>\n",
       "      <td>49895</td>\n",
       "      <td>49895</td>\n",
       "      <td>49895</td>\n",
       "      <td>49895</td>\n",
       "      <td>49895</td>\n",
       "      <td>49895</td>\n",
       "      <td>49895</td>\n",
       "      <td>49895</td>\n",
       "    </tr>\n",
       "    <tr>\n",
       "      <th>1</th>\n",
       "      <td>10071</td>\n",
       "      <td>10071</td>\n",
       "      <td>10071</td>\n",
       "      <td>10071</td>\n",
       "      <td>10071</td>\n",
       "      <td>10071</td>\n",
       "      <td>10071</td>\n",
       "      <td>10071</td>\n",
       "      <td>10071</td>\n",
       "      <td>10071</td>\n",
       "      <td>10071</td>\n",
       "      <td>10071</td>\n",
       "      <td>10071</td>\n",
       "    </tr>\n",
       "  </tbody>\n",
       "</table>\n",
       "</div>"
      ],
      "text/plain": [
       "              Gender   Race  TypeOfAdmission  CCSProcedureCode  \\\n",
       "LengthOfStay                                                     \n",
       "0              49895  49895            49895             49895   \n",
       "1              10071  10071            10071             10071   \n",
       "\n",
       "              APRSeverityOfIllnessCode  PaymentTypology  BirthWeight  \\\n",
       "LengthOfStay                                                           \n",
       "0                                49895            49895        49895   \n",
       "1                                10071            10071        10071   \n",
       "\n",
       "              EmergencyDepartmentIndicator  AverageCostInCounty  \\\n",
       "LengthOfStay                                                      \n",
       "0                                    49895                49895   \n",
       "1                                    10071                10071   \n",
       "\n",
       "              AverageChargesInCounty  AverageCostInFacility  \\\n",
       "LengthOfStay                                                  \n",
       "0                              49895                  49895   \n",
       "1                              10071                  10071   \n",
       "\n",
       "              AverageChargesInFacility  AverageIncomeInZipCode  \n",
       "LengthOfStay                                                    \n",
       "0                                49895                   49895  \n",
       "1                                10071                   10071  "
      ]
     },
     "execution_count": 44,
     "metadata": {},
     "output_type": "execute_result"
    }
   ],
   "source": [
    "col_values = df['LengthOfStay'].values\n",
    "df.groupby(['LengthOfStay']).count()"
   ]
  },
  {
   "cell_type": "markdown",
   "metadata": {},
   "source": [
    "<b> So the above change was successful and this confirms our previous undesrtanding that the dat contains samples LOS < 4 "
   ]
  },
  {
   "cell_type": "markdown",
   "metadata": {},
   "source": [
    "Lets now look at if there any NULL values "
   ]
  },
  {
   "cell_type": "code",
   "execution_count": 45,
   "metadata": {},
   "outputs": [
    {
     "data": {
      "text/plain": [
       "Gender                          False\n",
       "Race                            False\n",
       "TypeOfAdmission                 False\n",
       "CCSProcedureCode                False\n",
       "APRSeverityOfIllnessCode        False\n",
       "PaymentTypology                 False\n",
       "BirthWeight                     False\n",
       "EmergencyDepartmentIndicator    False\n",
       "AverageCostInCounty             False\n",
       "AverageChargesInCounty          False\n",
       "AverageCostInFacility           False\n",
       "AverageChargesInFacility        False\n",
       "AverageIncomeInZipCode          False\n",
       "LengthOfStay                    False\n",
       "dtype: bool"
      ]
     },
     "execution_count": 45,
     "metadata": {},
     "output_type": "execute_result"
    }
   ],
   "source": [
    "df.isnull().any()"
   ]
  },
  {
   "cell_type": "markdown",
   "metadata": {},
   "source": [
    "<b> So the dataset doesnot contain any NULL values "
   ]
  },
  {
   "cell_type": "markdown",
   "metadata": {},
   "source": [
    "#<b> Now lets do some data visualzation and find the distribution of the atributes and their correlation"
   ]
  },
  {
   "cell_type": "code",
   "execution_count": 46,
   "metadata": {},
   "outputs": [
    {
     "data": {
      "image/png": "[encoded data removed]",
      "text/plain": [
       "<Figure size 4320x4320 with 14 Axes>"
      ]
     },
     "metadata": {
      "needs_background": "light"
     },
     "output_type": "display_data"
    }
   ],
   "source": [
    "plt.figure(figsize=(60,60))\n",
    "#plt.figure(figsize=(6,6))\n",
    "for i,col in enumerate(df.columns):\n",
    "    plt.subplot(6,6,i+1)\n",
    "    plt.hist(df[col],alpha=0.3, color= 'b',density=True)\n",
    "    plt.title(col)\n",
    "    plt.xticks(rotation='vertical')"
   ]
  },
  {
   "cell_type": "code",
   "execution_count": 47,
   "metadata": {},
   "outputs": [
    {
     "data": {
      "text/html": [
       "<div>\n",
       "<style scoped>\n",
       "    .dataframe tbody tr th:only-of-type {\n",
       "        vertical-align: middle;\n",
       "    }\n",
       "\n",
       "    .dataframe tbody tr th {\n",
       "        vertical-align: top;\n",
       "    }\n",
       "\n",
       "    .dataframe thead th {\n",
       "        text-align: right;\n",
       "    }\n",
       "</style>\n",
       "<table border=\"1\" class=\"dataframe\">\n",
       "  <thead>\n",
       "    <tr style=\"text-align: right;\">\n",
       "      <th></th>\n",
       "      <th>Gender</th>\n",
       "    </tr>\n",
       "    <tr>\n",
       "      <th>Race</th>\n",
       "      <th></th>\n",
       "    </tr>\n",
       "  </thead>\n",
       "  <tbody>\n",
       "    <tr>\n",
       "      <th>Black/African American</th>\n",
       "      <td>8183</td>\n",
       "    </tr>\n",
       "    <tr>\n",
       "      <th>Multi-racial</th>\n",
       "      <td>526</td>\n",
       "    </tr>\n",
       "    <tr>\n",
       "      <th>Other Race</th>\n",
       "      <td>18314</td>\n",
       "    </tr>\n",
       "    <tr>\n",
       "      <th>White</th>\n",
       "      <td>32943</td>\n",
       "    </tr>\n",
       "  </tbody>\n",
       "</table>\n",
       "</div>"
      ],
      "text/plain": [
       "                        Gender\n",
       "Race                          \n",
       "Black/African American    8183\n",
       "Multi-racial               526\n",
       "Other Race               18314\n",
       "White                    32943"
      ]
     },
     "execution_count": 47,
     "metadata": {},
     "output_type": "execute_result"
    }
   ],
   "source": [
    "\n",
    "df[['Race','Gender']].groupby(['Race']).count()\n"
   ]
  },
  {
   "cell_type": "code",
   "execution_count": 48,
   "metadata": {},
   "outputs": [
    {
     "data": {
      "text/html": [
       "<div>\n",
       "<style scoped>\n",
       "    .dataframe tbody tr th:only-of-type {\n",
       "        vertical-align: middle;\n",
       "    }\n",
       "\n",
       "    .dataframe tbody tr th {\n",
       "        vertical-align: top;\n",
       "    }\n",
       "\n",
       "    .dataframe thead th {\n",
       "        text-align: right;\n",
       "    }\n",
       "</style>\n",
       "<table border=\"1\" class=\"dataframe\">\n",
       "  <thead>\n",
       "    <tr style=\"text-align: right;\">\n",
       "      <th></th>\n",
       "      <th>Race</th>\n",
       "    </tr>\n",
       "    <tr>\n",
       "      <th>Gender</th>\n",
       "      <th></th>\n",
       "    </tr>\n",
       "  </thead>\n",
       "  <tbody>\n",
       "    <tr>\n",
       "      <th>F</th>\n",
       "      <td>28987</td>\n",
       "    </tr>\n",
       "    <tr>\n",
       "      <th>M</th>\n",
       "      <td>30978</td>\n",
       "    </tr>\n",
       "    <tr>\n",
       "      <th>U</th>\n",
       "      <td>1</td>\n",
       "    </tr>\n",
       "  </tbody>\n",
       "</table>\n",
       "</div>"
      ],
      "text/plain": [
       "         Race\n",
       "Gender       \n",
       "F       28987\n",
       "M       30978\n",
       "U           1"
      ]
     },
     "execution_count": 48,
     "metadata": {},
     "output_type": "execute_result"
    }
   ],
   "source": [
    "df[['Race','Gender']].groupby(['Gender']).count()"
   ]
  },
  {
   "cell_type": "markdown",
   "metadata": {},
   "source": [
    "Key takeaways from the sample given:\n",
    "    <br>Definitely the classes are imbalanced with respect to LengthofStay as the measure \n",
    "    <br> Females are 48.34 % and males form 51.66 % of the samples \n",
    "    <br> Whites are 54.94% ,30.54% other race and 13.65% Black/African American and remaining Multi racial \n",
    "   "
   ]
  },
  {
   "cell_type": "code",
   "execution_count": 49,
   "metadata": {},
   "outputs": [
    {
     "data": {
      "text/html": [
       "<div>\n",
       "<style scoped>\n",
       "    .dataframe tbody tr th:only-of-type {\n",
       "        vertical-align: middle;\n",
       "    }\n",
       "\n",
       "    .dataframe tbody tr th {\n",
       "        vertical-align: top;\n",
       "    }\n",
       "\n",
       "    .dataframe thead th {\n",
       "        text-align: right;\n",
       "    }\n",
       "</style>\n",
       "<table border=\"1\" class=\"dataframe\">\n",
       "  <thead>\n",
       "    <tr style=\"text-align: right;\">\n",
       "      <th></th>\n",
       "      <th>Race</th>\n",
       "    </tr>\n",
       "    <tr>\n",
       "      <th>TypeOfAdmission</th>\n",
       "      <th></th>\n",
       "    </tr>\n",
       "  </thead>\n",
       "  <tbody>\n",
       "    <tr>\n",
       "      <th>Elective</th>\n",
       "      <td>154</td>\n",
       "    </tr>\n",
       "    <tr>\n",
       "      <th>Emergency</th>\n",
       "      <td>659</td>\n",
       "    </tr>\n",
       "    <tr>\n",
       "      <th>Newborn</th>\n",
       "      <td>58741</td>\n",
       "    </tr>\n",
       "    <tr>\n",
       "      <th>Urgent</th>\n",
       "      <td>412</td>\n",
       "    </tr>\n",
       "  </tbody>\n",
       "</table>\n",
       "</div>"
      ],
      "text/plain": [
       "                  Race\n",
       "TypeOfAdmission       \n",
       "Elective           154\n",
       "Emergency          659\n",
       "Newborn          58741\n",
       "Urgent             412"
      ]
     },
     "execution_count": 49,
     "metadata": {},
     "output_type": "execute_result"
    }
   ],
   "source": [
    "df[['Race','TypeOfAdmission']].groupby(['TypeOfAdmission']).count()"
   ]
  },
  {
   "cell_type": "markdown",
   "metadata": {},
   "source": [
    "The large number of observations are related to Newborn (97.96%) with next highest being Emrgencies followed by Urgent and the lective samples are very eless"
   ]
  },
  {
   "cell_type": "markdown",
   "metadata": {},
   "source": [
    "<b>So the next line of thoughts are to handle the Categorical variables and look at the distribution of the  attributes "
   ]
  },
  {
   "cell_type": "code",
   "execution_count": 50,
   "metadata": {},
   "outputs": [
    {
     "data": {
      "text/plain": [
       "(array([4.03628723e-04, 8.36907581e-04, 5.80362205e-04, 1.55488110e-04,\n",
       "        2.07450889e-05, 2.10119067e-06, 3.33522329e-07, 3.00170096e-07,\n",
       "        1.00056699e-07, 3.33522329e-08]),\n",
       " array([2500., 3000., 3500., 4000., 4500., 5000., 5500., 6000., 6500.,\n",
       "        7000., 7500.]),\n",
       " <BarContainer object of 10 artists>)"
      ]
     },
     "execution_count": 50,
     "metadata": {},
     "output_type": "execute_result"
    },
    {
     "data": {
      "image/png": "[encoded data removed]",
      "text/plain": [
       "<Figure size 432x288 with 1 Axes>"
      ]
     },
     "metadata": {
      "needs_background": "light"
     },
     "output_type": "display_data"
    }
   ],
   "source": [
    "  plt.hist(df['BirthWeight'],alpha=0.3, color= 'b',density=True)"
   ]
  },
  {
   "cell_type": "code",
   "execution_count": 51,
   "metadata": {},
   "outputs": [
    {
     "data": {
      "text/plain": [
       "7500"
      ]
     },
     "execution_count": 51,
     "metadata": {},
     "output_type": "execute_result"
    }
   ],
   "source": [
    "df['BirthWeight'].max()"
   ]
  },
  {
   "cell_type": "code",
   "execution_count": 52,
   "metadata": {},
   "outputs": [
    {
     "data": {
      "text/plain": [
       "2500"
      ]
     },
     "execution_count": 52,
     "metadata": {},
     "output_type": "execute_result"
    }
   ],
   "source": [
    "df['BirthWeight'].min()"
   ]
  },
  {
   "cell_type": "markdown",
   "metadata": {},
   "source": [
    "So the birth wight of 7500 looks like an outlier and we cannot assume the distribution is skewed rather anything above 5000 must be assumned to be an outlier condition"
   ]
  },
  {
   "cell_type": "code",
   "execution_count": 53,
   "metadata": {},
   "outputs": [
    {
     "data": {
      "text/plain": [
       "(array([0.00859539, 0.        , 0.        , 0.        , 0.        ,\n",
       "        0.00979578, 0.        , 0.        , 0.        , 0.02471228]),\n",
       " array([ -1. ,  22.2,  45.4,  68.6,  91.8, 115. , 138.2, 161.4, 184.6,\n",
       "        207.8, 231. ]),\n",
       " <BarContainer object of 10 artists>)"
      ]
     },
     "execution_count": 53,
     "metadata": {},
     "output_type": "execute_result"
    },
    {
     "data": {
      "image/png": "[encoded data removed]",
      "text/plain": [
       "<Figure size 432x288 with 1 Axes>"
      ]
     },
     "metadata": {
      "needs_background": "light"
     },
     "output_type": "display_data"
    }
   ],
   "source": [
    "plt.hist(df['CCSProcedureCode'],alpha=0.5,color='r',density='True')"
   ]
  },
  {
   "cell_type": "code",
   "execution_count": 54,
   "metadata": {},
   "outputs": [
    {
     "data": {
      "text/html": [
       "<div>\n",
       "<style scoped>\n",
       "    .dataframe tbody tr th:only-of-type {\n",
       "        vertical-align: middle;\n",
       "    }\n",
       "\n",
       "    .dataframe tbody tr th {\n",
       "        vertical-align: top;\n",
       "    }\n",
       "\n",
       "    .dataframe thead th {\n",
       "        text-align: right;\n",
       "    }\n",
       "</style>\n",
       "<table border=\"1\" class=\"dataframe\">\n",
       "  <thead>\n",
       "    <tr style=\"text-align: right;\">\n",
       "      <th></th>\n",
       "      <th>LengthOfStay</th>\n",
       "    </tr>\n",
       "    <tr>\n",
       "      <th>CCSProcedureCode</th>\n",
       "      <th></th>\n",
       "    </tr>\n",
       "  </thead>\n",
       "  <tbody>\n",
       "    <tr>\n",
       "      <th>-1</th>\n",
       "      <td>769</td>\n",
       "    </tr>\n",
       "    <tr>\n",
       "      <th>0</th>\n",
       "      <td>11189</td>\n",
       "    </tr>\n",
       "    <tr>\n",
       "      <th>115</th>\n",
       "      <td>13628</td>\n",
       "    </tr>\n",
       "    <tr>\n",
       "      <th>216</th>\n",
       "      <td>740</td>\n",
       "    </tr>\n",
       "    <tr>\n",
       "      <th>220</th>\n",
       "      <td>10773</td>\n",
       "    </tr>\n",
       "    <tr>\n",
       "      <th>228</th>\n",
       "      <td>19886</td>\n",
       "    </tr>\n",
       "    <tr>\n",
       "      <th>231</th>\n",
       "      <td>2981</td>\n",
       "    </tr>\n",
       "  </tbody>\n",
       "</table>\n",
       "</div>"
      ],
      "text/plain": [
       "                  LengthOfStay\n",
       "CCSProcedureCode              \n",
       "-1                         769\n",
       " 0                       11189\n",
       " 115                     13628\n",
       " 216                       740\n",
       " 220                     10773\n",
       " 228                     19886\n",
       " 231                      2981"
      ]
     },
     "execution_count": 54,
     "metadata": {},
     "output_type": "execute_result"
    }
   ],
   "source": [
    "df[['CCSProcedureCode','LengthOfStay']].groupby(['CCSProcedureCode']).count()"
   ]
  },
  {
   "cell_type": "markdown",
   "metadata": {},
   "source": [
    "<b>So the CCS procedure code is kind of fixed and we can assume that only specific codes . We can assume its ordinal in nature"
   ]
  },
  {
   "cell_type": "code",
   "execution_count": 55,
   "metadata": {},
   "outputs": [
    {
     "data": {
      "text/plain": [
       "(array([2.66556604e+00, 0.00000000e+00, 0.00000000e+00, 4.86942601e-01,\n",
       "        0.00000000e+00, 0.00000000e+00, 1.80769102e-01, 0.00000000e+00,\n",
       "        0.00000000e+00, 5.55870549e-05]),\n",
       " array([1. , 1.3, 1.6, 1.9, 2.2, 2.5, 2.8, 3.1, 3.4, 3.7, 4. ]),\n",
       " <BarContainer object of 10 artists>)"
      ]
     },
     "execution_count": 55,
     "metadata": {},
     "output_type": "execute_result"
    },
    {
     "data": {
      "image/png": "[encoded data removed]",
      "text/plain": [
       "<Figure size 432x288 with 1 Axes>"
      ]
     },
     "metadata": {
      "needs_background": "light"
     },
     "output_type": "display_data"
    }
   ],
   "source": [
    "plt.hist(df['APRSeverityOfIllnessCode'],alpha=0.5,color='g',density='True')"
   ]
  },
  {
   "cell_type": "code",
   "execution_count": 56,
   "metadata": {},
   "outputs": [
    {
     "data": {
      "text/html": [
       "<div>\n",
       "<style scoped>\n",
       "    .dataframe tbody tr th:only-of-type {\n",
       "        vertical-align: middle;\n",
       "    }\n",
       "\n",
       "    .dataframe tbody tr th {\n",
       "        vertical-align: top;\n",
       "    }\n",
       "\n",
       "    .dataframe thead th {\n",
       "        text-align: right;\n",
       "    }\n",
       "</style>\n",
       "<table border=\"1\" class=\"dataframe\">\n",
       "  <thead>\n",
       "    <tr style=\"text-align: right;\">\n",
       "      <th></th>\n",
       "      <th>CCSProcedureCode</th>\n",
       "    </tr>\n",
       "    <tr>\n",
       "      <th>APRSeverityOfIllnessCode</th>\n",
       "      <th></th>\n",
       "    </tr>\n",
       "  </thead>\n",
       "  <tbody>\n",
       "    <tr>\n",
       "      <th>1</th>\n",
       "      <td>47953</td>\n",
       "    </tr>\n",
       "    <tr>\n",
       "      <th>2</th>\n",
       "      <td>8760</td>\n",
       "    </tr>\n",
       "    <tr>\n",
       "      <th>3</th>\n",
       "      <td>3252</td>\n",
       "    </tr>\n",
       "    <tr>\n",
       "      <th>4</th>\n",
       "      <td>1</td>\n",
       "    </tr>\n",
       "  </tbody>\n",
       "</table>\n",
       "</div>"
      ],
      "text/plain": [
       "                          CCSProcedureCode\n",
       "APRSeverityOfIllnessCode                  \n",
       "1                                    47953\n",
       "2                                     8760\n",
       "3                                     3252\n",
       "4                                        1"
      ]
     },
     "execution_count": 56,
     "metadata": {},
     "output_type": "execute_result"
    }
   ],
   "source": [
    "string='APRSeverityOfIllnessCode'\n",
    "df[['CCSProcedureCode',string]].groupby([string]).count()"
   ]
  },
  {
   "cell_type": "code",
   "execution_count": 57,
   "metadata": {},
   "outputs": [
    {
     "data": {
      "text/plain": [
       "(array([5.98735117e-01, 3.25351032e-01, 2.51663443e-01, 4.13567688e-02,\n",
       "        0.00000000e+00, 1.13606043e-02, 2.45972718e-03, 1.76975286e-02,\n",
       "        9.17186406e-04, 4.58593203e-04]),\n",
       " array([0. , 0.8, 1.6, 2.4, 3.2, 4. , 4.8, 5.6, 6.4, 7.2, 8. ]),\n",
       " <BarContainer object of 10 artists>)"
      ]
     },
     "execution_count": 57,
     "metadata": {},
     "output_type": "execute_result"
    },
    {
     "data": {
      "image/png": "[encoded data removed]",
      "text/plain": [
       "<Figure size 2880x2880 with 1 Axes>"
      ]
     },
     "metadata": {
      "needs_background": "light"
     },
     "output_type": "display_data"
    }
   ],
   "source": [
    "plt.figure(figsize=(40,40))\n",
    "plt.hist(df['PaymentTypology'],alpha=0.5,color='r',density='True')"
   ]
  },
  {
   "cell_type": "code",
   "execution_count": 58,
   "metadata": {},
   "outputs": [
    {
     "data": {
      "text/html": [
       "<div>\n",
       "<style scoped>\n",
       "    .dataframe tbody tr th:only-of-type {\n",
       "        vertical-align: middle;\n",
       "    }\n",
       "\n",
       "    .dataframe tbody tr th {\n",
       "        vertical-align: top;\n",
       "    }\n",
       "\n",
       "    .dataframe thead th {\n",
       "        text-align: right;\n",
       "    }\n",
       "</style>\n",
       "<table border=\"1\" class=\"dataframe\">\n",
       "  <thead>\n",
       "    <tr style=\"text-align: right;\">\n",
       "      <th></th>\n",
       "      <th>CCSProcedureCode</th>\n",
       "    </tr>\n",
       "    <tr>\n",
       "      <th>PaymentTypology</th>\n",
       "      <th></th>\n",
       "    </tr>\n",
       "  </thead>\n",
       "  <tbody>\n",
       "    <tr>\n",
       "      <th>Blue Cross/Blue Shield</th>\n",
       "      <td>12073</td>\n",
       "    </tr>\n",
       "    <tr>\n",
       "      <th>Federal/State/Local/VA</th>\n",
       "      <td>849</td>\n",
       "    </tr>\n",
       "    <tr>\n",
       "      <th>Managed Care, Unspecified</th>\n",
       "      <td>545</td>\n",
       "    </tr>\n",
       "    <tr>\n",
       "      <th>Medicaid</th>\n",
       "      <td>28723</td>\n",
       "    </tr>\n",
       "    <tr>\n",
       "      <th>Medicare</th>\n",
       "      <td>44</td>\n",
       "    </tr>\n",
       "    <tr>\n",
       "      <th>Miscellaneous/Other</th>\n",
       "      <td>118</td>\n",
       "    </tr>\n",
       "    <tr>\n",
       "      <th>Private Health Insurance</th>\n",
       "      <td>15608</td>\n",
       "    </tr>\n",
       "    <tr>\n",
       "      <th>Self-Pay</th>\n",
       "      <td>1984</td>\n",
       "    </tr>\n",
       "    <tr>\n",
       "      <th>Unknown</th>\n",
       "      <td>22</td>\n",
       "    </tr>\n",
       "  </tbody>\n",
       "</table>\n",
       "</div>"
      ],
      "text/plain": [
       "                           CCSProcedureCode\n",
       "PaymentTypology                            \n",
       "Blue Cross/Blue Shield                12073\n",
       "Federal/State/Local/VA                  849\n",
       "Managed Care, Unspecified               545\n",
       "Medicaid                              28723\n",
       "Medicare                                 44\n",
       "Miscellaneous/Other                     118\n",
       "Private Health Insurance              15608\n",
       "Self-Pay                               1984\n",
       "Unknown                                  22"
      ]
     },
     "execution_count": 58,
     "metadata": {},
     "output_type": "execute_result"
    }
   ],
   "source": [
    "string='PaymentTypology'\n",
    "df[['CCSProcedureCode',string]].groupby([string]).count()"
   ]
  },
  {
   "cell_type": "code",
   "execution_count": 59,
   "metadata": {},
   "outputs": [
    {
     "data": {
      "text/plain": [
       "(array([9.91445152, 0.        , 0.        , 0.        , 0.        ,\n",
       "        0.        , 0.        , 0.        , 0.        , 0.08554848]),\n",
       " array([0. , 0.1, 0.2, 0.3, 0.4, 0.5, 0.6, 0.7, 0.8, 0.9, 1. ]),\n",
       " <BarContainer object of 10 artists>)"
      ]
     },
     "execution_count": 59,
     "metadata": {},
     "output_type": "execute_result"
    },
    {
     "data": {
      "image/png": "[encoded data removed]",
      "text/plain": [
       "<Figure size 432x288 with 1 Axes>"
      ]
     },
     "metadata": {
      "needs_background": "light"
     },
     "output_type": "display_data"
    }
   ],
   "source": [
    "plt.hist(df['EmergencyDepartmentIndicator'],alpha=0.5,color='r',density='True')"
   ]
  },
  {
   "cell_type": "markdown",
   "metadata": {},
   "source": [
    "So the severity code even though specified in numerical attribute its ordinal in nature "
   ]
  },
  {
   "cell_type": "markdown",
   "metadata": {},
   "source": [
    "<b> So far in our analysis\n",
    "<br><b> Race - Nominal\n",
    "<br><b> Gender - Nominal \n",
    "<br><b> PaymentTypology - Nominal\n",
    "<br><b> EmergencyDepartmentIndicator- Nominal\n",
    "<br><b> CCSProcedureCode -- Ordinal \n",
    "<br><b> APRSeverityOfIllnessCode - Ordinal "
   ]
  },
  {
   "cell_type": "code",
   "execution_count": 60,
   "metadata": {},
   "outputs": [
    {
     "data": {
      "text/plain": [
       "(array([8.41715444e-05, 9.41244835e-05, 3.11836787e-04, 5.42468136e-05,\n",
       "        3.66413168e-04, 1.03438062e-03, 9.95293908e-06, 5.87816627e-04,\n",
       "        5.01733591e-04, 9.07892602e-04]),\n",
       " array([ 712.,  965., 1218., 1471., 1724., 1977., 2230., 2483., 2736.,\n",
       "        2989., 3242.]),\n",
       " <BarContainer object of 10 artists>)"
      ]
     },
     "execution_count": 60,
     "metadata": {},
     "output_type": "execute_result"
    },
    {
     "data": {
      "image/png": "[encoded data removed]",
      "text/plain": [
       "<Figure size 432x288 with 1 Axes>"
      ]
     },
     "metadata": {
      "needs_background": "light"
     },
     "output_type": "display_data"
    }
   ],
   "source": [
    "plt.hist(df['AverageCostInCounty'],alpha=0.5,color='r',density='True')"
   ]
  },
  {
   "cell_type": "code",
   "execution_count": 61,
   "metadata": {},
   "outputs": [
    {
     "data": {
      "text/plain": [
       "(array([5.71442381e-05, 4.09912036e-05, 1.41084090e-04, 5.32128988e-05,\n",
       "        5.29661620e-05, 0.00000000e+00, 9.44179409e-06, 1.67748112e-04,\n",
       "        1.94477930e-04, 2.69321419e-04]),\n",
       " array([ 1243. ,  2256.8,  3270.6,  4284.4,  5298.2,  6312. ,  7325.8,\n",
       "         8339.6,  9353.4, 10367.2, 11381. ]),\n",
       " <BarContainer object of 10 artists>)"
      ]
     },
     "execution_count": 61,
     "metadata": {},
     "output_type": "execute_result"
    },
    {
     "data": {
      "image/png": "[encoded data removed]",
      "text/plain": [
       "<Figure size 432x288 with 1 Axes>"
      ]
     },
     "metadata": {
      "needs_background": "light"
     },
     "output_type": "display_data"
    }
   ],
   "source": [
    "plt.hist(df['AverageChargesInCounty'],alpha=0.5,color='r',density='True')"
   ]
  },
  {
   "cell_type": "code",
   "execution_count": 62,
   "metadata": {},
   "outputs": [
    {
     "data": {
      "text/plain": [
       "(array([4.57617401e-05, 1.02646659e-04, 6.66813927e-05, 8.34959481e-05,\n",
       "        8.67646438e-05, 4.35601774e-05, 7.12960220e-05, 6.23071087e-05,\n",
       "        1.39784811e-05, 9.61381095e-09]),\n",
       " array([ 1120. ,  2854.6,  4589.2,  6323.8,  8058.4,  9793. , 11527.6,\n",
       "        13262.2, 14996.8, 16731.4, 18466. ]),\n",
       " <BarContainer object of 10 artists>)"
      ]
     },
     "execution_count": 62,
     "metadata": {},
     "output_type": "execute_result"
    },
    {
     "data": {
      "image/png": "[encoded data removed]",
      "text/plain": [
       "<Figure size 432x288 with 1 Axes>"
      ]
     },
     "metadata": {
      "needs_background": "light"
     },
     "output_type": "display_data"
    }
   ],
   "source": [
    "plt.hist(df['AverageChargesInFacility'],alpha=0.5,color='r',density='True')"
   ]
  },
  {
   "cell_type": "code",
   "execution_count": 63,
   "metadata": {},
   "outputs": [
    {
     "data": {
      "text/plain": [
       "(array([1.66521597e-04, 4.99129211e-04, 2.61042095e-04, 1.76431004e-04,\n",
       "        7.82516475e-05, 5.12675698e-05, 2.68098464e-05, 4.65197659e-05,\n",
       "        0.00000000e+00, 2.17789166e-08]),\n",
       " array([ 457. , 1222.7, 1988.4, 2754.1, 3519.8, 4285.5, 5051.2, 5816.9,\n",
       "        6582.6, 7348.3, 8114. ]),\n",
       " <BarContainer object of 10 artists>)"
      ]
     },
     "execution_count": 63,
     "metadata": {},
     "output_type": "execute_result"
    },
    {
     "data": {
      "image/png": "[encoded data removed]",
      "text/plain": [
       "<Figure size 432x288 with 1 Axes>"
      ]
     },
     "metadata": {
      "needs_background": "light"
     },
     "output_type": "display_data"
    }
   ],
   "source": [
    "plt.hist(df['AverageCostInFacility'],alpha=0.5,color='r',density='True')"
   ]
  },
  {
   "cell_type": "code",
   "execution_count": 64,
   "metadata": {},
   "outputs": [
    {
     "data": {
      "text/plain": [
       "(array([0.01552987, 0.02981958, 0.00911436, 0.02569847, 0.00274868,\n",
       "        0.01049829, 0.00100057, 0.01260293, 0.00765185, 0.00027794]),\n",
       " array([ 28. ,  36.7,  45.4,  54.1,  62.8,  71.5,  80.2,  88.9,  97.6,\n",
       "        106.3, 115. ]),\n",
       " <BarContainer object of 10 artists>)"
      ]
     },
     "execution_count": 64,
     "metadata": {},
     "output_type": "execute_result"
    },
    {
     "data": {
      "image/png": "[encoded data removed]",
      "text/plain": [
       "<Figure size 432x288 with 1 Axes>"
      ]
     },
     "metadata": {
      "needs_background": "light"
     },
     "output_type": "display_data"
    }
   ],
   "source": [
    "plt.hist(df['AverageIncomeInZipCode'],alpha=0.5,color='r',density='True')"
   ]
  },
  {
   "cell_type": "markdown",
   "metadata": {},
   "source": [
    "lets focus on now changing the data accordingly and perform scaling etc before we send it to the model "
   ]
  },
  {
   "cell_type": "markdown",
   "metadata": {},
   "source": [
    "Before that lets look at the correlation too through scatterplot "
   ]
  },
  {
   "cell_type": "code",
   "execution_count": 65,
   "metadata": {},
   "outputs": [
    {
     "data": {
      "image/png": "[encoded data removed]",
      "text/plain": [
       "<Figure size 2160x2160 with 14 Axes>"
      ]
     },
     "metadata": {
      "needs_background": "light"
     },
     "output_type": "display_data"
    }
   ],
   "source": [
    "import seaborn as sns\n",
    "plt.figure(figsize=(30,30))\n",
    "for i,col in enumerate(df.columns):\n",
    "    plt.subplot(6,5,i+1)\n",
    "    sns.scatterplot(data=df,y=col,x='LengthOfStay')\n",
    "    plt.title(col)\n",
    "plt.xticks(rotation='vertical')\n",
    "plt.show()"
   ]
  },
  {
   "cell_type": "code",
   "execution_count": 66,
   "metadata": {},
   "outputs": [
    {
     "data": {
      "text/plain": [
       "Race                    LengthOfStay\n",
       "Black/African American  0                6431\n",
       "                        1                1752\n",
       "Multi-racial            0                 449\n",
       "                        1                  77\n",
       "Other Race              0               15189\n",
       "                        1                3125\n",
       "White                   0               27826\n",
       "                        1                5117\n",
       "Name: Gender, dtype: int64"
      ]
     },
     "execution_count": 66,
     "metadata": {},
     "output_type": "execute_result"
    }
   ],
   "source": [
    "string='Race'\n",
    "df.groupby([string,'LengthOfStay'])['Gender'].count()"
   ]
  },
  {
   "cell_type": "code",
   "execution_count": 67,
   "metadata": {},
   "outputs": [
    {
     "data": {
      "text/plain": [
       "Gender  LengthOfStay\n",
       "F       0               24449\n",
       "        1                4538\n",
       "M       0               25446\n",
       "        1                5532\n",
       "U       1                   1\n",
       "Name: Gender, dtype: int64"
      ]
     },
     "execution_count": 67,
     "metadata": {},
     "output_type": "execute_result"
    }
   ],
   "source": [
    "string='Gender'\n",
    "df.groupby([string,'LengthOfStay'])['Gender'].count()"
   ]
  },
  {
   "cell_type": "markdown",
   "metadata": {},
   "source": [
    "If its a female , there is 97.85 chance of length of stay being less than 4 days \n",
    "if its a male 82% chance of length stay being less than 4 days "
   ]
  },
  {
   "cell_type": "code",
   "execution_count": 68,
   "metadata": {},
   "outputs": [
    {
     "data": {
      "text/plain": [
       "PaymentTypology            LengthOfStay\n",
       "Blue Cross/Blue Shield     0                9952\n",
       "                           1                2121\n",
       "Federal/State/Local/VA     0                 747\n",
       "                           1                 102\n",
       "Managed Care, Unspecified  0                 445\n",
       "                           1                 100\n",
       "Medicaid                   0               24128\n",
       "                           1                4595\n",
       "Medicare                   0                  39\n",
       "                           1                   5\n",
       "Miscellaneous/Other        0                  97\n",
       "                           1                  21\n",
       "Private Health Insurance   0               12736\n",
       "                           1                2872\n",
       "Self-Pay                   0                1739\n",
       "                           1                 245\n",
       "Unknown                    0                  12\n",
       "                           1                  10\n",
       "Name: PaymentTypology, dtype: int64"
      ]
     },
     "execution_count": 68,
     "metadata": {},
     "output_type": "execute_result"
    }
   ],
   "source": [
    "string='PaymentTypology'\n",
    "df.groupby([string,'LengthOfStay'])[string].count()"
   ]
  },
  {
   "cell_type": "markdown",
   "metadata": {},
   "source": [
    "<b>The next step is to identify the correlation "
   ]
  },
  {
   "cell_type": "code",
   "execution_count": 69,
   "metadata": {},
   "outputs": [
    {
     "data": {
      "image/png": "[encoded data removed]",
      "text/plain": [
       "<Figure size 792x648 with 2 Axes>"
      ]
     },
     "metadata": {
      "needs_background": "light"
     },
     "output_type": "display_data"
    }
   ],
   "source": [
    "f,ax = plt.subplots(figsize=(11,9))\n",
    "corr = df.corr()\n",
    "#print(corr)\n",
    "ax = sns.heatmap(corr,vmin=-1,vmax=1,center=0,\n",
    "                cmap='Paired',square=True)\n",
    "ax.set_xticklabels(ax.get_xticklabels(),rotation=90,horizontalalignment='right');"
   ]
  },
  {
   "cell_type": "markdown",
   "metadata": {},
   "source": [
    "<br><b> Some observations from the heatmap regarding the relationship between variables :</b>\n",
    "<br>1.The AverageChargesInCounty and AverageChargesin Facility share a very strong correlation \n",
    "<br>2.AverageCostInCounty and AverageChargesInCounty share a little higher correlation around 0.75 \n",
    "<br>3.AverageCostinFacility and AverageCostinCounty  0.5 \n",
    "<br>4.AverageChargesinFacility and AverageCostInCounty 0.25 \n",
    "<br>5.The LengthofStay and APRSSeverityOfIllnessCode seem to share some amount +ve correlation aroun 0.25 and all the others <br>6.share less than 0.25 correlation and BirthWeight seems to have  -ve correlation\n",
    "<br><b> Ofcourse we have not mapped the relation of other categorical variables yet !!!</b>\n"
   ]
  },
  {
   "cell_type": "markdown",
   "metadata": {},
   "source": [
    "<b>***Now lets look at the applying logistic Regression model to see the classification model performance :***"
   ]
  },
  {
   "cell_type": "markdown",
   "metadata": {},
   "source": [
    "***Step 1: Lets convert the categorical variables usigng one-hot encoding :***\n"
   ]
  },
  {
   "cell_type": "code",
   "execution_count": 70,
   "metadata": {},
   "outputs": [],
   "source": [
    "#Can we remove the unknown example as it might be an outlier and also unwanted extra colun for processing \n",
    "from sklearn.preprocessing import OneHotEncoder\n",
    "\n",
    "def convert_to_categorical(df,colname):\n",
    "    OneHotEncoder_race = OneHotEncoder(handle_unknown='ignore')\n",
    "    OneHotEncoder_race.fit(df[[colname]])\n",
    "    one_hot_ = OneHotEncoder_race.transform(df[[colname]]).toarray()\n",
    "    #print(one_hot_.shape,OneHotEncoder_race.categories_)\n",
    "\n",
    "    for i in range(len(OneHotEncoder_race.categories_[0])):\n",
    "        df[colname+'_'+ str(OneHotEncoder_race.categories_[0][i])] = one_hot_[:,i]\n",
    "    fd = df.drop([colname],axis=1)\n",
    "    return fd\n",
    "    \n",
    "\n"
   ]
  },
  {
   "cell_type": "code",
   "execution_count": 71,
   "metadata": {},
   "outputs": [
    {
     "name": "stdout",
     "output_type": "stream",
     "text": [
      "<class 'pandas.core.frame.DataFrame'>\n",
      "RangeIndex: 59966 entries, 0 to 59965\n",
      "Data columns (total 31 columns):\n",
      " #   Column                                     Non-Null Count  Dtype  \n",
      "---  ------                                     --------------  -----  \n",
      " 0   CCSProcedureCode                           59966 non-null  int64  \n",
      " 1   APRSeverityOfIllnessCode                   59966 non-null  int64  \n",
      " 2   BirthWeight                                59966 non-null  int64  \n",
      " 3   AverageCostInCounty                        59966 non-null  int64  \n",
      " 4   AverageChargesInCounty                     59966 non-null  int64  \n",
      " 5   AverageCostInFacility                      59966 non-null  int64  \n",
      " 6   AverageChargesInFacility                   59966 non-null  int64  \n",
      " 7   AverageIncomeInZipCode                     59966 non-null  int64  \n",
      " 8   LengthOfStay                               59966 non-null  int64  \n",
      " 9   Gender_F                                   59966 non-null  float64\n",
      " 10  Gender_M                                   59966 non-null  float64\n",
      " 11  Gender_U                                   59966 non-null  float64\n",
      " 12  Race_Black/African American                59966 non-null  float64\n",
      " 13  Race_Multi-racial                          59966 non-null  float64\n",
      " 14  Race_Other Race                            59966 non-null  float64\n",
      " 15  Race_White                                 59966 non-null  float64\n",
      " 16  TypeOfAdmission_Elective                   59966 non-null  float64\n",
      " 17  TypeOfAdmission_Emergency                  59966 non-null  float64\n",
      " 18  TypeOfAdmission_Newborn                    59966 non-null  float64\n",
      " 19  TypeOfAdmission_Urgent                     59966 non-null  float64\n",
      " 20  PaymentTypology_Blue Cross/Blue Shield     59966 non-null  float64\n",
      " 21  PaymentTypology_Federal/State/Local/VA     59966 non-null  float64\n",
      " 22  PaymentTypology_Managed Care, Unspecified  59966 non-null  float64\n",
      " 23  PaymentTypology_Medicaid                   59966 non-null  float64\n",
      " 24  PaymentTypology_Medicare                   59966 non-null  float64\n",
      " 25  PaymentTypology_Miscellaneous/Other        59966 non-null  float64\n",
      " 26  PaymentTypology_Private Health Insurance   59966 non-null  float64\n",
      " 27  PaymentTypology_Self-Pay                   59966 non-null  float64\n",
      " 28  PaymentTypology_Unknown                    59966 non-null  float64\n",
      " 29  EmergencyDepartmentIndicator_N             59966 non-null  float64\n",
      " 30  EmergencyDepartmentIndicator_Y             59966 non-null  float64\n",
      "dtypes: float64(22), int64(9)\n",
      "memory usage: 14.2 MB\n"
     ]
    }
   ],
   "source": [
    "df = convert_to_categorical(df,'Gender')\n",
    "df=convert_to_categorical(df,'Race')\n",
    "df=convert_to_categorical(df,'TypeOfAdmission')\n",
    "df=convert_to_categorical(df,'PaymentTypology')\n",
    "df=convert_to_categorical(df,'EmergencyDepartmentIndicator')\n",
    "df.info()"
   ]
  },
  {
   "cell_type": "code",
   "execution_count": 72,
   "metadata": {},
   "outputs": [
    {
     "name": "stdout",
     "output_type": "stream",
     "text": [
      "<class 'pandas.core.frame.DataFrame'>\n",
      "RangeIndex: 59966 entries, 0 to 59965\n",
      "Data columns (total 33 columns):\n",
      " #   Column                                     Non-Null Count  Dtype  \n",
      "---  ------                                     --------------  -----  \n",
      " 0   CCSProcedureCode                           59966 non-null  int64  \n",
      " 1   APRSeverityOfIllnessCode                   59966 non-null  int64  \n",
      " 2   BirthWeight                                59966 non-null  int64  \n",
      " 3   AverageCostInCounty                        59966 non-null  int64  \n",
      " 4   AverageChargesInCounty                     59966 non-null  int64  \n",
      " 5   AverageCostInFacility                      59966 non-null  int64  \n",
      " 6   AverageChargesInFacility                   59966 non-null  int64  \n",
      " 7   AverageIncomeInZipCode                     59966 non-null  int64  \n",
      " 8   LengthOfStay                               59966 non-null  int64  \n",
      " 9   Gender_F                                   59966 non-null  float64\n",
      " 10  Gender_M                                   59966 non-null  float64\n",
      " 11  Gender_U                                   59966 non-null  float64\n",
      " 12  Race_Black/African American                59966 non-null  float64\n",
      " 13  Race_Multi-racial                          59966 non-null  float64\n",
      " 14  Race_Other Race                            59966 non-null  float64\n",
      " 15  Race_White                                 59966 non-null  float64\n",
      " 16  TypeOfAdmission_Elective                   59966 non-null  float64\n",
      " 17  TypeOfAdmission_Emergency                  59966 non-null  float64\n",
      " 18  TypeOfAdmission_Newborn                    59966 non-null  float64\n",
      " 19  TypeOfAdmission_Trauma                     59966 non-null  int64  \n",
      " 20  TypeOfAdmission_Urgent                     59966 non-null  float64\n",
      " 21  PaymentTypology_Blue Cross/Blue Shield     59966 non-null  float64\n",
      " 22  PaymentTypology_Department Of Corrections  59966 non-null  int64  \n",
      " 23  PaymentTypology_Federal/State/Local/VA     59966 non-null  float64\n",
      " 24  PaymentTypology_Managed Care, Unspecified  59966 non-null  float64\n",
      " 25  PaymentTypology_Medicaid                   59966 non-null  float64\n",
      " 26  PaymentTypology_Medicare                   59966 non-null  float64\n",
      " 27  PaymentTypology_Miscellaneous/Other        59966 non-null  float64\n",
      " 28  PaymentTypology_Private Health Insurance   59966 non-null  float64\n",
      " 29  PaymentTypology_Self-Pay                   59966 non-null  float64\n",
      " 30  PaymentTypology_Unknown                    59966 non-null  float64\n",
      " 31  EmergencyDepartmentIndicator_N             59966 non-null  float64\n",
      " 32  EmergencyDepartmentIndicator_Y             59966 non-null  float64\n",
      "dtypes: float64(22), int64(11)\n",
      "memory usage: 15.1 MB\n"
     ]
    }
   ],
   "source": [
    "listofzeros= [0]* df.shape[0]\n",
    "df.insert(21,'PaymentTypology_Department Of Corrections',listofzeros)\n",
    "df.insert(19,'TypeOfAdmission_Trauma',listofzeros)\n",
    "df.info()"
   ]
  },
  {
   "cell_type": "code",
   "execution_count": 73,
   "metadata": {},
   "outputs": [
    {
     "data": {
      "text/plain": [
       "(59966, 33)"
      ]
     },
     "execution_count": 73,
     "metadata": {},
     "output_type": "execute_result"
    }
   ],
   "source": [
    "df.shape"
   ]
  },
  {
   "cell_type": "code",
   "execution_count": 74,
   "metadata": {},
   "outputs": [
    {
     "data": {
      "text/plain": [
       "(69177, 15)"
      ]
     },
     "execution_count": 74,
     "metadata": {},
     "output_type": "execute_result"
    }
   ],
   "source": [
    "#Lets look at the train and test performance now with the most basic model which we shall use as a reference for now\n",
    "#After this write a function that takes a filename does the processinand gives a dataframe with onehot-encoded \n",
    "df_test = pd.read_csv('test_data.csv')\n",
    "df_test.shape\n"
   ]
  },
  {
   "cell_type": "code",
   "execution_count": 75,
   "metadata": {},
   "outputs": [
    {
     "data": {
      "text/html": [
       "<div>\n",
       "<style scoped>\n",
       "    .dataframe tbody tr th:only-of-type {\n",
       "        vertical-align: middle;\n",
       "    }\n",
       "\n",
       "    .dataframe tbody tr th {\n",
       "        vertical-align: top;\n",
       "    }\n",
       "\n",
       "    .dataframe thead th {\n",
       "        text-align: right;\n",
       "    }\n",
       "</style>\n",
       "<table border=\"1\" class=\"dataframe\">\n",
       "  <thead>\n",
       "    <tr style=\"text-align: right;\">\n",
       "      <th></th>\n",
       "      <th>Gender</th>\n",
       "      <th>Race</th>\n",
       "      <th>TypeOfAdmission</th>\n",
       "      <th>CCSProcedureCode</th>\n",
       "      <th>APRSeverityOfIllnessCode</th>\n",
       "      <th>PaymentTypology</th>\n",
       "      <th>BirthWeight</th>\n",
       "      <th>EmergencyDepartmentIndicator</th>\n",
       "      <th>AverageCostInCounty</th>\n",
       "      <th>AverageChargesInCounty</th>\n",
       "      <th>AverageCostInFacility</th>\n",
       "      <th>AverageChargesInFacility</th>\n",
       "      <th>AverageIncomeInZipCode</th>\n",
       "    </tr>\n",
       "  </thead>\n",
       "  <tbody>\n",
       "    <tr>\n",
       "      <th>0</th>\n",
       "      <td>F</td>\n",
       "      <td>Other Race</td>\n",
       "      <td>Newborn</td>\n",
       "      <td>216</td>\n",
       "      <td>3</td>\n",
       "      <td>Medicaid</td>\n",
       "      <td>4900</td>\n",
       "      <td>N</td>\n",
       "      <td>3242</td>\n",
       "      <td>8966</td>\n",
       "      <td>2448</td>\n",
       "      <td>13196</td>\n",
       "      <td>34</td>\n",
       "    </tr>\n",
       "    <tr>\n",
       "      <th>1</th>\n",
       "      <td>F</td>\n",
       "      <td>White</td>\n",
       "      <td>Newborn</td>\n",
       "      <td>220</td>\n",
       "      <td>1</td>\n",
       "      <td>Medicaid</td>\n",
       "      <td>3100</td>\n",
       "      <td>N</td>\n",
       "      <td>2611</td>\n",
       "      <td>9227</td>\n",
       "      <td>1751</td>\n",
       "      <td>8951</td>\n",
       "      <td>45</td>\n",
       "    </tr>\n",
       "    <tr>\n",
       "      <th>2</th>\n",
       "      <td>M</td>\n",
       "      <td>Multi-racial</td>\n",
       "      <td>Newborn</td>\n",
       "      <td>115</td>\n",
       "      <td>1</td>\n",
       "      <td>Medicaid</td>\n",
       "      <td>3300</td>\n",
       "      <td>N</td>\n",
       "      <td>3155</td>\n",
       "      <td>11381</td>\n",
       "      <td>1052</td>\n",
       "      <td>11314</td>\n",
       "      <td>74</td>\n",
       "    </tr>\n",
       "  </tbody>\n",
       "</table>\n",
       "</div>"
      ],
      "text/plain": [
       "  Gender          Race TypeOfAdmission  CCSProcedureCode  \\\n",
       "0      F    Other Race         Newborn               216   \n",
       "1      F         White         Newborn               220   \n",
       "2      M  Multi-racial         Newborn               115   \n",
       "\n",
       "   APRSeverityOfIllnessCode PaymentTypology  BirthWeight  \\\n",
       "0                         3        Medicaid         4900   \n",
       "1                         1        Medicaid         3100   \n",
       "2                         1        Medicaid         3300   \n",
       "\n",
       "  EmergencyDepartmentIndicator  AverageCostInCounty  AverageChargesInCounty  \\\n",
       "0                            N                 3242                    8966   \n",
       "1                            N                 2611                    9227   \n",
       "2                            N                 3155                   11381   \n",
       "\n",
       "   AverageCostInFacility  AverageChargesInFacility  AverageIncomeInZipCode  \n",
       "0                   2448                     13196                      34  \n",
       "1                   1751                      8951                      45  \n",
       "2                   1052                     11314                      74  "
      ]
     },
     "execution_count": 75,
     "metadata": {},
     "output_type": "execute_result"
    }
   ],
   "source": [
    "df_test.head(3)\n",
    "df_test = df_test.drop(['ID','HealthServiceArea'],axis=1)\n",
    "df_test.head(3)"
   ]
  },
  {
   "cell_type": "code",
   "execution_count": 76,
   "metadata": {},
   "outputs": [
    {
     "name": "stdout",
     "output_type": "stream",
     "text": [
      "<class 'pandas.core.frame.DataFrame'>\n",
      "RangeIndex: 69177 entries, 0 to 69176\n",
      "Data columns (total 32 columns):\n",
      " #   Column                                     Non-Null Count  Dtype  \n",
      "---  ------                                     --------------  -----  \n",
      " 0   CCSProcedureCode                           69177 non-null  int64  \n",
      " 1   APRSeverityOfIllnessCode                   69177 non-null  int64  \n",
      " 2   BirthWeight                                69177 non-null  int64  \n",
      " 3   AverageCostInCounty                        69177 non-null  int64  \n",
      " 4   AverageChargesInCounty                     69177 non-null  int64  \n",
      " 5   AverageCostInFacility                      69177 non-null  int64  \n",
      " 6   AverageChargesInFacility                   69177 non-null  int64  \n",
      " 7   AverageIncomeInZipCode                     69177 non-null  int64  \n",
      " 8   Gender_F                                   69177 non-null  float64\n",
      " 9   Gender_M                                   69177 non-null  float64\n",
      " 10  Gender_U                                   69177 non-null  float64\n",
      " 11  Race_Black/African American                69177 non-null  float64\n",
      " 12  Race_Multi-racial                          69177 non-null  float64\n",
      " 13  Race_Other Race                            69177 non-null  float64\n",
      " 14  Race_White                                 69177 non-null  float64\n",
      " 15  TypeOfAdmission_Elective                   69177 non-null  float64\n",
      " 16  TypeOfAdmission_Emergency                  69177 non-null  float64\n",
      " 17  TypeOfAdmission_Newborn                    69177 non-null  float64\n",
      " 18  TypeOfAdmission_Trauma                     69177 non-null  float64\n",
      " 19  TypeOfAdmission_Urgent                     69177 non-null  float64\n",
      " 20  PaymentTypology_Blue Cross/Blue Shield     69177 non-null  float64\n",
      " 21  PaymentTypology_Department of Corrections  69177 non-null  float64\n",
      " 22  PaymentTypology_Federal/State/Local/VA     69177 non-null  float64\n",
      " 23  PaymentTypology_Managed Care, Unspecified  69177 non-null  float64\n",
      " 24  PaymentTypology_Medicaid                   69177 non-null  float64\n",
      " 25  PaymentTypology_Medicare                   69177 non-null  float64\n",
      " 26  PaymentTypology_Miscellaneous/Other        69177 non-null  float64\n",
      " 27  PaymentTypology_Private Health Insurance   69177 non-null  float64\n",
      " 28  PaymentTypology_Self-Pay                   69177 non-null  float64\n",
      " 29  PaymentTypology_Unknown                    69177 non-null  float64\n",
      " 30  EmergencyDepartmentIndicator_N             69177 non-null  float64\n",
      " 31  EmergencyDepartmentIndicator_Y             69177 non-null  float64\n",
      "dtypes: float64(24), int64(8)\n",
      "memory usage: 16.9 MB\n"
     ]
    }
   ],
   "source": [
    "df_test =convert_to_categorical(df_test,'Gender')\n",
    "df_test =convert_to_categorical(df_test,'Race')\n",
    "df_test =convert_to_categorical(df_test,'TypeOfAdmission')\n",
    "df_test =convert_to_categorical(df_test,'PaymentTypology')\n",
    "df_test =convert_to_categorical(df_test,'EmergencyDepartmentIndicator')\n",
    "df_test.info()"
   ]
  },
  {
   "cell_type": "code",
   "execution_count": 77,
   "metadata": {},
   "outputs": [
    {
     "name": "stdout",
     "output_type": "stream",
     "text": [
      "Test  =  (69177, 32)\n",
      "Train =  (59966, 33)\n"
     ]
    }
   ],
   "source": [
    "print(\"Test  = \",df_test.shape)\n",
    "print(\"Train = \",df.shape)\n",
    "#The additonal one is Lengthofstay works good \n",
    "#There is one extra PaymentTypology Department of Corrections "
   ]
  },
  {
   "cell_type": "code",
   "execution_count": 78,
   "metadata": {},
   "outputs": [
    {
     "name": "stdout",
     "output_type": "stream",
     "text": [
      "(35979, 33) (11993, 33) (11994, 33)\n"
     ]
    }
   ],
   "source": [
    "\n",
    "with pd.option_context('mode.chained_assignment',None):\n",
    "    train_data,test_data = train_test_split(df,test_size=0.2,shuffle=True,random_state=0)\n",
    "with pd.option_context('mode.chained_assignment',None):\n",
    "    train_data,val_data = train_test_split(train_data,test_size=0.25,shuffle=True,random_state=0)\n",
    "print(train_data.shape,val_data.shape,test_data.shape)"
   ]
  },
  {
   "cell_type": "code",
   "execution_count": 79,
   "metadata": {},
   "outputs": [],
   "source": [
    "train_X = train_data.drop(['LengthOfStay'],axis=1).to_numpy()\n",
    "train_y = train_data['LengthOfStay'].to_numpy()\n",
    "\n",
    "test_X = test_data.drop(['LengthOfStay'],axis=1).to_numpy()\n",
    "test_y = test_data['LengthOfStay'].to_numpy()\n",
    "\n",
    "val_X = val_data.drop(['LengthOfStay'],axis=1).to_numpy()\n",
    "val_y = val_data['LengthOfStay'].to_numpy()"
   ]
  },
  {
   "cell_type": "code",
   "execution_count": 80,
   "metadata": {},
   "outputs": [],
   "source": [
    "from sklearn.metrics import f1_score\n",
    "\n",
    "\n",
    "def print_f1_scores(clf,train_X,train_y,val_X,val_y,tag):\n",
    "    train_pred = clf.predict(train_X)\n",
    "    val_pred = clf.predict(val_X)\n",
    "    train_f1 = balanced_accuracy_score(train_y,train_pred)\n",
    "    val_f1   = balanced_accuracy_score(val_y,val_pred)\n",
    "    \n",
    "    print(\"Train   balanced accuracy score:{:.3f}\".format(train_f1))\n",
    "    print(\"Train            accuracy score:{:.3f}\".format(accuracy_score(train_y,train_pred)))\n",
    "    print(tag,\" balanced accuracy score:{:.3f}\".format(val_f1))\n",
    "    \n",
    "    print(tag,\"          accuracy score:{:.3f}\".format(accuracy_score(val_y,val_pred)))\n",
    "    \n",
    "def print_classification_report(model,X,y,tag=\" \"):\n",
    "    pred = model.predict(X)\n",
    "    label_0=tag+\"_\"+\"L0\"\n",
    "    label_1=tag+\"_\" +\"L1\"\n",
    "    label_names = [label_0,label_1]\n",
    "    print(classification_report(y,pred,target_names=label_names))"
   ]
  },
  {
   "cell_type": "code",
   "execution_count": 81,
   "metadata": {},
   "outputs": [
    {
     "name": "stdout",
     "output_type": "stream",
     "text": [
      "Train   balanced accuracy score:0.648\n",
      "Train            accuracy score:0.695\n",
      "Validation  balanced accuracy score:0.640\n",
      "Validation           accuracy score:0.690\n"
     ]
    }
   ],
   "source": [
    "\n",
    "clf = LogisticRegression(random_state=0,solver='liblinear',max_iter=1000,class_weight='balanced').fit(train_X,train_y.ravel())\n",
    "print_f1_scores(clf,train_X,train_y,val_X,val_y,\"Validation\")"
   ]
  },
  {
   "cell_type": "code",
   "execution_count": 82,
   "metadata": {},
   "outputs": [
    {
     "name": "stdout",
     "output_type": "stream",
     "text": [
      "Train   balanced accuracy score:0.648\n",
      "Train            accuracy score:0.695\n",
      "Validation  balanced accuracy score:0.640\n",
      "Validation           accuracy score:0.690\n"
     ]
    }
   ],
   "source": [
    "clf_l1 = LogisticRegression(penalty='l1',C=0.75,random_state=0,solver='liblinear',max_iter=1000,class_weight='balanced').fit(train_X,train_y.ravel())\n",
    "print_f1_scores(clf_l1,train_X,train_y,val_X,val_y,\"Validation\")"
   ]
  },
  {
   "cell_type": "code",
   "execution_count": 83,
   "metadata": {},
   "outputs": [
    {
     "name": "stdout",
     "output_type": "stream",
     "text": [
      "Train   balanced accuracy score:0.648\n",
      "Train            accuracy score:0.695\n",
      "Validation  balanced accuracy score:0.640\n",
      "Validation           accuracy score:0.690\n"
     ]
    }
   ],
   "source": [
    "clf_l2 = LogisticRegression(penalty='l2',C=0.75,random_state=0,solver='liblinear',max_iter=1000,class_weight='balanced').fit(train_X,train_y.ravel())\n",
    "print_f1_scores(clf_l2,train_X,train_y,val_X,val_y,\"Validation\")"
   ]
  },
  {
   "cell_type": "code",
   "execution_count": 84,
   "metadata": {},
   "outputs": [
    {
     "data": {
      "text/plain": [
       "<sklearn.metrics._plot.confusion_matrix.ConfusionMatrixDisplay at 0x227a4efdfd0>"
      ]
     },
     "execution_count": 84,
     "metadata": {},
     "output_type": "execute_result"
    },
    {
     "data": {
      "image/png": "[encoded data removed]",
      "text/plain": [
       "<Figure size 432x288 with 2 Axes>"
      ]
     },
     "metadata": {
      "needs_background": "light"
     },
     "output_type": "display_data"
    }
   ],
   "source": [
    "from sklearn.metrics import plot_confusion_matrix \n",
    "plot_confusion_matrix(clf,val_X,val_y)"
   ]
  },
  {
   "cell_type": "code",
   "execution_count": 85,
   "metadata": {},
   "outputs": [
    {
     "data": {
      "text/plain": [
       "<sklearn.metrics._plot.confusion_matrix.ConfusionMatrixDisplay at 0x227a8b24340>"
      ]
     },
     "execution_count": 85,
     "metadata": {},
     "output_type": "execute_result"
    },
    {
     "data": {
      "image/png": "[encoded data removed]",
      "text/plain": [
       "<Figure size 432x288 with 2 Axes>"
      ]
     },
     "metadata": {
      "needs_background": "light"
     },
     "output_type": "display_data"
    }
   ],
   "source": [
    "from sklearn.metrics import plot_confusion_matrix \n",
    "plot_confusion_matrix(clf_l1,val_X,val_y)"
   ]
  },
  {
   "cell_type": "code",
   "execution_count": 86,
   "metadata": {},
   "outputs": [
    {
     "name": "stdout",
     "output_type": "stream",
     "text": [
      "               precision    recall  f1-score   support\n",
      "\n",
      "validation_L0       0.89      0.71      0.79     10001\n",
      "validation_L1       0.28      0.57      0.38      1992\n",
      "\n",
      "     accuracy                           0.69     11993\n",
      "    macro avg       0.59      0.64      0.59     11993\n",
      " weighted avg       0.79      0.69      0.72     11993\n",
      "\n"
     ]
    }
   ],
   "source": [
    "print_classification_report(clf,val_X,val_y,\"validation\")"
   ]
  },
  {
   "cell_type": "code",
   "execution_count": 87,
   "metadata": {},
   "outputs": [],
   "source": [
    "from sklearn.preprocessing import  MinMaxScaler\n",
    "from sklearn.preprocessing import  StandardScaler\n",
    "\n",
    "MinMaxScaler_Train = MinMaxScaler().fit(train_X)\n",
    "train_X_scale= MinMaxScaler_Train.transform(train_X)"
   ]
  },
  {
   "cell_type": "code",
   "execution_count": 88,
   "metadata": {},
   "outputs": [],
   "source": [
    "val_X_scale = MinMaxScaler_Train.transform(val_X)"
   ]
  },
  {
   "cell_type": "code",
   "execution_count": 89,
   "metadata": {},
   "outputs": [
    {
     "name": "stdout",
     "output_type": "stream",
     "text": [
      "Train   balanced accuracy score:0.648\n",
      "Train            accuracy score:0.696\n",
      "Validation LogReg Scale  balanced accuracy score:0.640\n",
      "Validation LogReg Scale           accuracy score:0.690\n"
     ]
    }
   ],
   "source": [
    "clf_scale = LogisticRegression(random_state=0,solver='liblinear',max_iter=1000,class_weight='balanced').fit(train_X_scale,train_y.ravel())\n",
    "print_f1_scores(clf_scale,train_X_scale,train_y,val_X_scale,val_y,\"Validation LogReg Scale\")"
   ]
  },
  {
   "cell_type": "code",
   "execution_count": 90,
   "metadata": {},
   "outputs": [
    {
     "name": "stdout",
     "output_type": "stream",
     "text": [
      "Train   balanced accuracy score:0.648\n",
      "Train            accuracy score:0.696\n",
      "Validation LogReg Standard  balanced accuracy score:0.640\n",
      "Validation LogReg Standard           accuracy score:0.690\n"
     ]
    }
   ],
   "source": [
    "StandardScaler_Train = StandardScaler().fit(train_X)\n",
    "train_X_std= StandardScaler_Train.transform(train_X)\n",
    "val_X_std = StandardScaler_Train.transform(val_X)\n",
    "clf_std = LogisticRegression(random_state=0,solver='liblinear',max_iter=1000,class_weight='balanced').fit(train_X_std,train_y.ravel())\n",
    "print_f1_scores(clf_std,train_X_std,train_y,val_X_std,val_y,\"Validation LogReg Standard\")\n"
   ]
  },
  {
   "cell_type": "code",
   "execution_count": 91,
   "metadata": {},
   "outputs": [
    {
     "name": "stdout",
     "output_type": "stream",
     "text": [
      "                             precision    recall  f1-score   support\n",
      "\n",
      "validation_log_reg_scale_L0       0.86      0.46      0.60     10001\n",
      "validation_log_reg_scale_L1       0.18      0.62      0.28      1992\n",
      "\n",
      "                   accuracy                           0.48     11993\n",
      "                  macro avg       0.52      0.54      0.44     11993\n",
      "               weighted avg       0.74      0.48      0.54     11993\n",
      "\n"
     ]
    }
   ],
   "source": [
    "print_classification_report(clf_scale,val_X,val_y,\"validation_log_reg_scale\")"
   ]
  },
  {
   "cell_type": "markdown",
   "metadata": {},
   "source": [
    "<b>The precision for L0 is good whereas the precision for LOS =1 is not that great with this model "
   ]
  },
  {
   "cell_type": "code",
   "execution_count": 92,
   "metadata": {},
   "outputs": [
    {
     "name": "stdout",
     "output_type": "stream",
     "text": [
      "Train   balanced accuracy score:0.648\n",
      "Train            accuracy score:0.696\n",
      "Validation LogReg StandardScaling  balanced accuracy score:0.640\n",
      "Validation LogReg StandardScaling           accuracy score:0.690\n"
     ]
    }
   ],
   "source": [
    "StandardScaler_Train = StandardScaler().fit(train_X)\n",
    "train_X_std= StandardScaler_Train.transform(train_X)\n",
    "val_X_std = StandardScaler_Train.transform(val_X)\n",
    "clf_std = LogisticRegression(penalty='l2',C=0.75,random_state=0,solver='liblinear',max_iter=1000,class_weight='balanced').fit(train_X_std,train_y.ravel())\n",
    "print_f1_scores(clf_std,train_X_std,train_y,val_X_std,val_y,\"Validation LogReg StandardScaling\")"
   ]
  },
  {
   "cell_type": "code",
   "execution_count": 93,
   "metadata": {},
   "outputs": [
    {
     "name": "stdout",
     "output_type": "stream",
     "text": [
      "              precision    recall  f1-score   support\n",
      "\n",
      "          L0       0.89      0.72      0.79     10001\n",
      "          L1       0.28      0.56      0.38      1992\n",
      "\n",
      "    accuracy                           0.69     11993\n",
      "   macro avg       0.59      0.64      0.59     11993\n",
      "weighted avg       0.79      0.69      0.72     11993\n",
      "\n"
     ]
    }
   ],
   "source": [
    "val_pred = clf_std.predict(val_X_std)\n",
    "from sklearn.metrics import classification_report\n",
    "label_names = ['L0','L1']\n",
    "print(classification_report(val_y,val_pred,target_names=label_names))"
   ]
  },
  {
   "cell_type": "markdown",
   "metadata": {},
   "source": [
    "<b> So since there is a class imbalance the data works extremely good with LOS=0 with precision being .90"
   ]
  },
  {
   "cell_type": "code",
   "execution_count": 94,
   "metadata": {},
   "outputs": [
    {
     "name": "stdout",
     "output_type": "stream",
     "text": [
      "                precision    recall  f1-score   support\n",
      "\n",
      "Test LogReg_L0       0.89      0.72      0.79      9943\n",
      "Test LogReg_L1       0.30      0.59      0.40      2051\n",
      "\n",
      "      accuracy                           0.69     11994\n",
      "     macro avg       0.60      0.65      0.59     11994\n",
      "  weighted avg       0.79      0.69      0.73     11994\n",
      "\n"
     ]
    }
   ],
   "source": [
    "test_pred = clf.predict(test_X)\n",
    "from sklearn.metrics import classification_report\n",
    "label_names = ['L0','L1']\n",
    "print_classification_report(clf,test_X,test_y,tag=\"Test LogReg\")"
   ]
  },
  {
   "cell_type": "code",
   "execution_count": 95,
   "metadata": {},
   "outputs": [
    {
     "name": "stdout",
     "output_type": "stream",
     "text": [
      "Train   balanced accuracy score:0.648\n",
      "Train            accuracy score:0.695\n",
      "Test LogReg   balanced accuracy score:0.651\n",
      "Test LogReg            accuracy score:0.693\n"
     ]
    }
   ],
   "source": [
    "print_f1_scores(clf,train_X,train_y,test_X,test_y,\"Test LogReg \")"
   ]
  },
  {
   "cell_type": "code",
   "execution_count": null,
   "metadata": {},
   "outputs": [],
   "source": []
  },
  {
   "cell_type": "markdown",
   "metadata": {},
   "source": [
    "<b> So the test score is also 0.648 !!!"
   ]
  },
  {
   "cell_type": "code",
   "execution_count": 96,
   "metadata": {},
   "outputs": [
    {
     "name": "stdout",
     "output_type": "stream",
     "text": [
      "Train   balanced accuracy score:0.648\n",
      "Train            accuracy score:0.695\n",
      "Test LogReg  balanced accuracy score:0.651\n",
      "Test LogReg           accuracy score:0.693\n"
     ]
    }
   ],
   "source": [
    "print_f1_scores(clf,train_X,train_y,test_X,test_y,\"Test LogReg\")"
   ]
  },
  {
   "cell_type": "code",
   "execution_count": 97,
   "metadata": {},
   "outputs": [
    {
     "name": "stdout",
     "output_type": "stream",
     "text": [
      "Train   balanced accuracy score:0.648\n",
      "Train            accuracy score:0.695\n",
      "Validation logReg  balanced accuracy score:0.640\n",
      "Validation logReg           accuracy score:0.690\n"
     ]
    }
   ],
   "source": [
    "print_f1_scores(clf,train_X,train_y,val_X,val_y,\"Validation logReg\")"
   ]
  },
  {
   "cell_type": "code",
   "execution_count": 98,
   "metadata": {},
   "outputs": [
    {
     "name": "stdout",
     "output_type": "stream",
     "text": [
      "Train   balanced accuracy score:0.689\n",
      "Train            accuracy score:0.895\n",
      "RF Train   balanced accuracy score:0.576\n",
      "RF Train            accuracy score:0.844\n",
      "Train   balanced accuracy score:0.689\n",
      "Train            accuracy score:0.895\n",
      "RF Test   balanced accuracy score:0.569\n",
      "RF Test            accuracy score:0.837\n"
     ]
    }
   ],
   "source": [
    "from sklearn.ensemble import RandomForestClassifier\n",
    "rf = RandomForestClassifier(max_depth=16, random_state=0)\n",
    "rf.fit(train_X, train_y)\n",
    "print_f1_scores(rf,train_X,train_y,val_X,val_y,\"RF Train \")\n",
    "print_f1_scores(rf,train_X,train_y,test_X,test_y,\"RF Test \")"
   ]
  },
  {
   "cell_type": "code",
   "execution_count": 99,
   "metadata": {},
   "outputs": [
    {
     "name": "stdout",
     "output_type": "stream",
     "text": [
      "Train   balanced accuracy score:0.812\n",
      "Train            accuracy score:0.931\n",
      "RF Validation   balanced accuracy score:0.590\n",
      "RF Validation            accuracy score:0.825\n",
      "Train   balanced accuracy score:0.812\n",
      "Train            accuracy score:0.931\n",
      "RF Validation   balanced accuracy score:0.587\n",
      "RF Validation            accuracy score:0.820\n"
     ]
    }
   ],
   "source": [
    "rf = RandomForestClassifier(min_samples_split=4, random_state=0)\n",
    "rf.fit(train_X, train_y)\n",
    "print_f1_scores(rf,train_X,train_y,val_X,val_y, \"RF Validation \")\n",
    "print_f1_scores(rf,train_X,train_y,test_X,test_y,\"RF Validation \")"
   ]
  },
  {
   "cell_type": "code",
   "execution_count": 100,
   "metadata": {},
   "outputs": [
    {
     "name": "stdout",
     "output_type": "stream",
     "text": [
      "              precision    recall  f1-score   support\n",
      "\n",
      "RF Train _L0       0.93      0.99      0.96     29951\n",
      "RF Train _L1       0.94      0.63      0.76      6028\n",
      "\n",
      "    accuracy                           0.93     35979\n",
      "   macro avg       0.93      0.81      0.86     35979\n",
      "weighted avg       0.93      0.93      0.93     35979\n",
      "\n",
      "                   precision    recall  f1-score   support\n",
      "\n",
      "RF Validation _L0       0.86      0.94      0.90     10001\n",
      "RF Validation _L1       0.45      0.24      0.31      1992\n",
      "\n",
      "         accuracy                           0.83     11993\n",
      "        macro avg       0.66      0.59      0.61     11993\n",
      "     weighted avg       0.79      0.83      0.80     11993\n",
      "\n"
     ]
    }
   ],
   "source": [
    "print_classification_report(rf,train_X,train_y,tag=\"RF Train \")\n",
    "print_classification_report(rf,val_X,val_y    ,tag=\"RF Validation \")"
   ]
  },
  {
   "cell_type": "code",
   "execution_count": 101,
   "metadata": {},
   "outputs": [
    {
     "name": "stdout",
     "output_type": "stream",
     "text": [
      "              precision    recall  f1-score   support\n",
      "\n",
      " RF Test _L0       0.86      0.94      0.90      9943\n",
      " RF Test _L1       0.45      0.23      0.31      2051\n",
      "\n",
      "    accuracy                           0.82     11994\n",
      "   macro avg       0.65      0.59      0.60     11994\n",
      "weighted avg       0.79      0.82      0.80     11994\n",
      "\n"
     ]
    }
   ],
   "source": [
    "print_classification_report(rf,test_X,test_y  ,tag=\"RF Test \")"
   ]
  },
  {
   "cell_type": "code",
   "execution_count": 102,
   "metadata": {},
   "outputs": [
    {
     "name": "stdout",
     "output_type": "stream",
     "text": [
      "0.8662753950338601\n",
      "              precision    recall  f1-score   support\n",
      "\n",
      "           0       0.86      0.92      0.89     10001\n",
      "           1       0.40      0.25      0.31      1992\n",
      "\n",
      "    accuracy                           0.81     11993\n",
      "   macro avg       0.63      0.59      0.60     11993\n",
      "weighted avg       0.78      0.81      0.80     11993\n",
      "\n",
      "0.7554412346656114\n",
      "              precision    recall  f1-score   support\n",
      "\n",
      "           0       0.86      0.94      0.90     10001\n",
      "           1       0.45      0.24      0.31      1992\n",
      "\n",
      "    accuracy                           0.83     11993\n",
      "   macro avg       0.66      0.59      0.61     11993\n",
      "weighted avg       0.79      0.83      0.80     11993\n",
      "\n",
      "0.6592166879523201\n",
      "              precision    recall  f1-score   support\n",
      "\n",
      "           0       0.86      0.96      0.91     10001\n",
      "           1       0.50      0.22      0.30      1992\n",
      "\n",
      "    accuracy                           0.83     11993\n",
      "   macro avg       0.68      0.59      0.60     11993\n",
      "weighted avg       0.80      0.83      0.80     11993\n",
      "\n",
      "0.5983077265642396\n",
      "              precision    recall  f1-score   support\n",
      "\n",
      "           0       0.86      0.96      0.91     10001\n",
      "           1       0.54      0.21      0.30      1992\n",
      "\n",
      "    accuracy                           0.84     11993\n",
      "   macro avg       0.70      0.59      0.61     11993\n",
      "weighted avg       0.81      0.84      0.81     11993\n",
      "\n",
      "0.5489970025363154\n",
      "              precision    recall  f1-score   support\n",
      "\n",
      "           0       0.86      0.97      0.91     10001\n",
      "           1       0.57      0.20      0.30      1992\n",
      "\n",
      "    accuracy                           0.84     11993\n",
      "   macro avg       0.71      0.59      0.60     11993\n",
      "weighted avg       0.81      0.84      0.81     11993\n",
      "\n",
      "0.5050409204127624\n",
      "              precision    recall  f1-score   support\n",
      "\n",
      "           0       0.86      0.97      0.91     10001\n",
      "           1       0.59      0.19      0.29      1992\n",
      "\n",
      "    accuracy                           0.84     11993\n",
      "   macro avg       0.72      0.58      0.60     11993\n",
      "weighted avg       0.81      0.84      0.81     11993\n",
      "\n",
      "0.4741744284504657\n",
      "              precision    recall  f1-score   support\n",
      "\n",
      "           0       0.86      0.98      0.91     10001\n",
      "           1       0.62      0.19      0.29      1992\n",
      "\n",
      "    accuracy                           0.85     11993\n",
      "   macro avg       0.74      0.58      0.60     11993\n",
      "weighted avg       0.82      0.85      0.81     11993\n",
      "\n"
     ]
    }
   ],
   "source": [
    "from sklearn.metrics import *\n",
    "train_acc=list()\n",
    "val_acc  =list()\n",
    "train_class = list()\n",
    "val_class = list()\n",
    "for split in [2,4,6,8,10,12,14]:\n",
    "    rf = RandomForestClassifier(min_samples_split=split, random_state=0)\n",
    "    rf.fit(train_X, train_y)\n",
    "    pred_train_y = rf.predict(train_X)\n",
    "    pred_val_y   = rf.predict(val_X)\n",
    "    train_acc.append(balanced_accuracy_score(train_y,pred_train_y))\n",
    "    val_acc.append(balanced_accuracy_score(val_y,pred_val_y))\n",
    "    labels_target = ['1']\n",
    "    report = f1_score(train_y,pred_train_y,labels=labels_target)\n",
    "    \n",
    "    print(report)\n",
    "    train_class.append(classification_report(train_y,pred_train_y))\n",
    "    val_class.append(classification_report(val_y,pred_val_y))\n",
    "    print(classification_report(val_y,pred_val_y))\n",
    "    "
   ]
  },
  {
   "cell_type": "code",
   "execution_count": 103,
   "metadata": {},
   "outputs": [
    {
     "name": "stdout",
     "output_type": "stream",
     "text": [
      "7\n",
      "[0.8937196818727833, 0.8123149751096443, 0.7523604828607806, 0.7184192957543993, 0.693071130867433, 0.6720184302575871, 0.657917044200285]\n"
     ]
    }
   ],
   "source": [
    "print(len(train_acc))\n",
    "print(train_acc)"
   ]
  },
  {
   "cell_type": "code",
   "execution_count": 104,
   "metadata": {},
   "outputs": [
    {
     "data": {
      "image/png": "[encoded data removed]",
      "text/plain": [
       "<Figure size 432x288 with 1 Axes>"
      ]
     },
     "metadata": {
      "needs_background": "light"
     },
     "output_type": "display_data"
    }
   ],
   "source": [
    "splits=[2,4,6,8,10,12,14]\n",
    "plt.plot(splits,train_acc,'r--')\n",
    "plt.plot(splits,val_acc,'b--')\n",
    "plt.show()"
   ]
  },
  {
   "cell_type": "code",
   "execution_count": 105,
   "metadata": {},
   "outputs": [
    {
     "name": "stdout",
     "output_type": "stream",
     "text": [
      "              precision    recall  f1-score   support\n",
      "\n",
      "           0       0.83      1.00      0.91     10001\n",
      "           1       1.00      0.00      0.00      1992\n",
      "\n",
      "    accuracy                           0.83     11993\n",
      "   macro avg       0.92      0.50      0.46     11993\n",
      "weighted avg       0.86      0.83      0.76     11993\n",
      "\n",
      "              precision    recall  f1-score   support\n",
      "\n",
      "           0       0.84      1.00      0.91     10001\n",
      "           1       0.79      0.06      0.10      1992\n",
      "\n",
      "    accuracy                           0.84     11993\n",
      "   macro avg       0.81      0.53      0.51     11993\n",
      "weighted avg       0.83      0.84      0.78     11993\n",
      "\n",
      "              precision    recall  f1-score   support\n",
      "\n",
      "           0       0.84      0.99      0.91     10001\n",
      "           1       0.74      0.07      0.13      1992\n",
      "\n",
      "    accuracy                           0.84     11993\n",
      "   macro avg       0.79      0.53      0.52     11993\n",
      "weighted avg       0.83      0.84      0.78     11993\n",
      "\n",
      "              precision    recall  f1-score   support\n",
      "\n",
      "           0       0.85      0.99      0.91     10001\n",
      "           1       0.71      0.11      0.19      1992\n",
      "\n",
      "    accuracy                           0.84     11993\n",
      "   macro avg       0.78      0.55      0.55     11993\n",
      "weighted avg       0.83      0.84      0.79     11993\n",
      "\n",
      "              precision    recall  f1-score   support\n",
      "\n",
      "           0       0.85      0.99      0.91     10001\n",
      "           1       0.68      0.14      0.23      1992\n",
      "\n",
      "    accuracy                           0.85     11993\n",
      "   macro avg       0.76      0.56      0.57     11993\n",
      "weighted avg       0.82      0.85      0.80     11993\n",
      "\n",
      "              precision    recall  f1-score   support\n",
      "\n",
      "           0       0.85      0.98      0.91     10001\n",
      "           1       0.65      0.16      0.25      1992\n",
      "\n",
      "    accuracy                           0.85     11993\n",
      "   macro avg       0.75      0.57      0.58     11993\n",
      "weighted avg       0.82      0.85      0.80     11993\n",
      "\n",
      "[0.5007298223240406, 0.5278787829677214, 0.5430704534725896, 0.5760308858372679, 0.6103576036612953, 0.6504081362088492]\n"
     ]
    },
    {
     "data": {
      "image/png": "[encoded data removed]",
      "text/plain": [
       "<Figure size 432x288 with 1 Axes>"
      ]
     },
     "metadata": {
      "needs_background": "light"
     },
     "output_type": "display_data"
    },
    {
     "data": {
      "image/png": "[encoded data removed]",
      "text/plain": [
       "<Figure size 432x288 with 1 Axes>"
      ]
     },
     "metadata": {
      "needs_background": "light"
     },
     "output_type": "display_data"
    },
    {
     "data": {
      "image/png": "[encoded data removed]",
      "text/plain": [
       "<Figure size 432x288 with 1 Axes>"
      ]
     },
     "metadata": {
      "needs_background": "light"
     },
     "output_type": "display_data"
    },
    {
     "data": {
      "image/png": "[encoded data removed]",
      "text/plain": [
       "<Figure size 432x288 with 1 Axes>"
      ]
     },
     "metadata": {
      "needs_background": "light"
     },
     "output_type": "display_data"
    },
    {
     "data": {
      "image/png": "[encoded data removed]",
      "text/plain": [
       "<Figure size 432x288 with 1 Axes>"
      ]
     },
     "metadata": {
      "needs_background": "light"
     },
     "output_type": "display_data"
    },
    {
     "data": {
      "image/png": "[encoded data removed]",
      "text/plain": [
       "<Figure size 432x288 with 1 Axes>"
      ]
     },
     "metadata": {
      "needs_background": "light"
     },
     "output_type": "display_data"
    }
   ],
   "source": [
    "from sklearn.metrics import *\n",
    "train_acc=list()\n",
    "val_acc  =list()\n",
    "train_class = list()\n",
    "val_class = list()\n",
    "for depth in [4,6,8,10,12,14]:\n",
    "    rf = RandomForestClassifier(max_depth=depth, random_state=0)\n",
    "    rf.fit(train_X, train_y)\n",
    "    pred_train_y = rf.predict(train_X)\n",
    "    pred_val_y   = rf.predict(val_X)\n",
    "    train_acc.append(balanced_accuracy_score(train_y,pred_train_y))\n",
    "    val_acc.append(balanced_accuracy_score(val_y,pred_val_y))\n",
    "    #labels_target = ['0','1']\n",
    "    #report = f1_score(train_y,pred_train_y,labels=labels_target)\n",
    "    \n",
    "    #print(report)\n",
    "    train_class.append(classification_report(train_y,pred_train_y))\n",
    "    val_class.append(classification_report(val_y,pred_val_y))\n",
    "    print(classification_report(val_y,pred_val_y))\n",
    "    plot_roc_curve(rf,val_X,val_y)\n",
    "\n",
    "print(train_acc)\n",
    "    "
   ]
  },
  {
   "cell_type": "code",
   "execution_count": 106,
   "metadata": {},
   "outputs": [
    {
     "data": {
      "text/plain": [
       "<sklearn.metrics._plot.roc_curve.RocCurveDisplay at 0x227abcf7d30>"
      ]
     },
     "execution_count": 106,
     "metadata": {},
     "output_type": "execute_result"
    },
    {
     "data": {
      "image/png": "[encoded data removed]",
      "text/plain": [
       "<Figure size 432x288 with 1 Axes>"
      ]
     },
     "metadata": {
      "needs_background": "light"
     },
     "output_type": "display_data"
    }
   ],
   "source": [
    "plot_roc_curve(rf,val_X,val_y)"
   ]
  },
  {
   "cell_type": "code",
   "execution_count": 107,
   "metadata": {},
   "outputs": [
    {
     "data": {
      "text/plain": [
       "<sklearn.metrics._plot.roc_curve.RocCurveDisplay at 0x227ab75efd0>"
      ]
     },
     "execution_count": 107,
     "metadata": {},
     "output_type": "execute_result"
    },
    {
     "data": {
      "image/png": "[encoded data removed]",
      "text/plain": [
       "<Figure size 432x288 with 1 Axes>"
      ]
     },
     "metadata": {
      "needs_background": "light"
     },
     "output_type": "display_data"
    }
   ],
   "source": [
    "rf = RandomForestClassifier(max_depth=12, random_state=0)\n",
    "rf.fit(train_X, train_y)\n",
    "pred_test_y = rf.predict(test_X)\n",
    "plot_roc_curve(rf,test_X,test_y)"
   ]
  },
  {
   "cell_type": "code",
   "execution_count": 108,
   "metadata": {},
   "outputs": [
    {
     "data": {
      "text/plain": [
       "<sklearn.metrics._plot.roc_curve.RocCurveDisplay at 0x227ab75e790>"
      ]
     },
     "execution_count": 108,
     "metadata": {},
     "output_type": "execute_result"
    },
    {
     "data": {
      "image/png": "[encoded data removed]",
      "text/plain": [
       "<Figure size 432x288 with 1 Axes>"
      ]
     },
     "metadata": {
      "needs_background": "light"
     },
     "output_type": "display_data"
    }
   ],
   "source": [
    "plot_roc_curve(clf,test_X,test_y)"
   ]
  },
  {
   "cell_type": "markdown",
   "metadata": {},
   "source": [
    "<b>So we shall choose the randomforest classifier at depth 12 as our model giving slightly better AUC around 0.76"
   ]
  },
  {
   "cell_type": "markdown",
   "metadata": {},
   "source": [
    "<b>***Finally lets generate the prediction ***"
   ]
  },
  {
   "cell_type": "code",
   "execution_count": 110,
   "metadata": {},
   "outputs": [
    {
     "data": {
      "text/plain": [
       "(69177, 32)"
      ]
     },
     "execution_count": 110,
     "metadata": {},
     "output_type": "execute_result"
    }
   ],
   "source": [
    "df_test.shape"
   ]
  },
  {
   "cell_type": "code",
   "execution_count": 111,
   "metadata": {},
   "outputs": [],
   "source": [
    "test_pred=rf.predict(df_test.to_numpy())"
   ]
  },
  {
   "cell_type": "code",
   "execution_count": 112,
   "metadata": {},
   "outputs": [
    {
     "name": "stdout",
     "output_type": "stream",
     "text": [
      "(69177,)\n"
     ]
    }
   ],
   "source": [
    "print(test_pred.shape)"
   ]
  },
  {
   "cell_type": "code",
   "execution_count": 114,
   "metadata": {},
   "outputs": [
    {
     "data": {
      "text/plain": [
       "array([0, 0, 0], dtype=int64)"
      ]
     },
     "execution_count": 114,
     "metadata": {},
     "output_type": "execute_result"
    }
   ],
   "source": [
    "test_pred[0:3]"
   ]
  },
  {
   "cell_type": "code",
   "execution_count": 120,
   "metadata": {},
   "outputs": [],
   "source": [
    "unique,counts = np.unique(test_pred,return_counts=True)"
   ]
  },
  {
   "cell_type": "code",
   "execution_count": 121,
   "metadata": {},
   "outputs": [
    {
     "name": "stdout",
     "output_type": "stream",
     "text": [
      "[68175  1002]\n"
     ]
    }
   ],
   "source": [
    "print(counts)"
   ]
  },
  {
   "cell_type": "code",
   "execution_count": 130,
   "metadata": {},
   "outputs": [],
   "source": [
    "f = open('s3785704_predictions.csv','w+')\n",
    "i=1\n",
    "length = len(test_pred)\n",
    "f.write('ID,LengthOfStay\\n')\n",
    "for i in range(0,length):\n",
    "    if i+1 == length:\n",
    "        string = str(i+1)+ ',' + str(test_pred[i]) \n",
    "    else:\n",
    "        string = str(i+1)+ ',' + str(test_pred[i]) + '\\n'\n",
    "    f.write(string)\n",
    "f.close()"
   ]
  },
  {
   "cell_type": "code",
   "execution_count": null,
   "metadata": {},
   "outputs": [],
   "source": []
  }
 ],
 "metadata": {
  "kernelspec": {
   "display_name": "Python 3",
   "language": "python",
   "name": "python3"
  },
  "language_info": {
   "codemirror_mode": {
    "name": "ipython",
    "version": 3
   },
   "file_extension": ".py",
   "mimetype": "text/x-python",
   "name": "python",
   "nbconvert_exporter": "python",
   "pygments_lexer": "ipython3",
   "version": "3.8.5"
  }
 },
 "nbformat": 4,
 "nbformat_minor": 5
}
